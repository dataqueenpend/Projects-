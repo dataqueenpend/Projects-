{
  "nbformat": 4,
  "nbformat_minor": 0,
  "metadata": {
    "colab": {
      "name": "Feature_Selection_And_Model_Building_House_Prices_dataset.ipynb",
      "provenance": [],
      "collapsed_sections": [
        "g-6ufLkc_okT",
        "_dz-hMmc-bCc",
        "3qlqv7uZ-leR",
        "atV4lc68-s3j"
      ],
      "authorship_tag": "ABX9TyOF7DlsbSVykDG21xeJ3GvZ",
      "include_colab_link": true
    },
    "kernelspec": {
      "name": "python3",
      "display_name": "Python 3"
    },
    "language_info": {
      "name": "python"
    }
  },
  "cells": [
    {
      "cell_type": "markdown",
      "metadata": {
        "id": "view-in-github",
        "colab_type": "text"
      },
      "source": [
        "<a href=\"https://colab.research.google.com/github/dataqueenpend/Projects-/blob/main/Feature_Selection_And_Model_Building_House_Prices_dataset_testing.ipynb\" target=\"_parent\"><img src=\"https://colab.research.google.com/assets/colab-badge.svg\" alt=\"Open In Colab\"/></a>"
      ]
    },
    {
      "cell_type": "markdown",
      "source": [
        "videos to watch before performing feature selection:\n",
        "* [Linear Regression Indepth Maths Intuition- Data Science]('https://www.youtube.com/watch?v=1-OGRohmH2s')\n",
        "* [Machine Learning-Bias And Variance In Depth Intuition| Overfitting Underfitting]('https://www.youtube.com/watch?v=BqzgUnrNhFM')\n",
        "* [Ridge and Lasso Regression Indepth Intuition- Data Science]('https://www.youtube.com/watch?v=9lRv01HDU0s')\n",
        "* [Advance House Price Prediction-Feature Selection]('https://www.youtube.com/watch?v=1JXrxCJoHuw&list=PLZoTAELRMXVPQyArDHyQVjQxjj_YmEuO9&index=5')"
      ],
      "metadata": {
        "id": "XtHtiJACQutF"
      }
    },
    {
      "cell_type": "code",
      "execution_count": 87,
      "metadata": {
        "id": "DFT0FaoYHgRO"
      },
      "outputs": [],
      "source": [
        "import pandas as pd\n",
        "import numpy as np\n",
        "import matplotlib.pyplot as plt\n",
        "%matplotlib inline\n",
        "from sklearn.linear_model import Lasso\n",
        "from sklearn.feature_selection import SelectFromModel\n",
        "import warnings\n",
        "warnings.filterwarnings('ignore')\n",
        "\n"
      ]
    },
    {
      "cell_type": "code",
      "source": [
        "train = pd.read_csv('/content/train_after_fe.csv')\n",
        "test = pd.read_csv('/content/test_after_fe.csv')"
      ],
      "metadata": {
        "id": "HzmExc2Bwen6"
      },
      "execution_count": 88,
      "outputs": []
    },
    {
      "cell_type": "code",
      "source": [
        "train.head()"
      ],
      "metadata": {
        "colab": {
          "base_uri": "https://localhost:8080/",
          "height": 317
        },
        "id": "hwLLZ5ViwrcN",
        "outputId": "f123cd7c-10b9-4750-cea2-637fb9fdb8df"
      },
      "execution_count": 89,
      "outputs": [
        {
          "output_type": "execute_result",
          "data": {
            "text/html": [
              "\n",
              "  <div id=\"df-18fc540d-e1d6-495c-acd4-1fac58ffb4ec\">\n",
              "    <div class=\"colab-df-container\">\n",
              "      <div>\n",
              "<style scoped>\n",
              "    .dataframe tbody tr th:only-of-type {\n",
              "        vertical-align: middle;\n",
              "    }\n",
              "\n",
              "    .dataframe tbody tr th {\n",
              "        vertical-align: top;\n",
              "    }\n",
              "\n",
              "    .dataframe thead th {\n",
              "        text-align: right;\n",
              "    }\n",
              "</style>\n",
              "<table border=\"1\" class=\"dataframe\">\n",
              "  <thead>\n",
              "    <tr style=\"text-align: right;\">\n",
              "      <th></th>\n",
              "      <th>Id</th>\n",
              "      <th>SalePrice</th>\n",
              "      <th>MSSubClass</th>\n",
              "      <th>MSZoning</th>\n",
              "      <th>LotFrontage</th>\n",
              "      <th>LotArea</th>\n",
              "      <th>Street</th>\n",
              "      <th>Alley</th>\n",
              "      <th>LotShape</th>\n",
              "      <th>LandContour</th>\n",
              "      <th>Utilities</th>\n",
              "      <th>LotConfig</th>\n",
              "      <th>LandSlope</th>\n",
              "      <th>Neighborhood</th>\n",
              "      <th>Condition1</th>\n",
              "      <th>Condition2</th>\n",
              "      <th>BldgType</th>\n",
              "      <th>HouseStyle</th>\n",
              "      <th>OverallQual</th>\n",
              "      <th>OverallCond</th>\n",
              "      <th>YearBuilt</th>\n",
              "      <th>YearRemodAdd</th>\n",
              "      <th>RoofStyle</th>\n",
              "      <th>RoofMatl</th>\n",
              "      <th>Exterior1st</th>\n",
              "      <th>Exterior2nd</th>\n",
              "      <th>MasVnrType</th>\n",
              "      <th>MasVnrArea</th>\n",
              "      <th>ExterQual</th>\n",
              "      <th>ExterCond</th>\n",
              "      <th>Foundation</th>\n",
              "      <th>BsmtQual</th>\n",
              "      <th>BsmtCond</th>\n",
              "      <th>BsmtExposure</th>\n",
              "      <th>BsmtFinType1</th>\n",
              "      <th>BsmtFinSF1</th>\n",
              "      <th>BsmtFinType2</th>\n",
              "      <th>BsmtFinSF2</th>\n",
              "      <th>BsmtUnfSF</th>\n",
              "      <th>TotalBsmtSF</th>\n",
              "      <th>...</th>\n",
              "      <th>1stFlrSF</th>\n",
              "      <th>2ndFlrSF</th>\n",
              "      <th>LowQualFinSF</th>\n",
              "      <th>GrLivArea</th>\n",
              "      <th>BsmtFullBath</th>\n",
              "      <th>BsmtHalfBath</th>\n",
              "      <th>FullBath</th>\n",
              "      <th>HalfBath</th>\n",
              "      <th>BedroomAbvGr</th>\n",
              "      <th>KitchenAbvGr</th>\n",
              "      <th>KitchenQual</th>\n",
              "      <th>TotRmsAbvGrd</th>\n",
              "      <th>Functional</th>\n",
              "      <th>Fireplaces</th>\n",
              "      <th>FireplaceQu</th>\n",
              "      <th>GarageType</th>\n",
              "      <th>GarageYrBlt</th>\n",
              "      <th>GarageFinish</th>\n",
              "      <th>GarageCars</th>\n",
              "      <th>GarageArea</th>\n",
              "      <th>GarageQual</th>\n",
              "      <th>GarageCond</th>\n",
              "      <th>PavedDrive</th>\n",
              "      <th>WoodDeckSF</th>\n",
              "      <th>OpenPorchSF</th>\n",
              "      <th>EnclosedPorch</th>\n",
              "      <th>3SsnPorch</th>\n",
              "      <th>ScreenPorch</th>\n",
              "      <th>PoolArea</th>\n",
              "      <th>PoolQC</th>\n",
              "      <th>Fence</th>\n",
              "      <th>MiscFeature</th>\n",
              "      <th>MiscVal</th>\n",
              "      <th>MoSold</th>\n",
              "      <th>YrSold</th>\n",
              "      <th>SaleType</th>\n",
              "      <th>SaleCondition</th>\n",
              "      <th>LotFrontage NaN</th>\n",
              "      <th>MasVnrArea NaN</th>\n",
              "      <th>GarageYrBlt NaN</th>\n",
              "    </tr>\n",
              "  </thead>\n",
              "  <tbody>\n",
              "    <tr>\n",
              "      <th>0</th>\n",
              "      <td>1</td>\n",
              "      <td>12.247694</td>\n",
              "      <td>0.235294</td>\n",
              "      <td>0.75</td>\n",
              "      <td>0.418208</td>\n",
              "      <td>0.366344</td>\n",
              "      <td>1.0</td>\n",
              "      <td>1.0</td>\n",
              "      <td>0.000000</td>\n",
              "      <td>0.333333</td>\n",
              "      <td>1.0</td>\n",
              "      <td>0.00</td>\n",
              "      <td>0.0</td>\n",
              "      <td>0.636364</td>\n",
              "      <td>0.4</td>\n",
              "      <td>1.0</td>\n",
              "      <td>0.75</td>\n",
              "      <td>1.0</td>\n",
              "      <td>0.666667</td>\n",
              "      <td>0.500</td>\n",
              "      <td>0.036765</td>\n",
              "      <td>0.098361</td>\n",
              "      <td>0.0</td>\n",
              "      <td>0.0</td>\n",
              "      <td>1.0</td>\n",
              "      <td>1.0</td>\n",
              "      <td>0.50</td>\n",
              "      <td>0.12250</td>\n",
              "      <td>0.666667</td>\n",
              "      <td>1.0</td>\n",
              "      <td>1.00</td>\n",
              "      <td>0.75</td>\n",
              "      <td>0.75</td>\n",
              "      <td>0.25</td>\n",
              "      <td>1.000000</td>\n",
              "      <td>0.125089</td>\n",
              "      <td>0.833333</td>\n",
              "      <td>0.0</td>\n",
              "      <td>0.064212</td>\n",
              "      <td>0.140098</td>\n",
              "      <td>...</td>\n",
              "      <td>0.356155</td>\n",
              "      <td>0.413559</td>\n",
              "      <td>0.0</td>\n",
              "      <td>0.577712</td>\n",
              "      <td>0.333333</td>\n",
              "      <td>0.0</td>\n",
              "      <td>0.666667</td>\n",
              "      <td>0.5</td>\n",
              "      <td>0.375</td>\n",
              "      <td>0.333333</td>\n",
              "      <td>0.666667</td>\n",
              "      <td>0.500000</td>\n",
              "      <td>1.0</td>\n",
              "      <td>0.000000</td>\n",
              "      <td>0.2</td>\n",
              "      <td>0.8</td>\n",
              "      <td>0.046729</td>\n",
              "      <td>0.666667</td>\n",
              "      <td>0.50</td>\n",
              "      <td>0.386460</td>\n",
              "      <td>0.666667</td>\n",
              "      <td>1.0</td>\n",
              "      <td>1.0</td>\n",
              "      <td>0.000000</td>\n",
              "      <td>0.111517</td>\n",
              "      <td>0.000000</td>\n",
              "      <td>0.0</td>\n",
              "      <td>0.0</td>\n",
              "      <td>0.0</td>\n",
              "      <td>0.0</td>\n",
              "      <td>1.0</td>\n",
              "      <td>1.0</td>\n",
              "      <td>0.0</td>\n",
              "      <td>0.090909</td>\n",
              "      <td>0.50</td>\n",
              "      <td>0.666667</td>\n",
              "      <td>0.75</td>\n",
              "      <td>0.0</td>\n",
              "      <td>0.0</td>\n",
              "      <td>0.0</td>\n",
              "    </tr>\n",
              "    <tr>\n",
              "      <th>1</th>\n",
              "      <td>2</td>\n",
              "      <td>12.109011</td>\n",
              "      <td>0.000000</td>\n",
              "      <td>0.75</td>\n",
              "      <td>0.495064</td>\n",
              "      <td>0.391317</td>\n",
              "      <td>1.0</td>\n",
              "      <td>1.0</td>\n",
              "      <td>0.000000</td>\n",
              "      <td>0.333333</td>\n",
              "      <td>1.0</td>\n",
              "      <td>0.50</td>\n",
              "      <td>0.0</td>\n",
              "      <td>0.500000</td>\n",
              "      <td>0.2</td>\n",
              "      <td>1.0</td>\n",
              "      <td>0.75</td>\n",
              "      <td>0.6</td>\n",
              "      <td>0.555556</td>\n",
              "      <td>0.875</td>\n",
              "      <td>0.227941</td>\n",
              "      <td>0.524590</td>\n",
              "      <td>0.0</td>\n",
              "      <td>0.0</td>\n",
              "      <td>0.4</td>\n",
              "      <td>0.3</td>\n",
              "      <td>0.25</td>\n",
              "      <td>0.00000</td>\n",
              "      <td>0.333333</td>\n",
              "      <td>1.0</td>\n",
              "      <td>0.50</td>\n",
              "      <td>0.75</td>\n",
              "      <td>0.75</td>\n",
              "      <td>1.00</td>\n",
              "      <td>0.666667</td>\n",
              "      <td>0.173281</td>\n",
              "      <td>0.833333</td>\n",
              "      <td>0.0</td>\n",
              "      <td>0.121575</td>\n",
              "      <td>0.206547</td>\n",
              "      <td>...</td>\n",
              "      <td>0.503056</td>\n",
              "      <td>0.000000</td>\n",
              "      <td>0.0</td>\n",
              "      <td>0.470245</td>\n",
              "      <td>0.000000</td>\n",
              "      <td>0.5</td>\n",
              "      <td>0.666667</td>\n",
              "      <td>0.0</td>\n",
              "      <td>0.375</td>\n",
              "      <td>0.333333</td>\n",
              "      <td>0.333333</td>\n",
              "      <td>0.333333</td>\n",
              "      <td>1.0</td>\n",
              "      <td>0.333333</td>\n",
              "      <td>0.6</td>\n",
              "      <td>0.8</td>\n",
              "      <td>0.289720</td>\n",
              "      <td>0.666667</td>\n",
              "      <td>0.50</td>\n",
              "      <td>0.324401</td>\n",
              "      <td>0.666667</td>\n",
              "      <td>1.0</td>\n",
              "      <td>1.0</td>\n",
              "      <td>0.347725</td>\n",
              "      <td>0.000000</td>\n",
              "      <td>0.000000</td>\n",
              "      <td>0.0</td>\n",
              "      <td>0.0</td>\n",
              "      <td>0.0</td>\n",
              "      <td>0.0</td>\n",
              "      <td>1.0</td>\n",
              "      <td>1.0</td>\n",
              "      <td>0.0</td>\n",
              "      <td>0.363636</td>\n",
              "      <td>0.25</td>\n",
              "      <td>0.666667</td>\n",
              "      <td>0.75</td>\n",
              "      <td>0.0</td>\n",
              "      <td>0.0</td>\n",
              "      <td>0.0</td>\n",
              "    </tr>\n",
              "    <tr>\n",
              "      <th>2</th>\n",
              "      <td>3</td>\n",
              "      <td>12.317167</td>\n",
              "      <td>0.235294</td>\n",
              "      <td>0.75</td>\n",
              "      <td>0.434909</td>\n",
              "      <td>0.422359</td>\n",
              "      <td>1.0</td>\n",
              "      <td>1.0</td>\n",
              "      <td>0.333333</td>\n",
              "      <td>0.333333</td>\n",
              "      <td>1.0</td>\n",
              "      <td>0.00</td>\n",
              "      <td>0.0</td>\n",
              "      <td>0.636364</td>\n",
              "      <td>0.4</td>\n",
              "      <td>1.0</td>\n",
              "      <td>0.75</td>\n",
              "      <td>1.0</td>\n",
              "      <td>0.666667</td>\n",
              "      <td>0.500</td>\n",
              "      <td>0.051471</td>\n",
              "      <td>0.114754</td>\n",
              "      <td>0.0</td>\n",
              "      <td>0.0</td>\n",
              "      <td>1.0</td>\n",
              "      <td>1.0</td>\n",
              "      <td>0.50</td>\n",
              "      <td>0.10125</td>\n",
              "      <td>0.666667</td>\n",
              "      <td>1.0</td>\n",
              "      <td>1.00</td>\n",
              "      <td>0.75</td>\n",
              "      <td>0.75</td>\n",
              "      <td>0.50</td>\n",
              "      <td>1.000000</td>\n",
              "      <td>0.086109</td>\n",
              "      <td>0.833333</td>\n",
              "      <td>0.0</td>\n",
              "      <td>0.185788</td>\n",
              "      <td>0.150573</td>\n",
              "      <td>...</td>\n",
              "      <td>0.383441</td>\n",
              "      <td>0.419370</td>\n",
              "      <td>0.0</td>\n",
              "      <td>0.593095</td>\n",
              "      <td>0.333333</td>\n",
              "      <td>0.0</td>\n",
              "      <td>0.666667</td>\n",
              "      <td>0.5</td>\n",
              "      <td>0.375</td>\n",
              "      <td>0.333333</td>\n",
              "      <td>0.666667</td>\n",
              "      <td>0.333333</td>\n",
              "      <td>1.0</td>\n",
              "      <td>0.333333</td>\n",
              "      <td>0.6</td>\n",
              "      <td>0.8</td>\n",
              "      <td>0.065421</td>\n",
              "      <td>0.666667</td>\n",
              "      <td>0.50</td>\n",
              "      <td>0.428773</td>\n",
              "      <td>0.666667</td>\n",
              "      <td>1.0</td>\n",
              "      <td>1.0</td>\n",
              "      <td>0.000000</td>\n",
              "      <td>0.076782</td>\n",
              "      <td>0.000000</td>\n",
              "      <td>0.0</td>\n",
              "      <td>0.0</td>\n",
              "      <td>0.0</td>\n",
              "      <td>0.0</td>\n",
              "      <td>1.0</td>\n",
              "      <td>1.0</td>\n",
              "      <td>0.0</td>\n",
              "      <td>0.727273</td>\n",
              "      <td>0.50</td>\n",
              "      <td>0.666667</td>\n",
              "      <td>0.75</td>\n",
              "      <td>0.0</td>\n",
              "      <td>0.0</td>\n",
              "      <td>0.0</td>\n",
              "    </tr>\n",
              "    <tr>\n",
              "      <th>3</th>\n",
              "      <td>4</td>\n",
              "      <td>11.849398</td>\n",
              "      <td>0.294118</td>\n",
              "      <td>0.75</td>\n",
              "      <td>0.388581</td>\n",
              "      <td>0.390295</td>\n",
              "      <td>1.0</td>\n",
              "      <td>1.0</td>\n",
              "      <td>0.333333</td>\n",
              "      <td>0.333333</td>\n",
              "      <td>1.0</td>\n",
              "      <td>0.25</td>\n",
              "      <td>0.0</td>\n",
              "      <td>0.727273</td>\n",
              "      <td>0.4</td>\n",
              "      <td>1.0</td>\n",
              "      <td>0.75</td>\n",
              "      <td>1.0</td>\n",
              "      <td>0.666667</td>\n",
              "      <td>0.500</td>\n",
              "      <td>0.669118</td>\n",
              "      <td>0.606557</td>\n",
              "      <td>0.0</td>\n",
              "      <td>0.0</td>\n",
              "      <td>0.2</td>\n",
              "      <td>0.4</td>\n",
              "      <td>0.25</td>\n",
              "      <td>0.00000</td>\n",
              "      <td>0.333333</td>\n",
              "      <td>1.0</td>\n",
              "      <td>0.25</td>\n",
              "      <td>0.50</td>\n",
              "      <td>1.00</td>\n",
              "      <td>0.25</td>\n",
              "      <td>0.666667</td>\n",
              "      <td>0.038271</td>\n",
              "      <td>0.833333</td>\n",
              "      <td>0.0</td>\n",
              "      <td>0.231164</td>\n",
              "      <td>0.123732</td>\n",
              "      <td>...</td>\n",
              "      <td>0.399941</td>\n",
              "      <td>0.366102</td>\n",
              "      <td>0.0</td>\n",
              "      <td>0.579157</td>\n",
              "      <td>0.333333</td>\n",
              "      <td>0.0</td>\n",
              "      <td>0.333333</td>\n",
              "      <td>0.0</td>\n",
              "      <td>0.375</td>\n",
              "      <td>0.333333</td>\n",
              "      <td>0.666667</td>\n",
              "      <td>0.416667</td>\n",
              "      <td>1.0</td>\n",
              "      <td>0.333333</td>\n",
              "      <td>0.8</td>\n",
              "      <td>0.4</td>\n",
              "      <td>0.074766</td>\n",
              "      <td>0.333333</td>\n",
              "      <td>0.75</td>\n",
              "      <td>0.452750</td>\n",
              "      <td>0.666667</td>\n",
              "      <td>1.0</td>\n",
              "      <td>1.0</td>\n",
              "      <td>0.000000</td>\n",
              "      <td>0.063985</td>\n",
              "      <td>0.492754</td>\n",
              "      <td>0.0</td>\n",
              "      <td>0.0</td>\n",
              "      <td>0.0</td>\n",
              "      <td>0.0</td>\n",
              "      <td>1.0</td>\n",
              "      <td>1.0</td>\n",
              "      <td>0.0</td>\n",
              "      <td>0.090909</td>\n",
              "      <td>0.00</td>\n",
              "      <td>0.666667</td>\n",
              "      <td>0.00</td>\n",
              "      <td>0.0</td>\n",
              "      <td>0.0</td>\n",
              "      <td>0.0</td>\n",
              "    </tr>\n",
              "    <tr>\n",
              "      <th>4</th>\n",
              "      <td>5</td>\n",
              "      <td>12.429216</td>\n",
              "      <td>0.235294</td>\n",
              "      <td>0.75</td>\n",
              "      <td>0.513123</td>\n",
              "      <td>0.468761</td>\n",
              "      <td>1.0</td>\n",
              "      <td>1.0</td>\n",
              "      <td>0.333333</td>\n",
              "      <td>0.333333</td>\n",
              "      <td>1.0</td>\n",
              "      <td>0.50</td>\n",
              "      <td>0.0</td>\n",
              "      <td>1.000000</td>\n",
              "      <td>0.4</td>\n",
              "      <td>1.0</td>\n",
              "      <td>0.75</td>\n",
              "      <td>1.0</td>\n",
              "      <td>0.777778</td>\n",
              "      <td>0.500</td>\n",
              "      <td>0.058824</td>\n",
              "      <td>0.147541</td>\n",
              "      <td>0.0</td>\n",
              "      <td>0.0</td>\n",
              "      <td>1.0</td>\n",
              "      <td>1.0</td>\n",
              "      <td>0.50</td>\n",
              "      <td>0.21875</td>\n",
              "      <td>0.666667</td>\n",
              "      <td>1.0</td>\n",
              "      <td>1.00</td>\n",
              "      <td>0.75</td>\n",
              "      <td>0.75</td>\n",
              "      <td>0.75</td>\n",
              "      <td>1.000000</td>\n",
              "      <td>0.116052</td>\n",
              "      <td>0.833333</td>\n",
              "      <td>0.0</td>\n",
              "      <td>0.209760</td>\n",
              "      <td>0.187398</td>\n",
              "      <td>...</td>\n",
              "      <td>0.466237</td>\n",
              "      <td>0.509927</td>\n",
              "      <td>0.0</td>\n",
              "      <td>0.666523</td>\n",
              "      <td>0.333333</td>\n",
              "      <td>0.0</td>\n",
              "      <td>0.666667</td>\n",
              "      <td>0.5</td>\n",
              "      <td>0.500</td>\n",
              "      <td>0.333333</td>\n",
              "      <td>0.666667</td>\n",
              "      <td>0.583333</td>\n",
              "      <td>1.0</td>\n",
              "      <td>0.333333</td>\n",
              "      <td>0.6</td>\n",
              "      <td>0.8</td>\n",
              "      <td>0.074766</td>\n",
              "      <td>0.666667</td>\n",
              "      <td>0.75</td>\n",
              "      <td>0.589563</td>\n",
              "      <td>0.666667</td>\n",
              "      <td>1.0</td>\n",
              "      <td>1.0</td>\n",
              "      <td>0.224037</td>\n",
              "      <td>0.153565</td>\n",
              "      <td>0.000000</td>\n",
              "      <td>0.0</td>\n",
              "      <td>0.0</td>\n",
              "      <td>0.0</td>\n",
              "      <td>0.0</td>\n",
              "      <td>1.0</td>\n",
              "      <td>1.0</td>\n",
              "      <td>0.0</td>\n",
              "      <td>1.000000</td>\n",
              "      <td>0.50</td>\n",
              "      <td>0.666667</td>\n",
              "      <td>0.75</td>\n",
              "      <td>0.0</td>\n",
              "      <td>0.0</td>\n",
              "      <td>0.0</td>\n",
              "    </tr>\n",
              "  </tbody>\n",
              "</table>\n",
              "<p>5 rows × 84 columns</p>\n",
              "</div>\n",
              "      <button class=\"colab-df-convert\" onclick=\"convertToInteractive('df-18fc540d-e1d6-495c-acd4-1fac58ffb4ec')\"\n",
              "              title=\"Convert this dataframe to an interactive table.\"\n",
              "              style=\"display:none;\">\n",
              "        \n",
              "  <svg xmlns=\"http://www.w3.org/2000/svg\" height=\"24px\"viewBox=\"0 0 24 24\"\n",
              "       width=\"24px\">\n",
              "    <path d=\"M0 0h24v24H0V0z\" fill=\"none\"/>\n",
              "    <path d=\"M18.56 5.44l.94 2.06.94-2.06 2.06-.94-2.06-.94-.94-2.06-.94 2.06-2.06.94zm-11 1L8.5 8.5l.94-2.06 2.06-.94-2.06-.94L8.5 2.5l-.94 2.06-2.06.94zm10 10l.94 2.06.94-2.06 2.06-.94-2.06-.94-.94-2.06-.94 2.06-2.06.94z\"/><path d=\"M17.41 7.96l-1.37-1.37c-.4-.4-.92-.59-1.43-.59-.52 0-1.04.2-1.43.59L10.3 9.45l-7.72 7.72c-.78.78-.78 2.05 0 2.83L4 21.41c.39.39.9.59 1.41.59.51 0 1.02-.2 1.41-.59l7.78-7.78 2.81-2.81c.8-.78.8-2.07 0-2.86zM5.41 20L4 18.59l7.72-7.72 1.47 1.35L5.41 20z\"/>\n",
              "  </svg>\n",
              "      </button>\n",
              "      \n",
              "  <style>\n",
              "    .colab-df-container {\n",
              "      display:flex;\n",
              "      flex-wrap:wrap;\n",
              "      gap: 12px;\n",
              "    }\n",
              "\n",
              "    .colab-df-convert {\n",
              "      background-color: #E8F0FE;\n",
              "      border: none;\n",
              "      border-radius: 50%;\n",
              "      cursor: pointer;\n",
              "      display: none;\n",
              "      fill: #1967D2;\n",
              "      height: 32px;\n",
              "      padding: 0 0 0 0;\n",
              "      width: 32px;\n",
              "    }\n",
              "\n",
              "    .colab-df-convert:hover {\n",
              "      background-color: #E2EBFA;\n",
              "      box-shadow: 0px 1px 2px rgba(60, 64, 67, 0.3), 0px 1px 3px 1px rgba(60, 64, 67, 0.15);\n",
              "      fill: #174EA6;\n",
              "    }\n",
              "\n",
              "    [theme=dark] .colab-df-convert {\n",
              "      background-color: #3B4455;\n",
              "      fill: #D2E3FC;\n",
              "    }\n",
              "\n",
              "    [theme=dark] .colab-df-convert:hover {\n",
              "      background-color: #434B5C;\n",
              "      box-shadow: 0px 1px 3px 1px rgba(0, 0, 0, 0.15);\n",
              "      filter: drop-shadow(0px 1px 2px rgba(0, 0, 0, 0.3));\n",
              "      fill: #FFFFFF;\n",
              "    }\n",
              "  </style>\n",
              "\n",
              "      <script>\n",
              "        const buttonEl =\n",
              "          document.querySelector('#df-18fc540d-e1d6-495c-acd4-1fac58ffb4ec button.colab-df-convert');\n",
              "        buttonEl.style.display =\n",
              "          google.colab.kernel.accessAllowed ? 'block' : 'none';\n",
              "\n",
              "        async function convertToInteractive(key) {\n",
              "          const element = document.querySelector('#df-18fc540d-e1d6-495c-acd4-1fac58ffb4ec');\n",
              "          const dataTable =\n",
              "            await google.colab.kernel.invokeFunction('convertToInteractive',\n",
              "                                                     [key], {});\n",
              "          if (!dataTable) return;\n",
              "\n",
              "          const docLinkHtml = 'Like what you see? Visit the ' +\n",
              "            '<a target=\"_blank\" href=https://colab.research.google.com/notebooks/data_table.ipynb>data table notebook</a>'\n",
              "            + ' to learn more about interactive tables.';\n",
              "          element.innerHTML = '';\n",
              "          dataTable['output_type'] = 'display_data';\n",
              "          await google.colab.output.renderOutput(dataTable, element);\n",
              "          const docLink = document.createElement('div');\n",
              "          docLink.innerHTML = docLinkHtml;\n",
              "          element.appendChild(docLink);\n",
              "        }\n",
              "      </script>\n",
              "    </div>\n",
              "  </div>\n",
              "  "
            ],
            "text/plain": [
              "   Id  SalePrice  MSSubClass  ...  LotFrontage NaN  MasVnrArea NaN  GarageYrBlt NaN\n",
              "0   1  12.247694    0.235294  ...              0.0             0.0              0.0\n",
              "1   2  12.109011    0.000000  ...              0.0             0.0              0.0\n",
              "2   3  12.317167    0.235294  ...              0.0             0.0              0.0\n",
              "3   4  11.849398    0.294118  ...              0.0             0.0              0.0\n",
              "4   5  12.429216    0.235294  ...              0.0             0.0              0.0\n",
              "\n",
              "[5 rows x 84 columns]"
            ]
          },
          "metadata": {},
          "execution_count": 89
        }
      ]
    },
    {
      "cell_type": "code",
      "source": [
        "test.head()"
      ],
      "metadata": {
        "colab": {
          "base_uri": "https://localhost:8080/",
          "height": 317
        },
        "id": "S8FwDnZZwXo_",
        "outputId": "deef1544-bbc2-4a32-875a-a52baf182b74"
      },
      "execution_count": 90,
      "outputs": [
        {
          "output_type": "execute_result",
          "data": {
            "text/html": [
              "\n",
              "  <div id=\"df-7ec05ae6-5375-4c3a-99d0-ae3ea1d01ca7\">\n",
              "    <div class=\"colab-df-container\">\n",
              "      <div>\n",
              "<style scoped>\n",
              "    .dataframe tbody tr th:only-of-type {\n",
              "        vertical-align: middle;\n",
              "    }\n",
              "\n",
              "    .dataframe tbody tr th {\n",
              "        vertical-align: top;\n",
              "    }\n",
              "\n",
              "    .dataframe thead th {\n",
              "        text-align: right;\n",
              "    }\n",
              "</style>\n",
              "<table border=\"1\" class=\"dataframe\">\n",
              "  <thead>\n",
              "    <tr style=\"text-align: right;\">\n",
              "      <th></th>\n",
              "      <th>Id</th>\n",
              "      <th>MSSubClass</th>\n",
              "      <th>MSZoning</th>\n",
              "      <th>LotFrontage</th>\n",
              "      <th>LotArea</th>\n",
              "      <th>Street</th>\n",
              "      <th>Alley</th>\n",
              "      <th>LotShape</th>\n",
              "      <th>LandContour</th>\n",
              "      <th>Utilities</th>\n",
              "      <th>LotConfig</th>\n",
              "      <th>LandSlope</th>\n",
              "      <th>Neighborhood</th>\n",
              "      <th>Condition1</th>\n",
              "      <th>Condition2</th>\n",
              "      <th>BldgType</th>\n",
              "      <th>HouseStyle</th>\n",
              "      <th>OverallQual</th>\n",
              "      <th>OverallCond</th>\n",
              "      <th>YearBuilt</th>\n",
              "      <th>YearRemodAdd</th>\n",
              "      <th>RoofStyle</th>\n",
              "      <th>RoofMatl</th>\n",
              "      <th>Exterior1st</th>\n",
              "      <th>Exterior2nd</th>\n",
              "      <th>MasVnrType</th>\n",
              "      <th>MasVnrArea</th>\n",
              "      <th>ExterQual</th>\n",
              "      <th>ExterCond</th>\n",
              "      <th>Foundation</th>\n",
              "      <th>BsmtQual</th>\n",
              "      <th>BsmtCond</th>\n",
              "      <th>BsmtExposure</th>\n",
              "      <th>BsmtFinType1</th>\n",
              "      <th>BsmtFinSF1</th>\n",
              "      <th>BsmtFinType2</th>\n",
              "      <th>BsmtFinSF2</th>\n",
              "      <th>BsmtUnfSF</th>\n",
              "      <th>TotalBsmtSF</th>\n",
              "      <th>Heating</th>\n",
              "      <th>...</th>\n",
              "      <th>LowQualFinSF</th>\n",
              "      <th>GrLivArea</th>\n",
              "      <th>BsmtFullBath</th>\n",
              "      <th>BsmtHalfBath</th>\n",
              "      <th>FullBath</th>\n",
              "      <th>HalfBath</th>\n",
              "      <th>BedroomAbvGr</th>\n",
              "      <th>KitchenAbvGr</th>\n",
              "      <th>KitchenQual</th>\n",
              "      <th>TotRmsAbvGrd</th>\n",
              "      <th>Functional</th>\n",
              "      <th>Fireplaces</th>\n",
              "      <th>FireplaceQu</th>\n",
              "      <th>GarageType</th>\n",
              "      <th>GarageYrBlt</th>\n",
              "      <th>GarageFinish</th>\n",
              "      <th>GarageCars</th>\n",
              "      <th>GarageArea</th>\n",
              "      <th>GarageQual</th>\n",
              "      <th>GarageCond</th>\n",
              "      <th>PavedDrive</th>\n",
              "      <th>WoodDeckSF</th>\n",
              "      <th>OpenPorchSF</th>\n",
              "      <th>EnclosedPorch</th>\n",
              "      <th>3SsnPorch</th>\n",
              "      <th>ScreenPorch</th>\n",
              "      <th>PoolArea</th>\n",
              "      <th>PoolQC</th>\n",
              "      <th>Fence</th>\n",
              "      <th>MiscFeature</th>\n",
              "      <th>MiscVal</th>\n",
              "      <th>MoSold</th>\n",
              "      <th>YrSold</th>\n",
              "      <th>SaleType</th>\n",
              "      <th>SaleCondition</th>\n",
              "      <th>LotFrontage NaN</th>\n",
              "      <th>MasVnrArea NaN</th>\n",
              "      <th>BsmtFullBath NaN</th>\n",
              "      <th>BsmtHalfBath NaN</th>\n",
              "      <th>GarageYrBlt NaN</th>\n",
              "    </tr>\n",
              "  </thead>\n",
              "  <tbody>\n",
              "    <tr>\n",
              "      <th>0</th>\n",
              "      <td>1461</td>\n",
              "      <td>0.000000</td>\n",
              "      <td>0.50</td>\n",
              "      <td>0.657288</td>\n",
              "      <td>0.614997</td>\n",
              "      <td>1.0</td>\n",
              "      <td>0.5</td>\n",
              "      <td>0.000000</td>\n",
              "      <td>0.333333</td>\n",
              "      <td>1.0</td>\n",
              "      <td>0.50</td>\n",
              "      <td>0.5</td>\n",
              "      <td>0.20</td>\n",
              "      <td>0.166667</td>\n",
              "      <td>0.0</td>\n",
              "      <td>0.75</td>\n",
              "      <td>0.2</td>\n",
              "      <td>0.444444</td>\n",
              "      <td>0.625</td>\n",
              "      <td>0.384615</td>\n",
              "      <td>0.822581</td>\n",
              "      <td>0.0</td>\n",
              "      <td>0.0</td>\n",
              "      <td>0.9</td>\n",
              "      <td>0.909091</td>\n",
              "      <td>0.25</td>\n",
              "      <td>0.000000</td>\n",
              "      <td>0.333333</td>\n",
              "      <td>0.666667</td>\n",
              "      <td>0.0</td>\n",
              "      <td>0.50</td>\n",
              "      <td>0.5</td>\n",
              "      <td>0.25</td>\n",
              "      <td>0.166667</td>\n",
              "      <td>0.116708</td>\n",
              "      <td>0.666667</td>\n",
              "      <td>0.094364</td>\n",
              "      <td>0.126168</td>\n",
              "      <td>0.173111</td>\n",
              "      <td>0.0</td>\n",
              "      <td>...</td>\n",
              "      <td>0.0</td>\n",
              "      <td>0.351478</td>\n",
              "      <td>0.0</td>\n",
              "      <td>0.0</td>\n",
              "      <td>0.25</td>\n",
              "      <td>0.0</td>\n",
              "      <td>0.333333</td>\n",
              "      <td>0.5</td>\n",
              "      <td>0.50</td>\n",
              "      <td>0.166667</td>\n",
              "      <td>0.0</td>\n",
              "      <td>0.00</td>\n",
              "      <td>0.4</td>\n",
              "      <td>0.666667</td>\n",
              "      <td>0.792994</td>\n",
              "      <td>0.333333</td>\n",
              "      <td>0.2</td>\n",
              "      <td>0.490591</td>\n",
              "      <td>0.666667</td>\n",
              "      <td>1.0</td>\n",
              "      <td>1.0</td>\n",
              "      <td>0.098315</td>\n",
              "      <td>0.000000</td>\n",
              "      <td>0.0</td>\n",
              "      <td>0.0</td>\n",
              "      <td>0.208333</td>\n",
              "      <td>0.0</td>\n",
              "      <td>0.0</td>\n",
              "      <td>0.25</td>\n",
              "      <td>1.0</td>\n",
              "      <td>0.000000</td>\n",
              "      <td>0.454545</td>\n",
              "      <td>1.0</td>\n",
              "      <td>0.75</td>\n",
              "      <td>0.75</td>\n",
              "      <td>0.0</td>\n",
              "      <td>0.0</td>\n",
              "      <td>0.0</td>\n",
              "      <td>0.0</td>\n",
              "      <td>0.0</td>\n",
              "    </tr>\n",
              "    <tr>\n",
              "      <th>1</th>\n",
              "      <td>1462</td>\n",
              "      <td>0.000000</td>\n",
              "      <td>0.75</td>\n",
              "      <td>0.662397</td>\n",
              "      <td>0.668388</td>\n",
              "      <td>1.0</td>\n",
              "      <td>0.5</td>\n",
              "      <td>0.333333</td>\n",
              "      <td>0.333333</td>\n",
              "      <td>1.0</td>\n",
              "      <td>0.75</td>\n",
              "      <td>0.5</td>\n",
              "      <td>0.20</td>\n",
              "      <td>0.500000</td>\n",
              "      <td>0.0</td>\n",
              "      <td>0.75</td>\n",
              "      <td>0.2</td>\n",
              "      <td>0.555556</td>\n",
              "      <td>0.625</td>\n",
              "      <td>0.407692</td>\n",
              "      <td>0.870968</td>\n",
              "      <td>1.0</td>\n",
              "      <td>0.0</td>\n",
              "      <td>0.4</td>\n",
              "      <td>0.545455</td>\n",
              "      <td>0.50</td>\n",
              "      <td>0.083721</td>\n",
              "      <td>0.333333</td>\n",
              "      <td>0.666667</td>\n",
              "      <td>0.0</td>\n",
              "      <td>0.50</td>\n",
              "      <td>0.5</td>\n",
              "      <td>0.25</td>\n",
              "      <td>0.500000</td>\n",
              "      <td>0.230175</td>\n",
              "      <td>0.833333</td>\n",
              "      <td>0.000000</td>\n",
              "      <td>0.189720</td>\n",
              "      <td>0.260844</td>\n",
              "      <td>0.0</td>\n",
              "      <td>...</td>\n",
              "      <td>0.0</td>\n",
              "      <td>0.512060</td>\n",
              "      <td>0.0</td>\n",
              "      <td>0.0</td>\n",
              "      <td>0.25</td>\n",
              "      <td>0.5</td>\n",
              "      <td>0.500000</td>\n",
              "      <td>0.5</td>\n",
              "      <td>0.75</td>\n",
              "      <td>0.250000</td>\n",
              "      <td>0.0</td>\n",
              "      <td>0.00</td>\n",
              "      <td>0.4</td>\n",
              "      <td>0.666667</td>\n",
              "      <td>0.802548</td>\n",
              "      <td>0.333333</td>\n",
              "      <td>0.2</td>\n",
              "      <td>0.209677</td>\n",
              "      <td>0.666667</td>\n",
              "      <td>1.0</td>\n",
              "      <td>1.0</td>\n",
              "      <td>0.275983</td>\n",
              "      <td>0.048518</td>\n",
              "      <td>0.0</td>\n",
              "      <td>0.0</td>\n",
              "      <td>0.000000</td>\n",
              "      <td>0.0</td>\n",
              "      <td>0.0</td>\n",
              "      <td>1.00</td>\n",
              "      <td>0.0</td>\n",
              "      <td>0.735294</td>\n",
              "      <td>0.454545</td>\n",
              "      <td>1.0</td>\n",
              "      <td>0.75</td>\n",
              "      <td>0.75</td>\n",
              "      <td>0.0</td>\n",
              "      <td>0.0</td>\n",
              "      <td>0.0</td>\n",
              "      <td>0.0</td>\n",
              "      <td>0.0</td>\n",
              "    </tr>\n",
              "    <tr>\n",
              "      <th>2</th>\n",
              "      <td>1463</td>\n",
              "      <td>0.235294</td>\n",
              "      <td>0.75</td>\n",
              "      <td>0.624887</td>\n",
              "      <td>0.660362</td>\n",
              "      <td>1.0</td>\n",
              "      <td>0.5</td>\n",
              "      <td>0.333333</td>\n",
              "      <td>0.333333</td>\n",
              "      <td>1.0</td>\n",
              "      <td>0.50</td>\n",
              "      <td>0.5</td>\n",
              "      <td>0.65</td>\n",
              "      <td>0.500000</td>\n",
              "      <td>0.0</td>\n",
              "      <td>0.75</td>\n",
              "      <td>1.0</td>\n",
              "      <td>0.444444</td>\n",
              "      <td>0.500</td>\n",
              "      <td>0.107692</td>\n",
              "      <td>0.225806</td>\n",
              "      <td>0.0</td>\n",
              "      <td>0.0</td>\n",
              "      <td>0.9</td>\n",
              "      <td>0.909091</td>\n",
              "      <td>0.25</td>\n",
              "      <td>0.000000</td>\n",
              "      <td>0.333333</td>\n",
              "      <td>0.666667</td>\n",
              "      <td>1.0</td>\n",
              "      <td>0.75</td>\n",
              "      <td>0.5</td>\n",
              "      <td>0.25</td>\n",
              "      <td>1.000000</td>\n",
              "      <td>0.197257</td>\n",
              "      <td>0.833333</td>\n",
              "      <td>0.000000</td>\n",
              "      <td>0.064019</td>\n",
              "      <td>0.182139</td>\n",
              "      <td>0.0</td>\n",
              "      <td>...</td>\n",
              "      <td>0.0</td>\n",
              "      <td>0.591552</td>\n",
              "      <td>0.0</td>\n",
              "      <td>0.0</td>\n",
              "      <td>0.50</td>\n",
              "      <td>0.5</td>\n",
              "      <td>0.500000</td>\n",
              "      <td>0.5</td>\n",
              "      <td>0.50</td>\n",
              "      <td>0.250000</td>\n",
              "      <td>0.0</td>\n",
              "      <td>0.25</td>\n",
              "      <td>0.6</td>\n",
              "      <td>0.666667</td>\n",
              "      <td>0.678344</td>\n",
              "      <td>1.000000</td>\n",
              "      <td>0.4</td>\n",
              "      <td>0.323925</td>\n",
              "      <td>0.666667</td>\n",
              "      <td>1.0</td>\n",
              "      <td>1.0</td>\n",
              "      <td>0.148876</td>\n",
              "      <td>0.045822</td>\n",
              "      <td>0.0</td>\n",
              "      <td>0.0</td>\n",
              "      <td>0.000000</td>\n",
              "      <td>0.0</td>\n",
              "      <td>0.0</td>\n",
              "      <td>0.25</td>\n",
              "      <td>1.0</td>\n",
              "      <td>0.000000</td>\n",
              "      <td>0.181818</td>\n",
              "      <td>1.0</td>\n",
              "      <td>0.75</td>\n",
              "      <td>0.75</td>\n",
              "      <td>0.0</td>\n",
              "      <td>0.0</td>\n",
              "      <td>0.0</td>\n",
              "      <td>0.0</td>\n",
              "      <td>0.0</td>\n",
              "    </tr>\n",
              "    <tr>\n",
              "      <th>3</th>\n",
              "      <td>1464</td>\n",
              "      <td>0.235294</td>\n",
              "      <td>0.75</td>\n",
              "      <td>0.646830</td>\n",
              "      <td>0.574520</td>\n",
              "      <td>1.0</td>\n",
              "      <td>0.5</td>\n",
              "      <td>0.333333</td>\n",
              "      <td>0.333333</td>\n",
              "      <td>1.0</td>\n",
              "      <td>0.50</td>\n",
              "      <td>0.5</td>\n",
              "      <td>0.65</td>\n",
              "      <td>0.500000</td>\n",
              "      <td>0.0</td>\n",
              "      <td>0.75</td>\n",
              "      <td>1.0</td>\n",
              "      <td>0.555556</td>\n",
              "      <td>0.625</td>\n",
              "      <td>0.100000</td>\n",
              "      <td>0.225806</td>\n",
              "      <td>0.0</td>\n",
              "      <td>0.0</td>\n",
              "      <td>0.9</td>\n",
              "      <td>0.909091</td>\n",
              "      <td>0.50</td>\n",
              "      <td>0.015504</td>\n",
              "      <td>0.333333</td>\n",
              "      <td>0.666667</td>\n",
              "      <td>1.0</td>\n",
              "      <td>0.50</td>\n",
              "      <td>0.5</td>\n",
              "      <td>0.25</td>\n",
              "      <td>1.000000</td>\n",
              "      <td>0.150125</td>\n",
              "      <td>0.833333</td>\n",
              "      <td>0.000000</td>\n",
              "      <td>0.151402</td>\n",
              "      <td>0.181747</td>\n",
              "      <td>0.0</td>\n",
              "      <td>...</td>\n",
              "      <td>0.0</td>\n",
              "      <td>0.585589</td>\n",
              "      <td>0.0</td>\n",
              "      <td>0.0</td>\n",
              "      <td>0.50</td>\n",
              "      <td>0.5</td>\n",
              "      <td>0.500000</td>\n",
              "      <td>0.5</td>\n",
              "      <td>0.75</td>\n",
              "      <td>0.333333</td>\n",
              "      <td>0.0</td>\n",
              "      <td>0.25</td>\n",
              "      <td>0.8</td>\n",
              "      <td>0.666667</td>\n",
              "      <td>0.675159</td>\n",
              "      <td>1.000000</td>\n",
              "      <td>0.4</td>\n",
              "      <td>0.315860</td>\n",
              "      <td>0.666667</td>\n",
              "      <td>1.0</td>\n",
              "      <td>1.0</td>\n",
              "      <td>0.252809</td>\n",
              "      <td>0.048518</td>\n",
              "      <td>0.0</td>\n",
              "      <td>0.0</td>\n",
              "      <td>0.000000</td>\n",
              "      <td>0.0</td>\n",
              "      <td>0.0</td>\n",
              "      <td>1.00</td>\n",
              "      <td>1.0</td>\n",
              "      <td>0.000000</td>\n",
              "      <td>0.454545</td>\n",
              "      <td>1.0</td>\n",
              "      <td>0.75</td>\n",
              "      <td>0.75</td>\n",
              "      <td>0.0</td>\n",
              "      <td>0.0</td>\n",
              "      <td>0.0</td>\n",
              "      <td>0.0</td>\n",
              "      <td>0.0</td>\n",
              "    </tr>\n",
              "    <tr>\n",
              "      <th>4</th>\n",
              "      <td>1465</td>\n",
              "      <td>0.588235</td>\n",
              "      <td>0.75</td>\n",
              "      <td>0.381547</td>\n",
              "      <td>0.382619</td>\n",
              "      <td>1.0</td>\n",
              "      <td>0.5</td>\n",
              "      <td>0.333333</td>\n",
              "      <td>1.000000</td>\n",
              "      <td>1.0</td>\n",
              "      <td>0.50</td>\n",
              "      <td>0.5</td>\n",
              "      <td>0.95</td>\n",
              "      <td>0.500000</td>\n",
              "      <td>0.0</td>\n",
              "      <td>0.25</td>\n",
              "      <td>0.2</td>\n",
              "      <td>0.777778</td>\n",
              "      <td>0.500</td>\n",
              "      <td>0.146154</td>\n",
              "      <td>0.322581</td>\n",
              "      <td>0.0</td>\n",
              "      <td>0.0</td>\n",
              "      <td>0.2</td>\n",
              "      <td>0.272727</td>\n",
              "      <td>0.25</td>\n",
              "      <td>0.000000</td>\n",
              "      <td>0.666667</td>\n",
              "      <td>0.666667</td>\n",
              "      <td>1.0</td>\n",
              "      <td>0.75</td>\n",
              "      <td>0.5</td>\n",
              "      <td>0.25</td>\n",
              "      <td>0.500000</td>\n",
              "      <td>0.065586</td>\n",
              "      <td>0.833333</td>\n",
              "      <td>0.000000</td>\n",
              "      <td>0.475234</td>\n",
              "      <td>0.251227</td>\n",
              "      <td>0.0</td>\n",
              "      <td>...</td>\n",
              "      <td>0.0</td>\n",
              "      <td>0.497143</td>\n",
              "      <td>0.0</td>\n",
              "      <td>0.0</td>\n",
              "      <td>0.50</td>\n",
              "      <td>0.0</td>\n",
              "      <td>0.333333</td>\n",
              "      <td>0.5</td>\n",
              "      <td>0.75</td>\n",
              "      <td>0.166667</td>\n",
              "      <td>0.0</td>\n",
              "      <td>0.00</td>\n",
              "      <td>0.4</td>\n",
              "      <td>0.666667</td>\n",
              "      <td>0.694268</td>\n",
              "      <td>0.666667</td>\n",
              "      <td>0.4</td>\n",
              "      <td>0.340054</td>\n",
              "      <td>0.666667</td>\n",
              "      <td>1.0</td>\n",
              "      <td>1.0</td>\n",
              "      <td>0.000000</td>\n",
              "      <td>0.110512</td>\n",
              "      <td>0.0</td>\n",
              "      <td>0.0</td>\n",
              "      <td>0.250000</td>\n",
              "      <td>0.0</td>\n",
              "      <td>0.0</td>\n",
              "      <td>1.00</td>\n",
              "      <td>1.0</td>\n",
              "      <td>0.000000</td>\n",
              "      <td>0.000000</td>\n",
              "      <td>1.0</td>\n",
              "      <td>0.75</td>\n",
              "      <td>0.75</td>\n",
              "      <td>0.0</td>\n",
              "      <td>0.0</td>\n",
              "      <td>0.0</td>\n",
              "      <td>0.0</td>\n",
              "      <td>0.0</td>\n",
              "    </tr>\n",
              "  </tbody>\n",
              "</table>\n",
              "<p>5 rows × 85 columns</p>\n",
              "</div>\n",
              "      <button class=\"colab-df-convert\" onclick=\"convertToInteractive('df-7ec05ae6-5375-4c3a-99d0-ae3ea1d01ca7')\"\n",
              "              title=\"Convert this dataframe to an interactive table.\"\n",
              "              style=\"display:none;\">\n",
              "        \n",
              "  <svg xmlns=\"http://www.w3.org/2000/svg\" height=\"24px\"viewBox=\"0 0 24 24\"\n",
              "       width=\"24px\">\n",
              "    <path d=\"M0 0h24v24H0V0z\" fill=\"none\"/>\n",
              "    <path d=\"M18.56 5.44l.94 2.06.94-2.06 2.06-.94-2.06-.94-.94-2.06-.94 2.06-2.06.94zm-11 1L8.5 8.5l.94-2.06 2.06-.94-2.06-.94L8.5 2.5l-.94 2.06-2.06.94zm10 10l.94 2.06.94-2.06 2.06-.94-2.06-.94-.94-2.06-.94 2.06-2.06.94z\"/><path d=\"M17.41 7.96l-1.37-1.37c-.4-.4-.92-.59-1.43-.59-.52 0-1.04.2-1.43.59L10.3 9.45l-7.72 7.72c-.78.78-.78 2.05 0 2.83L4 21.41c.39.39.9.59 1.41.59.51 0 1.02-.2 1.41-.59l7.78-7.78 2.81-2.81c.8-.78.8-2.07 0-2.86zM5.41 20L4 18.59l7.72-7.72 1.47 1.35L5.41 20z\"/>\n",
              "  </svg>\n",
              "      </button>\n",
              "      \n",
              "  <style>\n",
              "    .colab-df-container {\n",
              "      display:flex;\n",
              "      flex-wrap:wrap;\n",
              "      gap: 12px;\n",
              "    }\n",
              "\n",
              "    .colab-df-convert {\n",
              "      background-color: #E8F0FE;\n",
              "      border: none;\n",
              "      border-radius: 50%;\n",
              "      cursor: pointer;\n",
              "      display: none;\n",
              "      fill: #1967D2;\n",
              "      height: 32px;\n",
              "      padding: 0 0 0 0;\n",
              "      width: 32px;\n",
              "    }\n",
              "\n",
              "    .colab-df-convert:hover {\n",
              "      background-color: #E2EBFA;\n",
              "      box-shadow: 0px 1px 2px rgba(60, 64, 67, 0.3), 0px 1px 3px 1px rgba(60, 64, 67, 0.15);\n",
              "      fill: #174EA6;\n",
              "    }\n",
              "\n",
              "    [theme=dark] .colab-df-convert {\n",
              "      background-color: #3B4455;\n",
              "      fill: #D2E3FC;\n",
              "    }\n",
              "\n",
              "    [theme=dark] .colab-df-convert:hover {\n",
              "      background-color: #434B5C;\n",
              "      box-shadow: 0px 1px 3px 1px rgba(0, 0, 0, 0.15);\n",
              "      filter: drop-shadow(0px 1px 2px rgba(0, 0, 0, 0.3));\n",
              "      fill: #FFFFFF;\n",
              "    }\n",
              "  </style>\n",
              "\n",
              "      <script>\n",
              "        const buttonEl =\n",
              "          document.querySelector('#df-7ec05ae6-5375-4c3a-99d0-ae3ea1d01ca7 button.colab-df-convert');\n",
              "        buttonEl.style.display =\n",
              "          google.colab.kernel.accessAllowed ? 'block' : 'none';\n",
              "\n",
              "        async function convertToInteractive(key) {\n",
              "          const element = document.querySelector('#df-7ec05ae6-5375-4c3a-99d0-ae3ea1d01ca7');\n",
              "          const dataTable =\n",
              "            await google.colab.kernel.invokeFunction('convertToInteractive',\n",
              "                                                     [key], {});\n",
              "          if (!dataTable) return;\n",
              "\n",
              "          const docLinkHtml = 'Like what you see? Visit the ' +\n",
              "            '<a target=\"_blank\" href=https://colab.research.google.com/notebooks/data_table.ipynb>data table notebook</a>'\n",
              "            + ' to learn more about interactive tables.';\n",
              "          element.innerHTML = '';\n",
              "          dataTable['output_type'] = 'display_data';\n",
              "          await google.colab.output.renderOutput(dataTable, element);\n",
              "          const docLink = document.createElement('div');\n",
              "          docLink.innerHTML = docLinkHtml;\n",
              "          element.appendChild(docLink);\n",
              "        }\n",
              "      </script>\n",
              "    </div>\n",
              "  </div>\n",
              "  "
            ],
            "text/plain": [
              "     Id  MSSubClass  ...  BsmtHalfBath NaN  GarageYrBlt NaN\n",
              "0  1461    0.000000  ...               0.0              0.0\n",
              "1  1462    0.000000  ...               0.0              0.0\n",
              "2  1463    0.235294  ...               0.0              0.0\n",
              "3  1464    0.235294  ...               0.0              0.0\n",
              "4  1465    0.588235  ...               0.0              0.0\n",
              "\n",
              "[5 rows x 85 columns]"
            ]
          },
          "metadata": {},
          "execution_count": 90
        }
      ]
    },
    {
      "cell_type": "code",
      "source": [
        "y= train['SalePrice']\n"
      ],
      "metadata": {
        "id": "s0peBjGrwxY2"
      },
      "execution_count": 91,
      "outputs": []
    },
    {
      "cell_type": "code",
      "source": [
        "X = train.drop(['Id', 'SalePrice'], axis=1)"
      ],
      "metadata": {
        "id": "UDlRaBNtw46T"
      },
      "execution_count": 92,
      "outputs": []
    },
    {
      "cell_type": "code",
      "source": [
        "X_val = test.drop('Id', axis=1)"
      ],
      "metadata": {
        "id": "Vdnh6xWYwp8O"
      },
      "execution_count": 93,
      "outputs": []
    },
    {
      "cell_type": "markdown",
      "source": [
        "We'll be using Lasso to select only those features which have a considerable impact on the SalePrice. \n",
        "\n",
        "2 things are important while using Lasso: \n",
        "1. **Alpha parameter** - with this parameter it will depend how many features will be selected with the model. Higher the value of alpha, lasso will be more rigourous and less features will be selected by it. Lower alpha value -> more features will be selected. \n",
        "> we can exeperiment with the right alpha value and calculating f.e. mse, to received the best result. \n",
        "2. **Random Seed** - remember to add the random seed, and select the same seed for the test data lasso also :)\n",
        "\n",
        "If the alpha selection will be needed, please refer to the [Krish Naik notebook]('https://github.com/krishnaik06/RegressionandLasso/blob/master/Lassoand%20Regression.ipynb') - for alpha selection notes. \n",
        "\n",
        "I'll follow the guidance of Krish from His youtube video, and choose the alpha of 0.005 on His recomendation.\n",
        "\n",
        "Maybe I'll explore the alpha next time by myself. "
      ],
      "metadata": {
        "id": "YbPlGeWwvWxC"
      }
    },
    {
      "cell_type": "code",
      "source": [
        "col_sel_mod =  SelectFromModel(Lasso(alpha=0.005, random_state=0))"
      ],
      "metadata": {
        "id": "NwjDPNmgt6Rq"
      },
      "execution_count": 94,
      "outputs": []
    },
    {
      "cell_type": "code",
      "source": [
        "col_sel_mod.fit(X, y)"
      ],
      "metadata": {
        "id": "r07P4S8xyf8w",
        "colab": {
          "base_uri": "https://localhost:8080/"
        },
        "outputId": "af5a1d6f-715f-4709-ba5f-3eea551f6a48"
      },
      "execution_count": 95,
      "outputs": [
        {
          "output_type": "execute_result",
          "data": {
            "text/plain": [
              "SelectFromModel(estimator=Lasso(alpha=0.005, random_state=0))"
            ]
          },
          "metadata": {},
          "execution_count": 95
        }
      ]
    },
    {
      "cell_type": "code",
      "source": [
        "#Lasso accuracy score"
      ],
      "metadata": {
        "id": "10c-fxazn_ld"
      },
      "execution_count": 96,
      "outputs": []
    },
    {
      "cell_type": "code",
      "source": [
        "col_sel_mod.get_support() #Returns an array with selected features (True)"
      ],
      "metadata": {
        "id": "huGuxhvgzJ_B",
        "colab": {
          "base_uri": "https://localhost:8080/"
        },
        "outputId": "ab7da3f1-fcfc-42a1-f5d3-9c2ee0d199ff"
      },
      "execution_count": 97,
      "outputs": [
        {
          "output_type": "execute_result",
          "data": {
            "text/plain": [
              "array([ True,  True, False, False, False, False, False, False, False,\n",
              "       False, False,  True, False, False, False, False,  True, False,\n",
              "       False,  True,  True, False, False, False, False, False, False,\n",
              "       False, False,  True, False,  True, False, False, False, False,\n",
              "       False, False, False,  True,  True, False,  True, False, False,\n",
              "        True,  True, False, False, False, False, False,  True, False,\n",
              "       False,  True,  True,  True, False,  True,  True, False, False,\n",
              "       False,  True, False, False, False, False, False, False, False,\n",
              "       False, False, False, False, False, False,  True, False, False,\n",
              "       False])"
            ]
          },
          "metadata": {},
          "execution_count": 97
        }
      ]
    },
    {
      "cell_type": "code",
      "source": [
        "#Selecting features selected by the model\n",
        "sel_by_lasso = X.columns[(col_sel_mod.get_support())]\n"
      ],
      "metadata": {
        "id": "50o7C03tz0sB"
      },
      "execution_count": 98,
      "outputs": []
    },
    {
      "cell_type": "code",
      "source": [
        "#Checking out the number of selected features in comparison to the number of all features in the df\n",
        "print('Features selected: {}'.format(len(sel_by_lasso)))\n",
        "print('Total numer of features: {}'.format(X.shape[1]))"
      ],
      "metadata": {
        "id": "jXE4Qs1O2Tod",
        "colab": {
          "base_uri": "https://localhost:8080/"
        },
        "outputId": "44b7f076-a17f-4712-bce0-5b9e46c3f44e"
      },
      "execution_count": 99,
      "outputs": [
        {
          "output_type": "stream",
          "name": "stdout",
          "text": [
            "Features selected: 21\n",
            "Total numer of features: 82\n"
          ]
        }
      ]
    },
    {
      "cell_type": "code",
      "source": [
        "print(sel_by_lasso)"
      ],
      "metadata": {
        "id": "RTXaSwmf7uTB",
        "colab": {
          "base_uri": "https://localhost:8080/"
        },
        "outputId": "73ff9a2c-c8fc-48a0-8c15-3c74c4b202f9"
      },
      "execution_count": 100,
      "outputs": [
        {
          "output_type": "stream",
          "name": "stdout",
          "text": [
            "Index(['MSSubClass', 'MSZoning', 'Neighborhood', 'OverallQual', 'YearRemodAdd',\n",
            "       'RoofStyle', 'BsmtQual', 'BsmtExposure', 'HeatingQC', 'CentralAir',\n",
            "       '1stFlrSF', 'GrLivArea', 'BsmtFullBath', 'KitchenQual', 'Fireplaces',\n",
            "       'FireplaceQu', 'GarageType', 'GarageFinish', 'GarageCars', 'PavedDrive',\n",
            "       'SaleCondition'],\n",
            "      dtype='object')\n"
          ]
        }
      ]
    },
    {
      "cell_type": "code",
      "source": [
        "lasso_selected = X[sel_by_lasso]"
      ],
      "metadata": {
        "id": "fV5gzF5e7y_2"
      },
      "execution_count": 101,
      "outputs": []
    },
    {
      "cell_type": "code",
      "source": [
        "lasso_selected.head()"
      ],
      "metadata": {
        "colab": {
          "base_uri": "https://localhost:8080/",
          "height": 270
        },
        "id": "j_l0Ieb-77zJ",
        "outputId": "9fac92ad-1cee-465e-e05e-3cc7aa9497c0"
      },
      "execution_count": 102,
      "outputs": [
        {
          "output_type": "execute_result",
          "data": {
            "text/html": [
              "\n",
              "  <div id=\"df-70c6d93f-e833-4bb6-a10e-82f36ae4c1c2\">\n",
              "    <div class=\"colab-df-container\">\n",
              "      <div>\n",
              "<style scoped>\n",
              "    .dataframe tbody tr th:only-of-type {\n",
              "        vertical-align: middle;\n",
              "    }\n",
              "\n",
              "    .dataframe tbody tr th {\n",
              "        vertical-align: top;\n",
              "    }\n",
              "\n",
              "    .dataframe thead th {\n",
              "        text-align: right;\n",
              "    }\n",
              "</style>\n",
              "<table border=\"1\" class=\"dataframe\">\n",
              "  <thead>\n",
              "    <tr style=\"text-align: right;\">\n",
              "      <th></th>\n",
              "      <th>MSSubClass</th>\n",
              "      <th>MSZoning</th>\n",
              "      <th>Neighborhood</th>\n",
              "      <th>OverallQual</th>\n",
              "      <th>YearRemodAdd</th>\n",
              "      <th>RoofStyle</th>\n",
              "      <th>BsmtQual</th>\n",
              "      <th>BsmtExposure</th>\n",
              "      <th>HeatingQC</th>\n",
              "      <th>CentralAir</th>\n",
              "      <th>1stFlrSF</th>\n",
              "      <th>GrLivArea</th>\n",
              "      <th>BsmtFullBath</th>\n",
              "      <th>KitchenQual</th>\n",
              "      <th>Fireplaces</th>\n",
              "      <th>FireplaceQu</th>\n",
              "      <th>GarageType</th>\n",
              "      <th>GarageFinish</th>\n",
              "      <th>GarageCars</th>\n",
              "      <th>PavedDrive</th>\n",
              "      <th>SaleCondition</th>\n",
              "    </tr>\n",
              "  </thead>\n",
              "  <tbody>\n",
              "    <tr>\n",
              "      <th>0</th>\n",
              "      <td>0.235294</td>\n",
              "      <td>0.75</td>\n",
              "      <td>0.636364</td>\n",
              "      <td>0.666667</td>\n",
              "      <td>0.098361</td>\n",
              "      <td>0.0</td>\n",
              "      <td>0.75</td>\n",
              "      <td>0.25</td>\n",
              "      <td>1.00</td>\n",
              "      <td>1.0</td>\n",
              "      <td>0.356155</td>\n",
              "      <td>0.577712</td>\n",
              "      <td>0.333333</td>\n",
              "      <td>0.666667</td>\n",
              "      <td>0.000000</td>\n",
              "      <td>0.2</td>\n",
              "      <td>0.8</td>\n",
              "      <td>0.666667</td>\n",
              "      <td>0.50</td>\n",
              "      <td>1.0</td>\n",
              "      <td>0.75</td>\n",
              "    </tr>\n",
              "    <tr>\n",
              "      <th>1</th>\n",
              "      <td>0.000000</td>\n",
              "      <td>0.75</td>\n",
              "      <td>0.500000</td>\n",
              "      <td>0.555556</td>\n",
              "      <td>0.524590</td>\n",
              "      <td>0.0</td>\n",
              "      <td>0.75</td>\n",
              "      <td>1.00</td>\n",
              "      <td>1.00</td>\n",
              "      <td>1.0</td>\n",
              "      <td>0.503056</td>\n",
              "      <td>0.470245</td>\n",
              "      <td>0.000000</td>\n",
              "      <td>0.333333</td>\n",
              "      <td>0.333333</td>\n",
              "      <td>0.6</td>\n",
              "      <td>0.8</td>\n",
              "      <td>0.666667</td>\n",
              "      <td>0.50</td>\n",
              "      <td>1.0</td>\n",
              "      <td>0.75</td>\n",
              "    </tr>\n",
              "    <tr>\n",
              "      <th>2</th>\n",
              "      <td>0.235294</td>\n",
              "      <td>0.75</td>\n",
              "      <td>0.636364</td>\n",
              "      <td>0.666667</td>\n",
              "      <td>0.114754</td>\n",
              "      <td>0.0</td>\n",
              "      <td>0.75</td>\n",
              "      <td>0.50</td>\n",
              "      <td>1.00</td>\n",
              "      <td>1.0</td>\n",
              "      <td>0.383441</td>\n",
              "      <td>0.593095</td>\n",
              "      <td>0.333333</td>\n",
              "      <td>0.666667</td>\n",
              "      <td>0.333333</td>\n",
              "      <td>0.6</td>\n",
              "      <td>0.8</td>\n",
              "      <td>0.666667</td>\n",
              "      <td>0.50</td>\n",
              "      <td>1.0</td>\n",
              "      <td>0.75</td>\n",
              "    </tr>\n",
              "    <tr>\n",
              "      <th>3</th>\n",
              "      <td>0.294118</td>\n",
              "      <td>0.75</td>\n",
              "      <td>0.727273</td>\n",
              "      <td>0.666667</td>\n",
              "      <td>0.606557</td>\n",
              "      <td>0.0</td>\n",
              "      <td>0.50</td>\n",
              "      <td>0.25</td>\n",
              "      <td>0.75</td>\n",
              "      <td>1.0</td>\n",
              "      <td>0.399941</td>\n",
              "      <td>0.579157</td>\n",
              "      <td>0.333333</td>\n",
              "      <td>0.666667</td>\n",
              "      <td>0.333333</td>\n",
              "      <td>0.8</td>\n",
              "      <td>0.4</td>\n",
              "      <td>0.333333</td>\n",
              "      <td>0.75</td>\n",
              "      <td>1.0</td>\n",
              "      <td>0.00</td>\n",
              "    </tr>\n",
              "    <tr>\n",
              "      <th>4</th>\n",
              "      <td>0.235294</td>\n",
              "      <td>0.75</td>\n",
              "      <td>1.000000</td>\n",
              "      <td>0.777778</td>\n",
              "      <td>0.147541</td>\n",
              "      <td>0.0</td>\n",
              "      <td>0.75</td>\n",
              "      <td>0.75</td>\n",
              "      <td>1.00</td>\n",
              "      <td>1.0</td>\n",
              "      <td>0.466237</td>\n",
              "      <td>0.666523</td>\n",
              "      <td>0.333333</td>\n",
              "      <td>0.666667</td>\n",
              "      <td>0.333333</td>\n",
              "      <td>0.6</td>\n",
              "      <td>0.8</td>\n",
              "      <td>0.666667</td>\n",
              "      <td>0.75</td>\n",
              "      <td>1.0</td>\n",
              "      <td>0.75</td>\n",
              "    </tr>\n",
              "  </tbody>\n",
              "</table>\n",
              "</div>\n",
              "      <button class=\"colab-df-convert\" onclick=\"convertToInteractive('df-70c6d93f-e833-4bb6-a10e-82f36ae4c1c2')\"\n",
              "              title=\"Convert this dataframe to an interactive table.\"\n",
              "              style=\"display:none;\">\n",
              "        \n",
              "  <svg xmlns=\"http://www.w3.org/2000/svg\" height=\"24px\"viewBox=\"0 0 24 24\"\n",
              "       width=\"24px\">\n",
              "    <path d=\"M0 0h24v24H0V0z\" fill=\"none\"/>\n",
              "    <path d=\"M18.56 5.44l.94 2.06.94-2.06 2.06-.94-2.06-.94-.94-2.06-.94 2.06-2.06.94zm-11 1L8.5 8.5l.94-2.06 2.06-.94-2.06-.94L8.5 2.5l-.94 2.06-2.06.94zm10 10l.94 2.06.94-2.06 2.06-.94-2.06-.94-.94-2.06-.94 2.06-2.06.94z\"/><path d=\"M17.41 7.96l-1.37-1.37c-.4-.4-.92-.59-1.43-.59-.52 0-1.04.2-1.43.59L10.3 9.45l-7.72 7.72c-.78.78-.78 2.05 0 2.83L4 21.41c.39.39.9.59 1.41.59.51 0 1.02-.2 1.41-.59l7.78-7.78 2.81-2.81c.8-.78.8-2.07 0-2.86zM5.41 20L4 18.59l7.72-7.72 1.47 1.35L5.41 20z\"/>\n",
              "  </svg>\n",
              "      </button>\n",
              "      \n",
              "  <style>\n",
              "    .colab-df-container {\n",
              "      display:flex;\n",
              "      flex-wrap:wrap;\n",
              "      gap: 12px;\n",
              "    }\n",
              "\n",
              "    .colab-df-convert {\n",
              "      background-color: #E8F0FE;\n",
              "      border: none;\n",
              "      border-radius: 50%;\n",
              "      cursor: pointer;\n",
              "      display: none;\n",
              "      fill: #1967D2;\n",
              "      height: 32px;\n",
              "      padding: 0 0 0 0;\n",
              "      width: 32px;\n",
              "    }\n",
              "\n",
              "    .colab-df-convert:hover {\n",
              "      background-color: #E2EBFA;\n",
              "      box-shadow: 0px 1px 2px rgba(60, 64, 67, 0.3), 0px 1px 3px 1px rgba(60, 64, 67, 0.15);\n",
              "      fill: #174EA6;\n",
              "    }\n",
              "\n",
              "    [theme=dark] .colab-df-convert {\n",
              "      background-color: #3B4455;\n",
              "      fill: #D2E3FC;\n",
              "    }\n",
              "\n",
              "    [theme=dark] .colab-df-convert:hover {\n",
              "      background-color: #434B5C;\n",
              "      box-shadow: 0px 1px 3px 1px rgba(0, 0, 0, 0.15);\n",
              "      filter: drop-shadow(0px 1px 2px rgba(0, 0, 0, 0.3));\n",
              "      fill: #FFFFFF;\n",
              "    }\n",
              "  </style>\n",
              "\n",
              "      <script>\n",
              "        const buttonEl =\n",
              "          document.querySelector('#df-70c6d93f-e833-4bb6-a10e-82f36ae4c1c2 button.colab-df-convert');\n",
              "        buttonEl.style.display =\n",
              "          google.colab.kernel.accessAllowed ? 'block' : 'none';\n",
              "\n",
              "        async function convertToInteractive(key) {\n",
              "          const element = document.querySelector('#df-70c6d93f-e833-4bb6-a10e-82f36ae4c1c2');\n",
              "          const dataTable =\n",
              "            await google.colab.kernel.invokeFunction('convertToInteractive',\n",
              "                                                     [key], {});\n",
              "          if (!dataTable) return;\n",
              "\n",
              "          const docLinkHtml = 'Like what you see? Visit the ' +\n",
              "            '<a target=\"_blank\" href=https://colab.research.google.com/notebooks/data_table.ipynb>data table notebook</a>'\n",
              "            + ' to learn more about interactive tables.';\n",
              "          element.innerHTML = '';\n",
              "          dataTable['output_type'] = 'display_data';\n",
              "          await google.colab.output.renderOutput(dataTable, element);\n",
              "          const docLink = document.createElement('div');\n",
              "          docLink.innerHTML = docLinkHtml;\n",
              "          element.appendChild(docLink);\n",
              "        }\n",
              "      </script>\n",
              "    </div>\n",
              "  </div>\n",
              "  "
            ],
            "text/plain": [
              "   MSSubClass  MSZoning  Neighborhood  ...  GarageCars  PavedDrive  SaleCondition\n",
              "0    0.235294      0.75      0.636364  ...        0.50         1.0           0.75\n",
              "1    0.000000      0.75      0.500000  ...        0.50         1.0           0.75\n",
              "2    0.235294      0.75      0.636364  ...        0.50         1.0           0.75\n",
              "3    0.294118      0.75      0.727273  ...        0.75         1.0           0.00\n",
              "4    0.235294      0.75      1.000000  ...        0.75         1.0           0.75\n",
              "\n",
              "[5 rows x 21 columns]"
            ]
          },
          "metadata": {},
          "execution_count": 102
        }
      ]
    },
    {
      "cell_type": "code",
      "source": [
        "#Selecting the same columns for validations set\n",
        "x_val_lasso_selected = X_val[sel_by_lasso]\n",
        "x_val_lasso_selected.head()"
      ],
      "metadata": {
        "id": "_qEqfiSezMg4",
        "colab": {
          "base_uri": "https://localhost:8080/",
          "height": 270
        },
        "outputId": "810a70fe-cd29-4480-e30d-8465be9d387f"
      },
      "execution_count": 103,
      "outputs": [
        {
          "output_type": "execute_result",
          "data": {
            "text/html": [
              "\n",
              "  <div id=\"df-9a320f66-a163-4f21-a339-87009748c8aa\">\n",
              "    <div class=\"colab-df-container\">\n",
              "      <div>\n",
              "<style scoped>\n",
              "    .dataframe tbody tr th:only-of-type {\n",
              "        vertical-align: middle;\n",
              "    }\n",
              "\n",
              "    .dataframe tbody tr th {\n",
              "        vertical-align: top;\n",
              "    }\n",
              "\n",
              "    .dataframe thead th {\n",
              "        text-align: right;\n",
              "    }\n",
              "</style>\n",
              "<table border=\"1\" class=\"dataframe\">\n",
              "  <thead>\n",
              "    <tr style=\"text-align: right;\">\n",
              "      <th></th>\n",
              "      <th>MSSubClass</th>\n",
              "      <th>MSZoning</th>\n",
              "      <th>Neighborhood</th>\n",
              "      <th>OverallQual</th>\n",
              "      <th>YearRemodAdd</th>\n",
              "      <th>RoofStyle</th>\n",
              "      <th>BsmtQual</th>\n",
              "      <th>BsmtExposure</th>\n",
              "      <th>HeatingQC</th>\n",
              "      <th>CentralAir</th>\n",
              "      <th>1stFlrSF</th>\n",
              "      <th>GrLivArea</th>\n",
              "      <th>BsmtFullBath</th>\n",
              "      <th>KitchenQual</th>\n",
              "      <th>Fireplaces</th>\n",
              "      <th>FireplaceQu</th>\n",
              "      <th>GarageType</th>\n",
              "      <th>GarageFinish</th>\n",
              "      <th>GarageCars</th>\n",
              "      <th>PavedDrive</th>\n",
              "      <th>SaleCondition</th>\n",
              "    </tr>\n",
              "  </thead>\n",
              "  <tbody>\n",
              "    <tr>\n",
              "      <th>0</th>\n",
              "      <td>0.000000</td>\n",
              "      <td>0.50</td>\n",
              "      <td>0.20</td>\n",
              "      <td>0.444444</td>\n",
              "      <td>0.822581</td>\n",
              "      <td>0.0</td>\n",
              "      <td>0.50</td>\n",
              "      <td>0.25</td>\n",
              "      <td>0.25</td>\n",
              "      <td>1.0</td>\n",
              "      <td>0.351478</td>\n",
              "      <td>0.351478</td>\n",
              "      <td>0.0</td>\n",
              "      <td>0.50</td>\n",
              "      <td>0.00</td>\n",
              "      <td>0.4</td>\n",
              "      <td>0.666667</td>\n",
              "      <td>0.333333</td>\n",
              "      <td>0.2</td>\n",
              "      <td>1.0</td>\n",
              "      <td>0.75</td>\n",
              "    </tr>\n",
              "    <tr>\n",
              "      <th>1</th>\n",
              "      <td>0.000000</td>\n",
              "      <td>0.75</td>\n",
              "      <td>0.20</td>\n",
              "      <td>0.555556</td>\n",
              "      <td>0.870968</td>\n",
              "      <td>1.0</td>\n",
              "      <td>0.50</td>\n",
              "      <td>0.25</td>\n",
              "      <td>0.25</td>\n",
              "      <td>1.0</td>\n",
              "      <td>0.512060</td>\n",
              "      <td>0.512060</td>\n",
              "      <td>0.0</td>\n",
              "      <td>0.75</td>\n",
              "      <td>0.00</td>\n",
              "      <td>0.4</td>\n",
              "      <td>0.666667</td>\n",
              "      <td>0.333333</td>\n",
              "      <td>0.2</td>\n",
              "      <td>1.0</td>\n",
              "      <td>0.75</td>\n",
              "    </tr>\n",
              "    <tr>\n",
              "      <th>2</th>\n",
              "      <td>0.235294</td>\n",
              "      <td>0.75</td>\n",
              "      <td>0.65</td>\n",
              "      <td>0.444444</td>\n",
              "      <td>0.225806</td>\n",
              "      <td>0.0</td>\n",
              "      <td>0.75</td>\n",
              "      <td>0.25</td>\n",
              "      <td>0.75</td>\n",
              "      <td>1.0</td>\n",
              "      <td>0.366144</td>\n",
              "      <td>0.591552</td>\n",
              "      <td>0.0</td>\n",
              "      <td>0.50</td>\n",
              "      <td>0.25</td>\n",
              "      <td>0.6</td>\n",
              "      <td>0.666667</td>\n",
              "      <td>1.000000</td>\n",
              "      <td>0.4</td>\n",
              "      <td>1.0</td>\n",
              "      <td>0.75</td>\n",
              "    </tr>\n",
              "    <tr>\n",
              "      <th>3</th>\n",
              "      <td>0.235294</td>\n",
              "      <td>0.75</td>\n",
              "      <td>0.65</td>\n",
              "      <td>0.555556</td>\n",
              "      <td>0.225806</td>\n",
              "      <td>0.0</td>\n",
              "      <td>0.50</td>\n",
              "      <td>0.25</td>\n",
              "      <td>1.00</td>\n",
              "      <td>1.0</td>\n",
              "      <td>0.365245</td>\n",
              "      <td>0.585589</td>\n",
              "      <td>0.0</td>\n",
              "      <td>0.75</td>\n",
              "      <td>0.25</td>\n",
              "      <td>0.8</td>\n",
              "      <td>0.666667</td>\n",
              "      <td>1.000000</td>\n",
              "      <td>0.4</td>\n",
              "      <td>1.0</td>\n",
              "      <td>0.75</td>\n",
              "    </tr>\n",
              "    <tr>\n",
              "      <th>4</th>\n",
              "      <td>0.588235</td>\n",
              "      <td>0.75</td>\n",
              "      <td>0.95</td>\n",
              "      <td>0.777778</td>\n",
              "      <td>0.322581</td>\n",
              "      <td>0.0</td>\n",
              "      <td>0.75</td>\n",
              "      <td>0.25</td>\n",
              "      <td>1.00</td>\n",
              "      <td>1.0</td>\n",
              "      <td>0.497143</td>\n",
              "      <td>0.497143</td>\n",
              "      <td>0.0</td>\n",
              "      <td>0.75</td>\n",
              "      <td>0.00</td>\n",
              "      <td>0.4</td>\n",
              "      <td>0.666667</td>\n",
              "      <td>0.666667</td>\n",
              "      <td>0.4</td>\n",
              "      <td>1.0</td>\n",
              "      <td>0.75</td>\n",
              "    </tr>\n",
              "  </tbody>\n",
              "</table>\n",
              "</div>\n",
              "      <button class=\"colab-df-convert\" onclick=\"convertToInteractive('df-9a320f66-a163-4f21-a339-87009748c8aa')\"\n",
              "              title=\"Convert this dataframe to an interactive table.\"\n",
              "              style=\"display:none;\">\n",
              "        \n",
              "  <svg xmlns=\"http://www.w3.org/2000/svg\" height=\"24px\"viewBox=\"0 0 24 24\"\n",
              "       width=\"24px\">\n",
              "    <path d=\"M0 0h24v24H0V0z\" fill=\"none\"/>\n",
              "    <path d=\"M18.56 5.44l.94 2.06.94-2.06 2.06-.94-2.06-.94-.94-2.06-.94 2.06-2.06.94zm-11 1L8.5 8.5l.94-2.06 2.06-.94-2.06-.94L8.5 2.5l-.94 2.06-2.06.94zm10 10l.94 2.06.94-2.06 2.06-.94-2.06-.94-.94-2.06-.94 2.06-2.06.94z\"/><path d=\"M17.41 7.96l-1.37-1.37c-.4-.4-.92-.59-1.43-.59-.52 0-1.04.2-1.43.59L10.3 9.45l-7.72 7.72c-.78.78-.78 2.05 0 2.83L4 21.41c.39.39.9.59 1.41.59.51 0 1.02-.2 1.41-.59l7.78-7.78 2.81-2.81c.8-.78.8-2.07 0-2.86zM5.41 20L4 18.59l7.72-7.72 1.47 1.35L5.41 20z\"/>\n",
              "  </svg>\n",
              "      </button>\n",
              "      \n",
              "  <style>\n",
              "    .colab-df-container {\n",
              "      display:flex;\n",
              "      flex-wrap:wrap;\n",
              "      gap: 12px;\n",
              "    }\n",
              "\n",
              "    .colab-df-convert {\n",
              "      background-color: #E8F0FE;\n",
              "      border: none;\n",
              "      border-radius: 50%;\n",
              "      cursor: pointer;\n",
              "      display: none;\n",
              "      fill: #1967D2;\n",
              "      height: 32px;\n",
              "      padding: 0 0 0 0;\n",
              "      width: 32px;\n",
              "    }\n",
              "\n",
              "    .colab-df-convert:hover {\n",
              "      background-color: #E2EBFA;\n",
              "      box-shadow: 0px 1px 2px rgba(60, 64, 67, 0.3), 0px 1px 3px 1px rgba(60, 64, 67, 0.15);\n",
              "      fill: #174EA6;\n",
              "    }\n",
              "\n",
              "    [theme=dark] .colab-df-convert {\n",
              "      background-color: #3B4455;\n",
              "      fill: #D2E3FC;\n",
              "    }\n",
              "\n",
              "    [theme=dark] .colab-df-convert:hover {\n",
              "      background-color: #434B5C;\n",
              "      box-shadow: 0px 1px 3px 1px rgba(0, 0, 0, 0.15);\n",
              "      filter: drop-shadow(0px 1px 2px rgba(0, 0, 0, 0.3));\n",
              "      fill: #FFFFFF;\n",
              "    }\n",
              "  </style>\n",
              "\n",
              "      <script>\n",
              "        const buttonEl =\n",
              "          document.querySelector('#df-9a320f66-a163-4f21-a339-87009748c8aa button.colab-df-convert');\n",
              "        buttonEl.style.display =\n",
              "          google.colab.kernel.accessAllowed ? 'block' : 'none';\n",
              "\n",
              "        async function convertToInteractive(key) {\n",
              "          const element = document.querySelector('#df-9a320f66-a163-4f21-a339-87009748c8aa');\n",
              "          const dataTable =\n",
              "            await google.colab.kernel.invokeFunction('convertToInteractive',\n",
              "                                                     [key], {});\n",
              "          if (!dataTable) return;\n",
              "\n",
              "          const docLinkHtml = 'Like what you see? Visit the ' +\n",
              "            '<a target=\"_blank\" href=https://colab.research.google.com/notebooks/data_table.ipynb>data table notebook</a>'\n",
              "            + ' to learn more about interactive tables.';\n",
              "          element.innerHTML = '';\n",
              "          dataTable['output_type'] = 'display_data';\n",
              "          await google.colab.output.renderOutput(dataTable, element);\n",
              "          const docLink = document.createElement('div');\n",
              "          docLink.innerHTML = docLinkHtml;\n",
              "          element.appendChild(docLink);\n",
              "        }\n",
              "      </script>\n",
              "    </div>\n",
              "  </div>\n",
              "  "
            ],
            "text/plain": [
              "   MSSubClass  MSZoning  Neighborhood  ...  GarageCars  PavedDrive  SaleCondition\n",
              "0    0.000000      0.50          0.20  ...         0.2         1.0           0.75\n",
              "1    0.000000      0.75          0.20  ...         0.2         1.0           0.75\n",
              "2    0.235294      0.75          0.65  ...         0.4         1.0           0.75\n",
              "3    0.235294      0.75          0.65  ...         0.4         1.0           0.75\n",
              "4    0.588235      0.75          0.95  ...         0.4         1.0           0.75\n",
              "\n",
              "[5 rows x 21 columns]"
            ]
          },
          "metadata": {},
          "execution_count": 103
        }
      ]
    },
    {
      "cell_type": "code",
      "source": [
        "x_val_lasso_selected.isnull().sum()"
      ],
      "metadata": {
        "colab": {
          "base_uri": "https://localhost:8080/"
        },
        "id": "g9on5eK3923P",
        "outputId": "8e211e52-a3cf-4757-a47d-3f7bb8a00d54"
      },
      "execution_count": 104,
      "outputs": [
        {
          "output_type": "execute_result",
          "data": {
            "text/plain": [
              "MSSubClass       0\n",
              "MSZoning         0\n",
              "Neighborhood     0\n",
              "OverallQual      0\n",
              "YearRemodAdd     0\n",
              "RoofStyle        0\n",
              "BsmtQual         0\n",
              "BsmtExposure     0\n",
              "HeatingQC        0\n",
              "CentralAir       0\n",
              "1stFlrSF         0\n",
              "GrLivArea        0\n",
              "BsmtFullBath     0\n",
              "KitchenQual      0\n",
              "Fireplaces       0\n",
              "FireplaceQu      0\n",
              "GarageType       0\n",
              "GarageFinish     0\n",
              "GarageCars       1\n",
              "PavedDrive       0\n",
              "SaleCondition    0\n",
              "dtype: int64"
            ]
          },
          "metadata": {},
          "execution_count": 104
        }
      ]
    },
    {
      "cell_type": "code",
      "source": [
        "x_val_lasso_selected = x_val_lasso_selected.fillna(0)"
      ],
      "metadata": {
        "id": "ISTKxRcs-WFD"
      },
      "execution_count": 105,
      "outputs": []
    },
    {
      "cell_type": "code",
      "source": [
        "x_val_lasso_selected.isnull().sum()"
      ],
      "metadata": {
        "colab": {
          "base_uri": "https://localhost:8080/"
        },
        "id": "Q81_V9TF-wUM",
        "outputId": "98ddd6b9-2601-416a-c96a-3abcb8093283"
      },
      "execution_count": 106,
      "outputs": [
        {
          "output_type": "execute_result",
          "data": {
            "text/plain": [
              "MSSubClass       0\n",
              "MSZoning         0\n",
              "Neighborhood     0\n",
              "OverallQual      0\n",
              "YearRemodAdd     0\n",
              "RoofStyle        0\n",
              "BsmtQual         0\n",
              "BsmtExposure     0\n",
              "HeatingQC        0\n",
              "CentralAir       0\n",
              "1stFlrSF         0\n",
              "GrLivArea        0\n",
              "BsmtFullBath     0\n",
              "KitchenQual      0\n",
              "Fireplaces       0\n",
              "FireplaceQu      0\n",
              "GarageType       0\n",
              "GarageFinish     0\n",
              "GarageCars       0\n",
              "PavedDrive       0\n",
              "SaleCondition    0\n",
              "dtype: int64"
            ]
          },
          "metadata": {},
          "execution_count": 106
        }
      ]
    },
    {
      "cell_type": "markdown",
      "source": [
        "Validation set and training set is prepared for model building.\n",
        "##Model building\n",
        "\n",
        "* [Machine Learning Algorithm- Which one to choose for your Problem?]('https://www.youtube.com/watch?v=38SUUaMX5Rg')\n",
        "* [How to select the best model using cross validation in python]('https://www.youtube.com/watch?v=Bcw8S449QW4')\n",
        "* [Train Test Split vs K Fold vs Stratified K fold Cross Validation]('https://www.youtube.com/watch?v=fKz-SgScM3Q')\n",
        "* [Machine Learning & Data Science Project - 5 : Model Building (Real Estate Price Prediction Project]('https://www.youtube.com/watch?v=oCiRv94GMEc&list=PLeo1K3hjS3uu7clOTtwsp94PcHbzqpAdg&index=5')"
      ],
      "metadata": {
        "id": "lvGqpduF7_2W"
      }
    },
    {
      "cell_type": "markdown",
      "source": [
        "Simple Linear Regression first\n",
        "\n",
        "!Not launching this part of the code (I changed the varaibles names)"
      ],
      "metadata": {
        "id": "tF5LB3oR1o7L"
      }
    },
    {
      "cell_type": "code",
      "source": [
        "from sklearn.linear_model import LinearRegression"
      ],
      "metadata": {
        "id": "dJ1x2J7MVCZW"
      },
      "execution_count": 107,
      "outputs": []
    },
    {
      "cell_type": "code",
      "source": [
        "from sklearn.model_selection import train_test_split"
      ],
      "metadata": {
        "id": "MqfPJqdgVcbp"
      },
      "execution_count": 108,
      "outputs": []
    },
    {
      "cell_type": "markdown",
      "source": [
        "###Linear Regression"
      ],
      "metadata": {
        "id": "wTDrZbtE8osl"
      }
    },
    {
      "cell_type": "code",
      "source": [
        "X_train,X_test, y_train, y_test = train_test_split(x, y, test_size=0.2, random_state=10)"
      ],
      "metadata": {
        "id": "7c37oQ_0VkhS",
        "colab": {
          "base_uri": "https://localhost:8080/",
          "height": 166
        },
        "outputId": "0cadcb60-11b5-48a4-ae07-90ce8cd5b49c"
      },
      "execution_count": 109,
      "outputs": [
        {
          "output_type": "error",
          "ename": "NameError",
          "evalue": "ignored",
          "traceback": [
            "\u001b[0;31m---------------------------------------------------------------------------\u001b[0m",
            "\u001b[0;31mNameError\u001b[0m                                 Traceback (most recent call last)",
            "\u001b[0;32m<ipython-input-109-bc7a875a4802>\u001b[0m in \u001b[0;36m<module>\u001b[0;34m()\u001b[0m\n\u001b[0;32m----> 1\u001b[0;31m \u001b[0mX_train\u001b[0m\u001b[0;34m,\u001b[0m\u001b[0mX_test\u001b[0m\u001b[0;34m,\u001b[0m \u001b[0my_train\u001b[0m\u001b[0;34m,\u001b[0m \u001b[0my_test\u001b[0m \u001b[0;34m=\u001b[0m \u001b[0mtrain_test_split\u001b[0m\u001b[0;34m(\u001b[0m\u001b[0mx\u001b[0m\u001b[0;34m,\u001b[0m \u001b[0my\u001b[0m\u001b[0;34m,\u001b[0m \u001b[0mtest_size\u001b[0m\u001b[0;34m=\u001b[0m\u001b[0;36m0.2\u001b[0m\u001b[0;34m,\u001b[0m \u001b[0mrandom_state\u001b[0m\u001b[0;34m=\u001b[0m\u001b[0;36m10\u001b[0m\u001b[0;34m)\u001b[0m\u001b[0;34m\u001b[0m\u001b[0;34m\u001b[0m\u001b[0m\n\u001b[0m",
            "\u001b[0;31mNameError\u001b[0m: name 'x' is not defined"
          ]
        }
      ]
    },
    {
      "cell_type": "code",
      "source": [
        "lr_clf = LinearRegression()\n",
        "lr_clf.fit(X_train, y_train)\n",
        "lr_clf.score(X_test, y_test)"
      ],
      "metadata": {
        "id": "4we91ppEfpfq"
      },
      "execution_count": null,
      "outputs": []
    },
    {
      "cell_type": "code",
      "source": [
        "#kfold validation too measure linreg model performance\n",
        "from sklearn.model_selection import ShuffleSplit, cross_val_score\n"
      ],
      "metadata": {
        "id": "NhbZ0aBKg4tJ"
      },
      "execution_count": null,
      "outputs": []
    },
    {
      "cell_type": "code",
      "source": [
        "cv = ShuffleSplit(n_splits=5, test_size=0.2, random_state=0)"
      ],
      "metadata": {
        "id": "wxIFJhSRhqfy"
      },
      "execution_count": null,
      "outputs": []
    },
    {
      "cell_type": "code",
      "source": [
        "cross_val_score(LinearRegression(), x, y, cv=cv)"
      ],
      "metadata": {
        "id": "mFzBtTyjh7gN"
      },
      "execution_count": null,
      "outputs": []
    },
    {
      "cell_type": "markdown",
      "source": [
        "We have pretty good results for now (with a simple linear regression - it must be pointed out). But let's try to enchance it with GridSearchCV. \n",
        "\n",
        "*[Parameter tuning in Random Forrest Regressor]('https://towardsdatascience.com/hyperparameter-tuning-the-random-forest-in-python-using-scikit-learn-28d2aa77dd74')"
      ],
      "metadata": {
        "id": "XXQvNOBviNEE"
      }
    },
    {
      "cell_type": "markdown",
      "source": [
        "###Grid SearchCV, RandomizedSearchCV"
      ],
      "metadata": {
        "id": "QwHhaJ9I0ne0"
      }
    },
    {
      "cell_type": "code",
      "source": [
        "#Importing other models to test\n",
        "from sklearn.model_selection import GridSearchCV\n",
        "from sklearn.model_selection import RandomizedSearchCV, KFold, RepeatedKFold, cross_validate, cross_val_score\n",
        "\n",
        "from sklearn.linear_model import Lasso, Ridge, LassoCV\n",
        "from sklearn.tree import DecisionTreeRegressor\n",
        "from sklearn.ensemble import RandomForestRegressor"
      ],
      "metadata": {
        "id": "e0_q4pYjibux"
      },
      "execution_count": 130,
      "outputs": []
    },
    {
      "cell_type": "markdown",
      "source": [
        "###Param grid for Randomized Search"
      ],
      "metadata": {
        "id": "Vb202f9gAVpa"
      }
    },
    {
      "cell_type": "code",
      "source": [
        "#Searching parameters for Random Forrest Regressor - to narrow down the best\n",
        "\n",
        "\n",
        "#Parameters for random grid\n",
        "#Number of trees in RandomForrestRegressor start-stop\n",
        "n_estimators = [int(x) for x in np.linspace(start=200, stop=2000, num=10)]\n",
        "#Number of features to consider at every split\n",
        "max_features = ['auto', 'sqrt']\n",
        "#Max number of levels in the tree\n",
        "max_depth = [int(x) for x in np.linspace(start=10, stop=110, num=11)]\n",
        "max_depth.append(None)\n",
        "#MIn number of samples to perform a split\n",
        "min_samples_split = [2,5,10]\n",
        "#Min samples for each leaf node\n",
        "min_samples_leaf = [1,2,4]\n",
        "#Method of selection of samples for training the tree\n",
        "bootstrap = [True,False]\n",
        "\n",
        "#Creating random grid\n",
        "random_grid = {\n",
        "    'n_estimators': n_estimators,\n",
        "    'max_features': max_features,\n",
        "    'max_depth': max_depth,\n",
        "    'min_samples_split': min_samples_split,\n",
        "    'min_samples_leaf': min_samples_leaf,\n",
        "    'bootstrap': bootstrap\n",
        "}"
      ],
      "metadata": {
        "id": "WyVJ7iKVlfJx"
      },
      "execution_count": null,
      "outputs": []
    },
    {
      "cell_type": "code",
      "source": [
        "#Searching for best parameters for further evaluation with RandomSearch\n",
        "#Creating object for model\n",
        "rfr = RandomForestRegressor()\n",
        "#Searching for parameters with 3 folds cv, searching across 100 different parameters combinations, with all available cores\n",
        "rf_random = RandomizedSearchCV(estimator=rfr, param_distributions=random_grid, n_iter=100, cv=3, n_jobs=-1, verbose=2, random_state=42)"
      ],
      "metadata": {
        "id": "Li62zXuZqbfF"
      },
      "execution_count": null,
      "outputs": []
    },
    {
      "cell_type": "markdown",
      "source": [
        "####Calculations, predictions"
      ],
      "metadata": {
        "id": "udvnCkKoYmZu"
      }
    },
    {
      "cell_type": "code",
      "source": [
        "rf_random.fit(X_train,y_train)"
      ],
      "metadata": {
        "id": "NHCH2zmstEET"
      },
      "execution_count": null,
      "outputs": []
    },
    {
      "cell_type": "markdown",
      "source": [
        "Regulations of number of samples is critical for the time consupmtion of training. It is especially crucial for decission tree's, which take more time to train.\n",
        "\n",
        "Control number of tranings performed with `n_iter` and `cv`.\n",
        "\n",
        "\n",
        "> More iterations will cover a wider search space and more cv folds reduces the chances of overfitting, but raising each will increase the run time. Machine learning is a field of trade-offs, and performance vs time is one of the most fundamental. [source]('https://towardsdatascience.com/hyperparameter-tuning-the-random-forest-in-python-using-scikit-learn-28d2aa77dd74')\n",
        "\n"
      ],
      "metadata": {
        "id": "sSRMY3Eet2DN"
      }
    },
    {
      "cell_type": "code",
      "source": [
        "#Best parameters from random search\n",
        "rf_random.best_params_"
      ],
      "metadata": {
        "id": "CXu7dqT4xm0b"
      },
      "execution_count": null,
      "outputs": []
    },
    {
      "cell_type": "markdown",
      "source": [
        "Let's compare the best parameters selected by the model with the deafault one's. "
      ],
      "metadata": {
        "id": "Rjjf1JCZx53V"
      }
    },
    {
      "cell_type": "code",
      "source": [
        "#Defning function for evaluation of the models results\n",
        "def evaluate(model, X_test,y_test):\n",
        "  predictions = model.predict(X_test)\n",
        "  errors = abs(predictions -y_test)\n",
        "  mape = 100*np.mean(errors/y_test)\n",
        "  accuracy = 100-mape\n",
        "  print('Model performance')\n",
        "  print('Average error: {:0.4f} degrees.'.format(np.mean(errors)))\n",
        "  print('Accuracy: {:0.2f}%'.format(accuracy))\n",
        "\n",
        "  return accuracy"
      ],
      "metadata": {
        "id": "qGc9-WDFyo8u"
      },
      "execution_count": null,
      "outputs": []
    },
    {
      "cell_type": "code",
      "source": [
        "base_model = RandomForestRegressor(n_estimators=10, random_state=42)\n",
        "base_model.fit(X_train, y_train)\n"
      ],
      "metadata": {
        "id": "YtY60G-v1xrX"
      },
      "execution_count": null,
      "outputs": []
    },
    {
      "cell_type": "code",
      "source": [
        "base_accuracy = evaluate(base_model, X_test, y_test)"
      ],
      "metadata": {
        "id": "jH4HPrs63pUP"
      },
      "execution_count": null,
      "outputs": []
    },
    {
      "cell_type": "code",
      "source": [
        "best_random = rf_random.best_estimator_\n",
        "random_accuracy = evaluate(best_random, X_test, y_test)"
      ],
      "metadata": {
        "id": "o305jL5m4woT"
      },
      "execution_count": null,
      "outputs": []
    },
    {
      "cell_type": "code",
      "source": [
        "#Calculating improvement\n",
        "print('Improvement of {:0.02f}%.'.format(100*(random_accuracy-base_accuracy)/base_accuracy))"
      ],
      "metadata": {
        "id": "KlaXIzvW5i_C"
      },
      "execution_count": null,
      "outputs": []
    },
    {
      "cell_type": "markdown",
      "source": [
        "Okay, so the improvement was only 0.08%. But we already have a decent results. To be true, I think it is beacuase of the amazing guide of the Krish Naik with a features selection, eda, data cleaning. \n",
        "\n",
        "---\n",
        "According to linked above article on Huperparameter tuning from towards the data science website, we can further encanced out results with GridSearchCV. \n",
        "\n",
        "My previous journey to find best model and hyperameters with GridSearchCV lead to training randomforrestregressor for more than 7 hours (lol). But we can now narrow the range of our search (by using randsearchcv) and find the best parameters faster (i hope:)). "
      ],
      "metadata": {
        "id": "ObBYDKxf6Zcq"
      }
    },
    {
      "cell_type": "markdown",
      "source": [
        "###GridSearchcv FUNCTION"
      ],
      "metadata": {
        "id": "g-6ufLkc_okT"
      }
    },
    {
      "cell_type": "code",
      "source": [
        "#Hyperparameter tuning with GridSearchCV and finding the best model\n",
        "def grid_search_best_model_finder(x,y):\n",
        "  \"\"\"Function which iterates through selected models and returns models scores, names in a DataFrame\n",
        "  \"\"\"\n",
        "  models = {\n",
        "      'Lin Reg': {\n",
        "          'model': LinearRegression(),\n",
        "          'params': {\n",
        "              'normalize' : [True, False]\n",
        "          }\n",
        "      },\n",
        "      'Lasso': {\n",
        "          'model': Lasso(),\n",
        "          'params': {\n",
        "              'alpha': [1,2], \n",
        "              'selection': ['random', 'cyclic']\n",
        "          }\n",
        "      },\n",
        "      'Dec Tree Reg': {\n",
        "          'model': DecisionTreeRegressor(),\n",
        "          'params': {\n",
        "              'criterion': ['mse', 'friedman_mse'],\n",
        "              'splitter': ['best', 'random']\n",
        "          }\n",
        "      },\n",
        "      'Rand For Reg': {\n",
        "          'model': RandomForestRegressor(),\n",
        "          'params': {\n",
        "              'bootstrap': [False],\n",
        "              'max_depth': [100,110,120,130],\n",
        "              'max_features': ['sqrt'],\n",
        "              'min_samples_leaf': [1,2,4],\n",
        "              'min_samples_split': [4,5,7],\n",
        "              'n_estimators': [600,800,1000,1200]\n",
        "          }\n",
        "      }\n",
        "  }\n",
        "  scores = []\n",
        "  cv = ShuffleSplit(n_splits=5, test_size=0.2, random_state=0)\n",
        "  for model_name, config in models.items():\n",
        "    gs =  GridSearchCV(config['model'], config['params'], cv=cv, return_train_score=False)\n",
        "    gs.fit(x,y)\n",
        "    scores.append({\n",
        "        'model': model_name,\n",
        "        'best_score': gs.best_score_,\n",
        "        'best_params': gs.best_params_\n",
        "        })\n",
        "  return pd.DataFrame(scores, columns=['model', 'best_score', 'best_params'])"
      ],
      "metadata": {
        "id": "u0WfE3DUjKZm"
      },
      "execution_count": null,
      "outputs": []
    },
    {
      "cell_type": "code",
      "source": [
        "grid_search_best_model_finder(x,y)"
      ],
      "metadata": {
        "id": "81BtNnCeoBZR"
      },
      "execution_count": null,
      "outputs": []
    },
    {
      "cell_type": "markdown",
      "source": [
        "Okaaay. So Random Forest Regressor wins! \n",
        "\n",
        "I should take a closer look at Random Forest Regressor one more time. Maybe in comparison wwith XGBOOST? \n",
        "\n",
        "Also it could be a good idea to calculates the scores using rmse, because by rmse comptetition submissions are evaluted by Kaggle.\n",
        "\n",
        "---\n",
        "\n",
        "Also narrowing the parameters for GridSearchCV using RandomizedSearchCV was a great idea. Returning my df with results took around half an hour :D (not 7 hours, like last time).\n",
        "\n",
        "----\n",
        "\n",
        "I'll continue to check out parameters for Random Forest Regressor. And I'll do it supporting myself with above (link above) article from Towards Data Science. \n",
        "\n",
        "\n"
      ],
      "metadata": {
        "id": "hRdI3zOOCkWm"
      }
    },
    {
      "cell_type": "markdown",
      "source": [
        "###GridSearchCV"
      ],
      "metadata": {
        "id": "_dz-hMmc-bCc"
      }
    },
    {
      "cell_type": "code",
      "source": [
        "param_grid_rf = {\n",
        "              'bootstrap': [False],\n",
        "              'max_depth': [100,110,120,130],\n",
        "              'max_features': ['sqrt'],\n",
        "              'min_samples_leaf': [1,2,4],\n",
        "              'min_samples_split': [4,5,7],\n",
        "              'n_estimators': [600,800,1000,1200]}"
      ],
      "metadata": {
        "id": "U8ik5vMnDQVX"
      },
      "execution_count": null,
      "outputs": []
    },
    {
      "cell_type": "code",
      "source": [
        "rf = RandomForestRegressor()"
      ],
      "metadata": {
        "id": "TvllCGYbXOO7"
      },
      "execution_count": null,
      "outputs": []
    },
    {
      "cell_type": "code",
      "source": [
        "grid_search = GridSearchCV(estimator = rf, param_grid = param_grid_rf, cv=3, n_jobs=-1, verbose=2)"
      ],
      "metadata": {
        "id": "JWXjPMKSX6_C"
      },
      "execution_count": null,
      "outputs": []
    },
    {
      "cell_type": "code",
      "source": [
        "grid_search.fit(X_train, y_train)"
      ],
      "metadata": {
        "id": "Z0ou0nvcY3TK"
      },
      "execution_count": null,
      "outputs": []
    },
    {
      "cell_type": "code",
      "source": [
        "grid_search.best_params_"
      ],
      "metadata": {
        "id": "K5bWruIaY-67"
      },
      "execution_count": null,
      "outputs": []
    },
    {
      "cell_type": "code",
      "source": [
        "best_grid = grid_search.best_estimator_"
      ],
      "metadata": {
        "id": "f9LBBiePbg80"
      },
      "execution_count": null,
      "outputs": []
    },
    {
      "cell_type": "code",
      "source": [
        "grid_accuracy = evaluate(best_grid, X_test,y_test)"
      ],
      "metadata": {
        "id": "TXVgaYHWbn0s"
      },
      "execution_count": null,
      "outputs": []
    },
    {
      "cell_type": "code",
      "source": [
        "print('Improvement of the model: {:0.2f}%'.format(100*(grid_accuracy-base_accuracy)/base_accuracy))"
      ],
      "metadata": {
        "id": "CmQR-6pwcH5U"
      },
      "execution_count": null,
      "outputs": []
    },
    {
      "cell_type": "code",
      "source": [
        "grid_search.best_estimator_"
      ],
      "metadata": {
        "id": "ne37keSLdOi0"
      },
      "execution_count": null,
      "outputs": []
    },
    {
      "cell_type": "markdown",
      "source": [
        "Ok, so it seems, that in whole we've improved the model accuracy by 0.15%. Maybe it could went better with further parameter tuning. But for now I'll pass RFR, and try to implement another model.\n",
        "\n",
        "\n",
        "---\n",
        "Next model we'll try will be XGBoost. But first I want to evaluate the model performance by computing rmse, which is used to evalute predictions in competition. "
      ],
      "metadata": {
        "id": "NAXLrGtSdXH6"
      }
    },
    {
      "cell_type": "markdown",
      "source": [
        "###MeanSquaredError"
      ],
      "metadata": {
        "id": "0ivC6Zvc-gNq"
      }
    },
    {
      "cell_type": "code",
      "source": [
        "from sklearn.metrics import mean_squared_error"
      ],
      "metadata": {
        "id": "fp8ncJo11Zfr"
      },
      "execution_count": 126,
      "outputs": []
    },
    {
      "cell_type": "markdown",
      "source": [
        "###RMSE fucntion\n",
        "\n",
        "from https://www.kaggle.com/apapiu/regularized-linear-models"
      ],
      "metadata": {
        "id": "FlYVjEyePHt_"
      }
    },
    {
      "cell_type": "code",
      "source": [
        "def rmse_score(model):\n",
        "  rmse = np.sqrt(-cross_val_score(model, x_train, y_train, scoring='neg_mean_squared_error', cv=5))\n",
        "  return rmse"
      ],
      "metadata": {
        "id": "ccUdsYWoPKVk"
      },
      "execution_count": 136,
      "outputs": []
    },
    {
      "cell_type": "markdown",
      "source": [
        "###Predictions RandomForestRegressor with rmse"
      ],
      "metadata": {
        "id": "3qlqv7uZ-leR"
      }
    },
    {
      "cell_type": "code",
      "source": [
        "rfr_best = RandomForestRegressor(bootstrap=False,\n",
        " max_depth= 100,\n",
        " max_features= 'sqrt',\n",
        " min_samples_leaf= 1,\n",
        " min_samples_split= 4,\n",
        " n_estimators= 1000)"
      ],
      "metadata": {
        "id": "E-dVR6IT6Be7"
      },
      "execution_count": null,
      "outputs": []
    },
    {
      "cell_type": "code",
      "source": [
        "rfr_best.fit(X_train,y_train)"
      ],
      "metadata": {
        "id": "RKgzjUP17G8K"
      },
      "execution_count": null,
      "outputs": []
    },
    {
      "cell_type": "code",
      "source": [
        "rfr_preds_test = rfr_best.predict(X_test)"
      ],
      "metadata": {
        "id": "xL9cJZfM1h0l"
      },
      "execution_count": null,
      "outputs": []
    },
    {
      "cell_type": "code",
      "source": [
        "rfr_preds_val = rfr_best.predict(X_val_nonan)"
      ],
      "metadata": {
        "id": "Pi4MXQS07WWo"
      },
      "execution_count": null,
      "outputs": []
    },
    {
      "cell_type": "code",
      "source": [
        "#Calculating mse\n",
        "mean_squared_error(rfr_preds_test,y_test, squared=False)"
      ],
      "metadata": {
        "id": "lXMKimnv8YIL"
      },
      "execution_count": null,
      "outputs": []
    },
    {
      "cell_type": "code",
      "source": [
        "#Generating predictions to csv\n",
        "output = pd.DataFrame({'Id': test['Id'],\n",
        "                     'SalePrice': rfr_preds_val})"
      ],
      "metadata": {
        "id": "LOTH8qLpAdtN"
      },
      "execution_count": null,
      "outputs": []
    },
    {
      "cell_type": "code",
      "source": [
        "output.to_csv('submission_rfr_no_lasso.csv', index=False)"
      ],
      "metadata": {
        "id": "IYc6MVuRBekl"
      },
      "execution_count": null,
      "outputs": []
    },
    {
      "cell_type": "markdown",
      "source": [
        "Very interestingly predictions in the competitions itself were evaluted poorly. I run through the code again, compared it with other notebooks, and I don't see that I performed some typical mistakes of data leakage etc. I've also checked if the model didn't train on the test data. It didn't. So poor performance on validation set is a mystery for me now. Maybe it's just the model. But I'll try to compute the scores another way. And I'll check the XGBoost also. \n",
        "\n",
        "It is strange for me still, but probably it's a rookie mistake :)\n",
        "\n",
        "---\n",
        "\n",
        "Ok. I have an idea to check also the default parameters of the model and compare the rmse with the randomforestregressor."
      ],
      "metadata": {
        "id": "IiayJrgk0vGp"
      }
    },
    {
      "cell_type": "markdown",
      "source": [
        "###Linear Regression predictions with rmse and"
      ],
      "metadata": {
        "id": "atV4lc68-s3j"
      }
    },
    {
      "cell_type": "code",
      "source": [
        "lr_prdeds_test = lr_clf.predict(X_test)"
      ],
      "metadata": {
        "id": "ugOCr8fQXwZ4"
      },
      "execution_count": null,
      "outputs": []
    },
    {
      "cell_type": "code",
      "source": [
        "lr_prdeds = lr_clf.predict(X_val_nonan)"
      ],
      "metadata": {
        "id": "0q4GkDsRAgYp"
      },
      "execution_count": null,
      "outputs": []
    },
    {
      "cell_type": "code",
      "source": [
        "mean_squared_error(lr_prdeds_test, y_test, squared=False)"
      ],
      "metadata": {
        "id": "nWwCLjFrBGYs"
      },
      "execution_count": null,
      "outputs": []
    },
    {
      "cell_type": "code",
      "source": [
        "#Generating predictions to csv\n",
        "output = pd.DataFrame({'Id': test['Id'],\n",
        "                       'SalePrice': lr_prdeds})"
      ],
      "metadata": {
        "id": "wF5BrlhOYJLI"
      },
      "execution_count": null,
      "outputs": []
    },
    {
      "cell_type": "code",
      "source": [
        "output.to_csv('submission_lr_nolasso.csv', index=False)"
      ],
      "metadata": {
        "id": "vWzhFc1OYQ76"
      },
      "execution_count": null,
      "outputs": []
    },
    {
      "cell_type": "code",
      "source": [
        "#Generating predictions for default RandomForestRegressor\n",
        "rf.fit(X_train,y_train)\n",
        "rf_preds_test = rf.predict(X_test)\n",
        "rf_preds = rf.predict(X_val_nonan)\n",
        "mean_squared_error(rf_preds_test, y_test, squared=False)"
      ],
      "metadata": {
        "id": "TI7HNI1ZYxRN"
      },
      "execution_count": null,
      "outputs": []
    },
    {
      "cell_type": "markdown",
      "source": [
        "Default RFR is performing worse than simple Linear Regression with defualt settings. Maybe there is some overfitting here? (with best_params rfr). Trying the first params selected by the RandomizedSearchCV"
      ],
      "metadata": {
        "id": "rr-3PXC5Zg7c"
      }
    },
    {
      "cell_type": "code",
      "source": [
        "rfr_best_RandomSearchCV = RandomForestRegressor(bootstrap=False, max_depth=130, max_features='sqrt',\n",
        "                      min_samples_split=4, n_estimators=800)"
      ],
      "metadata": {
        "id": "R9Cro_iOZ7W9"
      },
      "execution_count": null,
      "outputs": []
    },
    {
      "cell_type": "code",
      "source": [
        "rfr_best_RandomSearchCV.fit(X_train,y_train)\n",
        "rf_preds_test = rfr_best_RandomSearchCV.predict(X_test)\n",
        "rf_preds = rfr_best_RandomSearchCV.predict(X_val_nonan)\n",
        "mean_squared_error(rf_preds_test, y_test, squared=False)"
      ],
      "metadata": {
        "id": "PLSbruLMaKKp"
      },
      "execution_count": null,
      "outputs": []
    },
    {
      "cell_type": "markdown",
      "source": [
        "Still best results for Linear Regression. \n",
        "Maybe it is because of how the data was selected by. \n",
        "\n",
        "I'll try to work on LinearRegression params. A little."
      ],
      "metadata": {
        "id": "ePk0zWvTaZDv"
      }
    },
    {
      "cell_type": "code",
      "source": [
        "lr_clf_best = LinearRegression(normalize=True)\n",
        "lr_clf_best.fit(X_train, y_train)\n",
        "lr_clf_best_test_preds = lr_clf_best.predict(X_test)\n",
        "lr_clf_best_preds = lr_clf_best.predict(X_val_nonan)\n",
        "mean_squared_error(lr_clf_best_test_preds, y_test, squared=False)"
      ],
      "metadata": {
        "id": "JlG2a7hKa52f"
      },
      "execution_count": null,
      "outputs": []
    },
    {
      "cell_type": "markdown",
      "source": [
        "A little better? But just a little. \n",
        "Nah... It is something different.\n",
        "\n",
        "Okay let's try xgboost. "
      ],
      "metadata": {
        "id": "UZFS7IyMby07"
      }
    },
    {
      "cell_type": "markdown",
      "source": [
        "###XGBoost, predictions and scores"
      ],
      "metadata": {
        "id": "wg2-m8JD-6bE"
      }
    },
    {
      "cell_type": "code",
      "source": [
        "from xgboost import XGBRegressor"
      ],
      "metadata": {
        "id": "wMVcNMjHY8z9"
      },
      "execution_count": null,
      "outputs": []
    },
    {
      "cell_type": "code",
      "source": [
        "xgb_base= XGBRegressor(random_state=1, n_estimators = 1000, learning_rate= 0.05)"
      ],
      "metadata": {
        "id": "eIG1lD9iZb3k"
      },
      "execution_count": null,
      "outputs": []
    },
    {
      "cell_type": "code",
      "source": [
        "xgb_base.fit(X_train,y_train)"
      ],
      "metadata": {
        "id": "ANzL3qKHZmCQ"
      },
      "execution_count": null,
      "outputs": []
    },
    {
      "cell_type": "code",
      "source": [
        "xgb_test_preds = xgb_base.predict(X_test)\n",
        "xgb_val_preds = xgb_base.predict(X_val_nonan)"
      ],
      "metadata": {
        "id": "WbCSqQCKZzkv"
      },
      "execution_count": null,
      "outputs": []
    },
    {
      "cell_type": "code",
      "source": [
        "#mean_squared_error(xgb_test_preds, y_test, squared=False)#DEF model score"
      ],
      "metadata": {
        "id": "BED0YJKmakJY"
      },
      "execution_count": null,
      "outputs": []
    },
    {
      "cell_type": "code",
      "source": [
        "mean_squared_error(xgb_test_preds, y_test, squared=False)#Random parameters model score"
      ],
      "metadata": {
        "id": "0tYn3LgafKzx"
      },
      "execution_count": null,
      "outputs": []
    },
    {
      "cell_type": "code",
      "source": [
        "output = pd.DataFrame({'Id': test['Id'],\n",
        "                       'SalePrice': xgb_val_preds})"
      ],
      "metadata": {
        "id": "T0c6hGM0o2Jm"
      },
      "execution_count": null,
      "outputs": []
    },
    {
      "cell_type": "code",
      "source": [
        "output.to_csv('submission_xgb_random_params_no_lasso.csv', index=False)"
      ],
      "metadata": {
        "id": "SrvTHdXnpPMa"
      },
      "execution_count": null,
      "outputs": []
    },
    {
      "cell_type": "markdown",
      "source": [
        "Default xgb is perfroming worser than the LinearRegression. Let's check out for the best parameters of xgboost with randsearchcv and gridserachcv. \n",
        "\n",
        "---\n",
        "\n",
        "With random attempt of parameters tuning xgboost has the best score from all. Nice! Let's dive ddeeper with it. \n",
        "\n",
        "Time to check out some videos and articles about it."
      ],
      "metadata": {
        "id": "aVyakJqda79N"
      }
    },
    {
      "cell_type": "code",
      "source": [
        "#Parameters for random grid\n",
        "#Number of trees in RandomForrestRegressor start-stop\n",
        "n_estimators = [int(x) for x in np.linspace(start=200, stop=2000, num=10)]\n",
        "#Number of features to consider at every split\n",
        "max_features = ['auto', 'sqrt']\n",
        "#Max number of levels in the tree\n",
        "max_depth = [int(x) for x in np.linspace(start=10, stop=110, num=11)]\n",
        "max_depth.append(None)\n",
        "#MIn number of samples to perform a split\n",
        "min_samples_split = [2,5,10]\n",
        "#Min samples for each leaf node\n",
        "min_samples_leaf = [1,2,4]\n",
        "#Method of selection of samples for training the tree\n",
        "bootstrap = [True,False]\n",
        "\n",
        "#Creating random grid\n",
        "random_grid = {\n",
        "    'n_estimators': n_estimators,\n",
        "    'max_features': max_features,\n",
        "    'max_depth': max_depth,\n",
        "    'min_samples_split': min_samples_split,\n",
        "    'min_samples_leaf': min_samples_leaf,\n",
        "    'bootstrap': bootstrap\n",
        "}\n"
      ],
      "metadata": {
        "id": "fG6arHZ-bt_m"
      },
      "execution_count": null,
      "outputs": []
    },
    {
      "cell_type": "code",
      "source": [
        "params={\n",
        " \"learning_rate\"    : [0.05, 0.10, 0.15, 0.20, 0.25, 0.30 ] ,\n",
        " \"max_depth\"        : [ 3, 4, 5, 6, 8, 10, 12, 15],\n",
        " \"min_child_weight\" : [ 1, 3, 5, 7 ],\n",
        " \"gamma\"            : [ 0.0, 0.1, 0.2 , 0.3, 0.4 ],\n",
        " \"colsample_bytree\" : [ 0.3, 0.4, 0.5 , 0.7 ]\n",
        "    \n",
        "}"
      ],
      "metadata": {
        "id": "96iFFX1MlWkt"
      },
      "execution_count": null,
      "outputs": []
    },
    {
      "cell_type": "code",
      "source": [
        "#Searching for best parameters for further evaluation with RandomSearch\n",
        "#Creating object for model\n",
        "xgb_base=  XGBRegressor()\n",
        "#Searching for parameters with 3 folds cv, searching across 100 different parameters combinations, with all available cores\n",
        "xgb_random = RandomizedSearchCV(estimator=xgb_base, param_distributions=params, n_iter=5, cv=3, n_jobs=-1, verbose=3, random_state=42)"
      ],
      "metadata": {
        "id": "idoqGrURbJvE"
      },
      "execution_count": null,
      "outputs": []
    },
    {
      "cell_type": "code",
      "source": [
        "xgb_random.fit(x,y)"
      ],
      "metadata": {
        "id": "lHgiQpVRluq3"
      },
      "execution_count": null,
      "outputs": []
    },
    {
      "cell_type": "code",
      "source": [
        "xgb_random.best_estimator_"
      ],
      "metadata": {
        "id": "2xQLgS2omOrB"
      },
      "execution_count": null,
      "outputs": []
    },
    {
      "cell_type": "code",
      "source": [
        "xgb_random.best_params_"
      ],
      "metadata": {
        "id": "3z5AIX0FmYQJ"
      },
      "execution_count": null,
      "outputs": []
    },
    {
      "cell_type": "code",
      "source": [
        "xgb_random = XGBRegressor(colsample_bytree=0.7, gamma=0.1, learning_rate=0.2, max_depth=4,\n",
        "             min_child_weight=5)"
      ],
      "metadata": {
        "id": "RoYPv3Fome5U"
      },
      "execution_count": null,
      "outputs": []
    },
    {
      "cell_type": "code",
      "source": [
        "xgb_random.fit(X_train,y_train)\n",
        "xgb_test_preds = xgb_random.predict(X_test)\n",
        "xgb_val_preds = xgb_random.predict(X_val_nonan)"
      ],
      "metadata": {
        "id": "Z1a94YKFmja6"
      },
      "execution_count": null,
      "outputs": []
    },
    {
      "cell_type": "code",
      "source": [
        "mean_squared_error(xgb_test_preds, y_test, squared=False)"
      ],
      "metadata": {
        "id": "Ru8A-JmjmxEL"
      },
      "execution_count": null,
      "outputs": []
    },
    {
      "cell_type": "markdown",
      "source": [
        "Okay. I've got it. Proabably there is an issue with selected features or something like that. My previous models withing Learning competition scored better than all of these after all my work :P \n",
        "\n",
        "Time to check out the lasso. \n",
        "\n",
        "----\n",
        "Checked how the model would performed without lasso. Without lasso performance is far worse than with. Still. I think it is a good idea to take a closer look at feataure selection first before hyperparameter tuning. \n",
        "\n",
        "\n"
      ],
      "metadata": {
        "id": "lGRQ35d-qsLb"
      }
    },
    {
      "cell_type": "markdown",
      "source": [
        "##Lasso\n",
        "\n",
        "Let's try to make predictions using Lasso."
      ],
      "metadata": {
        "id": "6J_66tdL2dJ_"
      }
    },
    {
      "cell_type": "code",
      "source": [
        "x_test, x_train, y_test, y_train = train_test_split(lasso_selected, y, random_state=42)"
      ],
      "metadata": {
        "id": "j_1bnIHp8XSw"
      },
      "execution_count": 110,
      "outputs": []
    },
    {
      "cell_type": "markdown",
      "source": [
        "####GridSearch for Lasso\n",
        "\n",
        "On hyperparameter tuning in Lasso and Ridge:\n",
        "* [Hyperparameter Tuning in Lasso and Ridge Regressions]('https://towardsdatascience.com/hyperparameter-tuning-in-lasso-and-ridge-regressions-70a4b158ae6d')\n"
      ],
      "metadata": {
        "id": "qF8fSx9wBlTZ"
      }
    },
    {
      "cell_type": "code",
      "source": [
        "lasso = Lasso()"
      ],
      "metadata": {
        "id": "5mH08_xoBskI"
      },
      "execution_count": 111,
      "outputs": []
    },
    {
      "cell_type": "code",
      "source": [
        "alphas = np.linspace(0, 0.0006, 100)\n",
        "grid = dict()\n",
        "grid['alpha'] = alphas\n",
        "cv = RepeatedKFold(n_splits=10, n_repeats=3, random_state=1)"
      ],
      "metadata": {
        "id": "bq7rjPQEGpch"
      },
      "execution_count": 112,
      "outputs": []
    },
    {
      "cell_type": "code",
      "source": [
        "lasso_grid = GridSearchCV(lasso, grid, n_jobs=-1, cv=cv, verbose=3, scoring='neg_mean_absolute_error')"
      ],
      "metadata": {
        "id": "mKuqxILoGhe9"
      },
      "execution_count": 113,
      "outputs": []
    },
    {
      "cell_type": "code",
      "source": [
        "lasso_grid_scores = lasso_grid.fit(x_train,y_train)"
      ],
      "metadata": {
        "colab": {
          "base_uri": "https://localhost:8080/"
        },
        "id": "sz1_-4uWMLSL",
        "outputId": "d651cc64-20e8-4bab-8899-5e34181044b5"
      },
      "execution_count": 114,
      "outputs": [
        {
          "output_type": "stream",
          "name": "stdout",
          "text": [
            "Fitting 30 folds for each of 100 candidates, totalling 3000 fits\n"
          ]
        }
      ]
    },
    {
      "cell_type": "code",
      "source": [
        "lasso_grid_scores.best_score_"
      ],
      "metadata": {
        "colab": {
          "base_uri": "https://localhost:8080/"
        },
        "id": "XWGH-s94M20p",
        "outputId": "cbbf349d-574f-40f8-cd5e-4f685431fa59"
      },
      "execution_count": 115,
      "outputs": [
        {
          "output_type": "execute_result",
          "data": {
            "text/plain": [
              "-0.09996020797839995"
            ]
          },
          "metadata": {},
          "execution_count": 115
        }
      ]
    },
    {
      "cell_type": "code",
      "source": [
        "lasso_grid_scores.best_estimator_"
      ],
      "metadata": {
        "colab": {
          "base_uri": "https://localhost:8080/"
        },
        "id": "Kw5hOC_tM8bb",
        "outputId": "deab944d-57ba-4454-ec58-344778453c69"
      },
      "execution_count": 116,
      "outputs": [
        {
          "output_type": "execute_result",
          "data": {
            "text/plain": [
              "Lasso(alpha=0.0004969696969696969)"
            ]
          },
          "metadata": {},
          "execution_count": 116
        }
      ]
    },
    {
      "cell_type": "code",
      "source": [
        "lasso_grid_scores = lasso_grid.fit(X,y)"
      ],
      "metadata": {
        "colab": {
          "base_uri": "https://localhost:8080/"
        },
        "id": "nHJNaHsjNLmy",
        "outputId": "a1c434b4-9421-4958-dff8-82c1c2c2fa4a"
      },
      "execution_count": 117,
      "outputs": [
        {
          "output_type": "stream",
          "name": "stdout",
          "text": [
            "Fitting 30 folds for each of 100 candidates, totalling 3000 fits\n"
          ]
        }
      ]
    },
    {
      "cell_type": "code",
      "source": [
        "lasso_grid_scores.best_score_"
      ],
      "metadata": {
        "colab": {
          "base_uri": "https://localhost:8080/"
        },
        "id": "bftOK__TNcJM",
        "outputId": "1d55e360-1bab-495e-970b-983a8be43962"
      },
      "execution_count": 118,
      "outputs": [
        {
          "output_type": "execute_result",
          "data": {
            "text/plain": [
              "-0.08689547674483111"
            ]
          },
          "metadata": {},
          "execution_count": 118
        }
      ]
    },
    {
      "cell_type": "code",
      "source": [
        "lasso_grid_scores.best_estimator_"
      ],
      "metadata": {
        "colab": {
          "base_uri": "https://localhost:8080/"
        },
        "id": "R7BafDHcNiDx",
        "outputId": "ea352de6-7a2e-4ef4-81f7-d3faf60fcfbc"
      },
      "execution_count": 119,
      "outputs": [
        {
          "output_type": "execute_result",
          "data": {
            "text/plain": [
              "Lasso(alpha=4.242424242424242e-05)"
            ]
          },
          "metadata": {},
          "execution_count": 119
        }
      ]
    },
    {
      "cell_type": "markdown",
      "source": [
        "####Predictions lasso with gridsearchcv"
      ],
      "metadata": {
        "id": "1xmkpzc9UFZO"
      }
    },
    {
      "cell_type": "code",
      "source": [
        "lasso_grid_best_estimator = Lasso(alpha=0.0004969696969696969)"
      ],
      "metadata": {
        "id": "NgXjzmJrUJPX"
      },
      "execution_count": 120,
      "outputs": []
    },
    {
      "cell_type": "code",
      "source": [
        "lasso_grid_best_estimator.fit(x_train, y_train)"
      ],
      "metadata": {
        "colab": {
          "base_uri": "https://localhost:8080/"
        },
        "id": "ew_u4b6UUXy3",
        "outputId": "8dcc64d4-2de6-4d03-e286-3bd103e9e73e"
      },
      "execution_count": 121,
      "outputs": [
        {
          "output_type": "execute_result",
          "data": {
            "text/plain": [
              "Lasso(alpha=0.0004969696969696969)"
            ]
          },
          "metadata": {},
          "execution_count": 121
        }
      ]
    },
    {
      "cell_type": "code",
      "source": [
        "preds_x_test = lasso_grid_best_estimator.predict(x_test)"
      ],
      "metadata": {
        "id": "3EqYAokCUh1j"
      },
      "execution_count": 122,
      "outputs": []
    },
    {
      "cell_type": "code",
      "source": [
        "preds_x_val = lasso_grid_best_estimator.predict(x_val_lasso_selected)"
      ],
      "metadata": {
        "id": "oppPoHIXUzVd"
      },
      "execution_count": 123,
      "outputs": []
    },
    {
      "cell_type": "code",
      "source": [
        "mean_squared_error(preds_x_test, y_test, squared=False)"
      ],
      "metadata": {
        "colab": {
          "base_uri": "https://localhost:8080/"
        },
        "id": "dvXvy6JEVCHt",
        "outputId": "0eba82c6-3490-4bfa-c0bb-e087c5fb5c3d"
      },
      "execution_count": 124,
      "outputs": [
        {
          "output_type": "execute_result",
          "data": {
            "text/plain": [
              "0.1419847518332414"
            ]
          },
          "metadata": {},
          "execution_count": 124
        }
      ]
    },
    {
      "cell_type": "markdown",
      "source": [
        "Definetly Lasso did it's job with features selection earlier and now it is not the best choice for predictions. \n",
        "\n",
        "Best results still are going to xgboost. Maybe i should dig deeper to ding better parameters? It is also interesting that, xgboost performed slightly better without lasso feature selection. "
      ],
      "metadata": {
        "id": "12sA-kqPGQvg"
      }
    },
    {
      "cell_type": "code",
      "source": [
        "alphas = [0.05, 0.1, 0.3, 1, 3, 5, 10, 15, 30, 50, 75]\n",
        "cv_ridge = [rmse_score(Ridge(alpha = alpha)).mean() \n",
        "            for alpha in alphas]\n",
        "cv_lasso = [rmse_score(Lasso(alpha = alpha)).mean() \n",
        "            for alpha in alphas]"
      ],
      "metadata": {
        "id": "uraICmthZ1AW"
      },
      "execution_count": 137,
      "outputs": []
    },
    {
      "cell_type": "code",
      "source": [
        "cv_ridge = pd.Series(cv_ridge, index = alphas)\n",
        "cv_ridge.plot(title = \"Validation - Just Do It\")\n",
        "plt.xlabel(\"alpha\")\n",
        "plt.ylabel(\"rmse\")"
      ],
      "metadata": {
        "colab": {
          "base_uri": "https://localhost:8080/",
          "height": 312
        },
        "id": "dk-Osol7Z1cj",
        "outputId": "a65bf214-f57a-4d5e-a285-8779cc15a543"
      },
      "execution_count": 138,
      "outputs": [
        {
          "output_type": "execute_result",
          "data": {
            "text/plain": [
              "Text(0, 0.5, 'rmse')"
            ]
          },
          "metadata": {},
          "execution_count": 138
        },
        {
          "output_type": "display_data",
          "data": {
            "image/png": "[encoded data removed]",
            "text/plain": [
              "<Figure size 432x288 with 1 Axes>"
            ]
          },
          "metadata": {
            "needs_background": "light"
          }
        }
      ]
    },
    {
      "cell_type": "code",
      "source": [
        "cv_lasso = pd.Series(cv_lasso, index = alphas)\n",
        "cv_lasso.plot(title = \"Validation - Just Do It\")\n",
        "plt.xlabel(\"alpha\")\n",
        "plt.ylabel(\"rmse\")"
      ],
      "metadata": {
        "colab": {
          "base_uri": "https://localhost:8080/",
          "height": 312
        },
        "id": "sXpQ-6l8ahLs",
        "outputId": "ecd471d0-d8d6-43ef-d0f4-a16b09c81ea9"
      },
      "execution_count": 139,
      "outputs": [
        {
          "output_type": "execute_result",
          "data": {
            "text/plain": [
              "Text(0, 0.5, 'rmse')"
            ]
          },
          "metadata": {},
          "execution_count": 139
        },
        {
          "output_type": "display_data",
          "data": {
            "image/png": "[encoded data removed]",
            "text/plain": [
              "<Figure size 432x288 with 1 Axes>"
            ]
          },
          "metadata": {
            "needs_background": "light"
          }
        }
      ]
    },
    {
      "cell_type": "markdown",
      "source": [
        "Chcked how the alpha value is changing in lasso selected featires (code from https://www.kaggle.com/apapiu/regularized-linear-models), it seems like my data is performing differently. Pretty much because of the feature engineering in my earlier notebook. I think it is possible that some of the models (because of the feature scaling etc, will not perform good on this data. \n",
        "\n",
        "In the last resort I could take a look again at the data before the feature engineering part. But I think that, I'd probably do better, to check out different datasets and resources and not banging my head through this wall :) Some fresh data air would also be appreciated. "
      ],
      "metadata": {
        "id": "2FPRhGQLcX2U"
      }
    }
  ]
}
