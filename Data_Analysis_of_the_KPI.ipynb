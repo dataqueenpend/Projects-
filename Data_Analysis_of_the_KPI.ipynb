{
  "nbformat": 4,
  "nbformat_minor": 0,
  "metadata": {
    "colab": {
      "name": "Data_Analysis_of_the_KPI.ipynb",
      "provenance": [],
      "collapsed_sections": [],
      "authorship_tag": "ABX9TyPKnlWYjSJ6lhBKGTu6gB+m",
      "include_colab_link": true
    },
    "kernelspec": {
      "name": "python3",
      "display_name": "Python 3"
    },
    "language_info": {
      "name": "python"
    }
  },
  "cells": [
    {
      "cell_type": "markdown",
      "metadata": {
        "id": "view-in-github",
        "colab_type": "text"
      },
      "source": [
        "<a href=\"https://colab.research.google.com/github/dataqueenpend/Projects-/blob/main/Data_Analysis_of_the_KPI.ipynb\" target=\"_parent\"><img src=\"https://colab.research.google.com/assets/colab-badge.svg\" alt=\"Open In Colab\"/></a>"
      ]
    },
    {
      "cell_type": "markdown",
      "source": [
        "###Preparing the data for the Analysis. \n",
        "* Importing libraries. \n",
        "* Reading csv file.\n",
        "* Cleaning, transforming, correcting. \n"
      ],
      "metadata": {
        "id": "wRjmbXgU21m2"
      }
    },
    {
      "cell_type": "code",
      "execution_count": null,
      "metadata": {
        "id": "xPvUxgb7BIhT"
      },
      "outputs": [],
      "source": [
        "import numpy as np\n",
        "import pandas as pd\n",
        "import matplotlib.pyplot as plt\n",
        "import seaborn as sns\n",
        "import warnings\n",
        "%matplotlib inline\n",
        "warnings.filterwarnings('ignore')"
      ]
    },
    {
      "cell_type": "code",
      "source": [
        "data = pd.read_csv('/content/csv recrttask.csv',delimiter=';', names=['ntiD', 'AHT US', 'AHT EU', 'Quality', 'Number of cases'] )"
      ],
      "metadata": {
        "id": "m7FeV_fnBNrz"
      },
      "execution_count": null,
      "outputs": []
    },
    {
      "cell_type": "code",
      "source": [
        "data.head()"
      ],
      "metadata": {
        "colab": {
          "base_uri": "https://localhost:8080/",
          "height": 206
        },
        "id": "BVhgznn6EUJT",
        "outputId": "867603cb-da30-4ad6-eecf-01b75dd58e89"
      },
      "execution_count": null,
      "outputs": [
        {
          "output_type": "execute_result",
          "data": {
            "text/html": [
              "\n",
              "  <div id=\"df-007642dc-c26b-4e8b-b841-225984ffc1b7\">\n",
              "    <div class=\"colab-df-container\">\n",
              "      <div>\n",
              "<style scoped>\n",
              "    .dataframe tbody tr th:only-of-type {\n",
              "        vertical-align: middle;\n",
              "    }\n",
              "\n",
              "    .dataframe tbody tr th {\n",
              "        vertical-align: top;\n",
              "    }\n",
              "\n",
              "    .dataframe thead th {\n",
              "        text-align: right;\n",
              "    }\n",
              "</style>\n",
              "<table border=\"1\" class=\"dataframe\">\n",
              "  <thead>\n",
              "    <tr style=\"text-align: right;\">\n",
              "      <th></th>\n",
              "      <th>ntiD</th>\n",
              "      <th>AHT US</th>\n",
              "      <th>AHT EU</th>\n",
              "      <th>Quality</th>\n",
              "      <th>Number of cases</th>\n",
              "    </tr>\n",
              "  </thead>\n",
              "  <tbody>\n",
              "    <tr>\n",
              "      <th>0</th>\n",
              "      <td>1</td>\n",
              "      <td>416,7</td>\n",
              "      <td>554,4</td>\n",
              "      <td>95,6%</td>\n",
              "      <td>503</td>\n",
              "    </tr>\n",
              "    <tr>\n",
              "      <th>1</th>\n",
              "      <td>2</td>\n",
              "      <td>613,5</td>\n",
              "      <td>474,8</td>\n",
              "      <td>99,0%</td>\n",
              "      <td>260</td>\n",
              "    </tr>\n",
              "    <tr>\n",
              "      <th>2</th>\n",
              "      <td>3</td>\n",
              "      <td>430,7</td>\n",
              "      <td>324,3</td>\n",
              "      <td>100,0%</td>\n",
              "      <td>385</td>\n",
              "    </tr>\n",
              "    <tr>\n",
              "      <th>3</th>\n",
              "      <td>4</td>\n",
              "      <td>579,0</td>\n",
              "      <td>594,8</td>\n",
              "      <td>93,8%</td>\n",
              "      <td>412</td>\n",
              "    </tr>\n",
              "    <tr>\n",
              "      <th>4</th>\n",
              "      <td>5</td>\n",
              "      <td>403,9</td>\n",
              "      <td>222,2</td>\n",
              "      <td>78,9%</td>\n",
              "      <td>1089</td>\n",
              "    </tr>\n",
              "  </tbody>\n",
              "</table>\n",
              "</div>\n",
              "      <button class=\"colab-df-convert\" onclick=\"convertToInteractive('df-007642dc-c26b-4e8b-b841-225984ffc1b7')\"\n",
              "              title=\"Convert this dataframe to an interactive table.\"\n",
              "              style=\"display:none;\">\n",
              "        \n",
              "  <svg xmlns=\"http://www.w3.org/2000/svg\" height=\"24px\"viewBox=\"0 0 24 24\"\n",
              "       width=\"24px\">\n",
              "    <path d=\"M0 0h24v24H0V0z\" fill=\"none\"/>\n",
              "    <path d=\"M18.56 5.44l.94 2.06.94-2.06 2.06-.94-2.06-.94-.94-2.06-.94 2.06-2.06.94zm-11 1L8.5 8.5l.94-2.06 2.06-.94-2.06-.94L8.5 2.5l-.94 2.06-2.06.94zm10 10l.94 2.06.94-2.06 2.06-.94-2.06-.94-.94-2.06-.94 2.06-2.06.94z\"/><path d=\"M17.41 7.96l-1.37-1.37c-.4-.4-.92-.59-1.43-.59-.52 0-1.04.2-1.43.59L10.3 9.45l-7.72 7.72c-.78.78-.78 2.05 0 2.83L4 21.41c.39.39.9.59 1.41.59.51 0 1.02-.2 1.41-.59l7.78-7.78 2.81-2.81c.8-.78.8-2.07 0-2.86zM5.41 20L4 18.59l7.72-7.72 1.47 1.35L5.41 20z\"/>\n",
              "  </svg>\n",
              "      </button>\n",
              "      \n",
              "  <style>\n",
              "    .colab-df-container {\n",
              "      display:flex;\n",
              "      flex-wrap:wrap;\n",
              "      gap: 12px;\n",
              "    }\n",
              "\n",
              "    .colab-df-convert {\n",
              "      background-color: #E8F0FE;\n",
              "      border: none;\n",
              "      border-radius: 50%;\n",
              "      cursor: pointer;\n",
              "      display: none;\n",
              "      fill: #1967D2;\n",
              "      height: 32px;\n",
              "      padding: 0 0 0 0;\n",
              "      width: 32px;\n",
              "    }\n",
              "\n",
              "    .colab-df-convert:hover {\n",
              "      background-color: #E2EBFA;\n",
              "      box-shadow: 0px 1px 2px rgba(60, 64, 67, 0.3), 0px 1px 3px 1px rgba(60, 64, 67, 0.15);\n",
              "      fill: #174EA6;\n",
              "    }\n",
              "\n",
              "    [theme=dark] .colab-df-convert {\n",
              "      background-color: #3B4455;\n",
              "      fill: #D2E3FC;\n",
              "    }\n",
              "\n",
              "    [theme=dark] .colab-df-convert:hover {\n",
              "      background-color: #434B5C;\n",
              "      box-shadow: 0px 1px 3px 1px rgba(0, 0, 0, 0.15);\n",
              "      filter: drop-shadow(0px 1px 2px rgba(0, 0, 0, 0.3));\n",
              "      fill: #FFFFFF;\n",
              "    }\n",
              "  </style>\n",
              "\n",
              "      <script>\n",
              "        const buttonEl =\n",
              "          document.querySelector('#df-007642dc-c26b-4e8b-b841-225984ffc1b7 button.colab-df-convert');\n",
              "        buttonEl.style.display =\n",
              "          google.colab.kernel.accessAllowed ? 'block' : 'none';\n",
              "\n",
              "        async function convertToInteractive(key) {\n",
              "          const element = document.querySelector('#df-007642dc-c26b-4e8b-b841-225984ffc1b7');\n",
              "          const dataTable =\n",
              "            await google.colab.kernel.invokeFunction('convertToInteractive',\n",
              "                                                     [key], {});\n",
              "          if (!dataTable) return;\n",
              "\n",
              "          const docLinkHtml = 'Like what you see? Visit the ' +\n",
              "            '<a target=\"_blank\" href=https://colab.research.google.com/notebooks/data_table.ipynb>data table notebook</a>'\n",
              "            + ' to learn more about interactive tables.';\n",
              "          element.innerHTML = '';\n",
              "          dataTable['output_type'] = 'display_data';\n",
              "          await google.colab.output.renderOutput(dataTable, element);\n",
              "          const docLink = document.createElement('div');\n",
              "          docLink.innerHTML = docLinkHtml;\n",
              "          element.appendChild(docLink);\n",
              "        }\n",
              "      </script>\n",
              "    </div>\n",
              "  </div>\n",
              "  "
            ],
            "text/plain": [
              "   ntiD AHT US AHT EU Quality  Number of cases\n",
              "0     1  416,7  554,4   95,6%              503\n",
              "1     2  613,5  474,8   99,0%              260\n",
              "2     3  430,7  324,3  100,0%              385\n",
              "3     4  579,0  594,8   93,8%              412\n",
              "4     5  403,9  222,2   78,9%             1089"
            ]
          },
          "metadata": {},
          "execution_count": 6
        }
      ]
    },
    {
      "cell_type": "code",
      "source": [
        "data.set_index('ntiD')"
      ],
      "metadata": {
        "colab": {
          "base_uri": "https://localhost:8080/",
          "height": 488
        },
        "id": "CEwIopT5FasV",
        "outputId": "ac22b275-e3bb-4664-ab23-58821aa645a1"
      },
      "execution_count": null,
      "outputs": [
        {
          "output_type": "execute_result",
          "data": {
            "text/html": [
              "\n",
              "  <div id=\"df-ce39c65a-523d-4cda-9260-1ee47c30929e\">\n",
              "    <div class=\"colab-df-container\">\n",
              "      <div>\n",
              "<style scoped>\n",
              "    .dataframe tbody tr th:only-of-type {\n",
              "        vertical-align: middle;\n",
              "    }\n",
              "\n",
              "    .dataframe tbody tr th {\n",
              "        vertical-align: top;\n",
              "    }\n",
              "\n",
              "    .dataframe thead th {\n",
              "        text-align: right;\n",
              "    }\n",
              "</style>\n",
              "<table border=\"1\" class=\"dataframe\">\n",
              "  <thead>\n",
              "    <tr style=\"text-align: right;\">\n",
              "      <th></th>\n",
              "      <th>AHT US</th>\n",
              "      <th>AHT EU</th>\n",
              "      <th>Quality</th>\n",
              "      <th>Number of cases</th>\n",
              "    </tr>\n",
              "    <tr>\n",
              "      <th>ntiD</th>\n",
              "      <th></th>\n",
              "      <th></th>\n",
              "      <th></th>\n",
              "      <th></th>\n",
              "    </tr>\n",
              "  </thead>\n",
              "  <tbody>\n",
              "    <tr>\n",
              "      <th>1</th>\n",
              "      <td>416,7</td>\n",
              "      <td>554,4</td>\n",
              "      <td>95,6%</td>\n",
              "      <td>503</td>\n",
              "    </tr>\n",
              "    <tr>\n",
              "      <th>2</th>\n",
              "      <td>613,5</td>\n",
              "      <td>474,8</td>\n",
              "      <td>99,0%</td>\n",
              "      <td>260</td>\n",
              "    </tr>\n",
              "    <tr>\n",
              "      <th>3</th>\n",
              "      <td>430,7</td>\n",
              "      <td>324,3</td>\n",
              "      <td>100,0%</td>\n",
              "      <td>385</td>\n",
              "    </tr>\n",
              "    <tr>\n",
              "      <th>4</th>\n",
              "      <td>579,0</td>\n",
              "      <td>594,8</td>\n",
              "      <td>93,8%</td>\n",
              "      <td>412</td>\n",
              "    </tr>\n",
              "    <tr>\n",
              "      <th>5</th>\n",
              "      <td>403,9</td>\n",
              "      <td>222,2</td>\n",
              "      <td>78,9%</td>\n",
              "      <td>1089</td>\n",
              "    </tr>\n",
              "    <tr>\n",
              "      <th>6</th>\n",
              "      <td>406,5</td>\n",
              "      <td>692,2</td>\n",
              "      <td>90,6%</td>\n",
              "      <td>894</td>\n",
              "    </tr>\n",
              "    <tr>\n",
              "      <th>7</th>\n",
              "      <td>364,4</td>\n",
              "      <td>158,1</td>\n",
              "      <td>51,4%</td>\n",
              "      <td>233</td>\n",
              "    </tr>\n",
              "    <tr>\n",
              "      <th>8</th>\n",
              "      <td>388,4</td>\n",
              "      <td>300,0</td>\n",
              "      <td>84,7%</td>\n",
              "      <td>1170</td>\n",
              "    </tr>\n",
              "    <tr>\n",
              "      <th>9</th>\n",
              "      <td>617,9</td>\n",
              "      <td>234,4</td>\n",
              "      <td>92,3%</td>\n",
              "      <td>510</td>\n",
              "    </tr>\n",
              "    <tr>\n",
              "      <th>10</th>\n",
              "      <td>459,6</td>\n",
              "      <td>543,9</td>\n",
              "      <td>100,0%</td>\n",
              "      <td>1036</td>\n",
              "    </tr>\n",
              "    <tr>\n",
              "      <th>11</th>\n",
              "      <td>283,9</td>\n",
              "      <td>236,4</td>\n",
              "      <td>62,4%</td>\n",
              "      <td>830</td>\n",
              "    </tr>\n",
              "    <tr>\n",
              "      <th>12</th>\n",
              "      <td>519,9</td>\n",
              "      <td>411,3</td>\n",
              "      <td>89,5%</td>\n",
              "      <td>815</td>\n",
              "    </tr>\n",
              "    <tr>\n",
              "      <th>13</th>\n",
              "      <td>356,2</td>\n",
              "      <td>258,7</td>\n",
              "      <td>76,0%</td>\n",
              "      <td>1310</td>\n",
              "    </tr>\n",
              "  </tbody>\n",
              "</table>\n",
              "</div>\n",
              "      <button class=\"colab-df-convert\" onclick=\"convertToInteractive('df-ce39c65a-523d-4cda-9260-1ee47c30929e')\"\n",
              "              title=\"Convert this dataframe to an interactive table.\"\n",
              "              style=\"display:none;\">\n",
              "        \n",
              "  <svg xmlns=\"http://www.w3.org/2000/svg\" height=\"24px\"viewBox=\"0 0 24 24\"\n",
              "       width=\"24px\">\n",
              "    <path d=\"M0 0h24v24H0V0z\" fill=\"none\"/>\n",
              "    <path d=\"M18.56 5.44l.94 2.06.94-2.06 2.06-.94-2.06-.94-.94-2.06-.94 2.06-2.06.94zm-11 1L8.5 8.5l.94-2.06 2.06-.94-2.06-.94L8.5 2.5l-.94 2.06-2.06.94zm10 10l.94 2.06.94-2.06 2.06-.94-2.06-.94-.94-2.06-.94 2.06-2.06.94z\"/><path d=\"M17.41 7.96l-1.37-1.37c-.4-.4-.92-.59-1.43-.59-.52 0-1.04.2-1.43.59L10.3 9.45l-7.72 7.72c-.78.78-.78 2.05 0 2.83L4 21.41c.39.39.9.59 1.41.59.51 0 1.02-.2 1.41-.59l7.78-7.78 2.81-2.81c.8-.78.8-2.07 0-2.86zM5.41 20L4 18.59l7.72-7.72 1.47 1.35L5.41 20z\"/>\n",
              "  </svg>\n",
              "      </button>\n",
              "      \n",
              "  <style>\n",
              "    .colab-df-container {\n",
              "      display:flex;\n",
              "      flex-wrap:wrap;\n",
              "      gap: 12px;\n",
              "    }\n",
              "\n",
              "    .colab-df-convert {\n",
              "      background-color: #E8F0FE;\n",
              "      border: none;\n",
              "      border-radius: 50%;\n",
              "      cursor: pointer;\n",
              "      display: none;\n",
              "      fill: #1967D2;\n",
              "      height: 32px;\n",
              "      padding: 0 0 0 0;\n",
              "      width: 32px;\n",
              "    }\n",
              "\n",
              "    .colab-df-convert:hover {\n",
              "      background-color: #E2EBFA;\n",
              "      box-shadow: 0px 1px 2px rgba(60, 64, 67, 0.3), 0px 1px 3px 1px rgba(60, 64, 67, 0.15);\n",
              "      fill: #174EA6;\n",
              "    }\n",
              "\n",
              "    [theme=dark] .colab-df-convert {\n",
              "      background-color: #3B4455;\n",
              "      fill: #D2E3FC;\n",
              "    }\n",
              "\n",
              "    [theme=dark] .colab-df-convert:hover {\n",
              "      background-color: #434B5C;\n",
              "      box-shadow: 0px 1px 3px 1px rgba(0, 0, 0, 0.15);\n",
              "      filter: drop-shadow(0px 1px 2px rgba(0, 0, 0, 0.3));\n",
              "      fill: #FFFFFF;\n",
              "    }\n",
              "  </style>\n",
              "\n",
              "      <script>\n",
              "        const buttonEl =\n",
              "          document.querySelector('#df-ce39c65a-523d-4cda-9260-1ee47c30929e button.colab-df-convert');\n",
              "        buttonEl.style.display =\n",
              "          google.colab.kernel.accessAllowed ? 'block' : 'none';\n",
              "\n",
              "        async function convertToInteractive(key) {\n",
              "          const element = document.querySelector('#df-ce39c65a-523d-4cda-9260-1ee47c30929e');\n",
              "          const dataTable =\n",
              "            await google.colab.kernel.invokeFunction('convertToInteractive',\n",
              "                                                     [key], {});\n",
              "          if (!dataTable) return;\n",
              "\n",
              "          const docLinkHtml = 'Like what you see? Visit the ' +\n",
              "            '<a target=\"_blank\" href=https://colab.research.google.com/notebooks/data_table.ipynb>data table notebook</a>'\n",
              "            + ' to learn more about interactive tables.';\n",
              "          element.innerHTML = '';\n",
              "          dataTable['output_type'] = 'display_data';\n",
              "          await google.colab.output.renderOutput(dataTable, element);\n",
              "          const docLink = document.createElement('div');\n",
              "          docLink.innerHTML = docLinkHtml;\n",
              "          element.appendChild(docLink);\n",
              "        }\n",
              "      </script>\n",
              "    </div>\n",
              "  </div>\n",
              "  "
            ],
            "text/plain": [
              "     AHT US AHT EU Quality  Number of cases\n",
              "ntiD                                       \n",
              "1     416,7  554,4   95,6%              503\n",
              "2     613,5  474,8   99,0%              260\n",
              "3     430,7  324,3  100,0%              385\n",
              "4     579,0  594,8   93,8%              412\n",
              "5     403,9  222,2   78,9%             1089\n",
              "6     406,5  692,2   90,6%              894\n",
              "7     364,4  158,1   51,4%              233\n",
              "8     388,4  300,0   84,7%             1170\n",
              "9     617,9  234,4   92,3%              510\n",
              "10    459,6  543,9  100,0%             1036\n",
              "11    283,9  236,4   62,4%              830\n",
              "12    519,9  411,3   89,5%              815\n",
              "13    356,2  258,7   76,0%             1310"
            ]
          },
          "metadata": {},
          "execution_count": 7
        }
      ]
    },
    {
      "cell_type": "code",
      "source": [
        "data.dtypes"
      ],
      "metadata": {
        "colab": {
          "base_uri": "https://localhost:8080/"
        },
        "id": "znXJrJk8HLxq",
        "outputId": "7e8c9086-2a4c-4725-c355-55e16db4506b"
      },
      "execution_count": null,
      "outputs": [
        {
          "output_type": "execute_result",
          "data": {
            "text/plain": [
              "ntiD                int64\n",
              "AHT US             object\n",
              "AHT EU             object\n",
              "Quality            object\n",
              "Number of cases     int64\n",
              "dtype: object"
            ]
          },
          "metadata": {},
          "execution_count": 8
        }
      ]
    },
    {
      "cell_type": "code",
      "source": [
        "data[['AHT US', 'AHT EU', 'Quality']] = data[['AHT US', 'AHT EU', 'Quality']].apply(lambda x: x.str.replace(',','.'))"
      ],
      "metadata": {
        "id": "f0D2Z7lNHcSU"
      },
      "execution_count": null,
      "outputs": []
    },
    {
      "cell_type": "code",
      "source": [
        "data['Quality'] = data['Quality'].apply(lambda x: x.replace('%', ''))"
      ],
      "metadata": {
        "id": "iSPLy29PK2k-"
      },
      "execution_count": null,
      "outputs": []
    },
    {
      "cell_type": "code",
      "source": [
        "data[['AHT US', 'AHT EU', 'Quality']] = data[['AHT US', 'AHT EU', 'Quality']].apply(pd.to_numeric)"
      ],
      "metadata": {
        "id": "CK0e8SUkOf4P"
      },
      "execution_count": null,
      "outputs": []
    },
    {
      "cell_type": "code",
      "source": [
        "data.dtypes"
      ],
      "metadata": {
        "colab": {
          "base_uri": "https://localhost:8080/"
        },
        "id": "xW1LAyNqO7Ys",
        "outputId": "f8ad15cc-4d3b-4bec-9383-9cc190544137"
      },
      "execution_count": null,
      "outputs": [
        {
          "output_type": "execute_result",
          "data": {
            "text/plain": [
              "ntiD                 int64\n",
              "AHT US             float64\n",
              "AHT EU             float64\n",
              "Quality            float64\n",
              "Number of cases      int64\n",
              "dtype: object"
            ]
          },
          "metadata": {},
          "execution_count": 12
        }
      ]
    },
    {
      "cell_type": "markdown",
      "source": [
        "Data is prepared for the analysis. \n",
        "Datatypes converted to numeric. \n",
        "\n",
        "---\n",
        "Calculating mean values for average team results. "
      ],
      "metadata": {
        "id": "InTxLN0bPEu0"
      }
    },
    {
      "cell_type": "code",
      "source": [
        "#Calculating mean values\n",
        "aht_us_avg = np.mean(data['AHT US'])\n",
        "aht_eu_avg = np.mean(data['AHT EU'])\n",
        "quality_avg = np.mean(data['Quality'])\n",
        "num_cases_avg = np.mean(data['Number of cases'])"
      ],
      "metadata": {
        "id": "TkLkmKPFPfWg"
      },
      "execution_count": null,
      "outputs": []
    },
    {
      "cell_type": "markdown",
      "source": [
        "##Data Analysis of the TEAM RESULTS on EU and US markets\n",
        "\n",
        "\n",
        "\n",
        "\n",
        "\n",
        "\n"
      ],
      "metadata": {
        "id": "n7vNj6onV_cD"
      }
    },
    {
      "cell_type": "markdown",
      "source": [
        "####Data description\n",
        "We'll be analysing small dataset (13 entries) of the team results. Our dataframe consists 4 columns with information about: \n",
        "* AHT US - each entry stores a value of the teammate AHT score on the US queue\n",
        "* AHT EU - each entry stores a value of the teammate AHT score on the EU queue\n",
        "* Quality - each entry stores a values of the teammate Quality score on both queues\n",
        "* Number of cases - each entry stores a values of the teammate total worked number of cases on both queues.\n"
      ],
      "metadata": {
        "id": "S05QymBO34Q5"
      }
    },
    {
      "cell_type": "markdown",
      "source": [
        "###Agenda for the data analysis\n",
        "\n",
        "1. AHT Analysis \n",
        "2. Quality Analysis\n",
        "3. Number of cases analysis\n",
        "4. Correlations between the features\n",
        "5. Identifying teammates with the greatest impact on the AHT values\n",
        "6. Identifying teammates who need to work intesively on the Quality goal - 95%\n",
        "7. Identifying which KPI's should be work on first\n",
        "8. Identying which behaviors can cause low AHT levels\n",
        "9. How to improve whole team results?"
      ],
      "metadata": {
        "id": "7oonhJFB3yaz"
      }
    },
    {
      "cell_type": "markdown",
      "source": [
        "##AHT Analysis\n",
        "\n",
        "We'll check out on the EU and US market:\n",
        "* average AHT score for the whole team,\n",
        "* lowest and highest AHT scores of the individual team members, \n",
        "* average AHT in comparison with individual team members results, \n",
        "* 5 highest and lowest AHT in comparison to the average AHT. \n",
        "\n",
        "---\n",
        "First let's calculate the average results."
      ],
      "metadata": {
        "id": "7wsvUFHo3ixk"
      }
    },
    {
      "cell_type": "code",
      "source": [
        "print('Average US AHT for the whole team: {}'.format(aht_us_avg))"
      ],
      "metadata": {
        "colab": {
          "base_uri": "https://localhost:8080/"
        },
        "id": "PqL-kJh8YyVE",
        "outputId": "495d5e0f-35ae-4c6b-8770-9c34a33dc1a2"
      },
      "execution_count": null,
      "outputs": [
        {
          "output_type": "stream",
          "name": "stdout",
          "text": [
            "Average US AHT for the whole team: 449.276923076923\n"
          ]
        }
      ]
    },
    {
      "cell_type": "code",
      "source": [
        "print('Average EU AHT for the whole team: {}'.format(aht_eu_avg))"
      ],
      "metadata": {
        "colab": {
          "base_uri": "https://localhost:8080/"
        },
        "id": "K9T5kWCxY2nh",
        "outputId": "c90ad132-9e99-4475-cc4b-462413de2211"
      },
      "execution_count": null,
      "outputs": [
        {
          "output_type": "stream",
          "name": "stdout",
          "text": [
            "Average EU AHT for the whole team: 385.0384615384615\n"
          ]
        }
      ]
    },
    {
      "cell_type": "code",
      "source": [
        "aht_cols = ['AHT EU', 'AHT US']\n",
        "for col in data[aht_cols]:\n",
        "  print('Lowest '+ col + ': {aht}, ntiD - {id}'.format(aht=np.min(data[col]), id=int(data[col].idxmin())+1))\n",
        "  print('Highest ' + col + ': {} , ntiD - {}'.format(np.max(data[col]), int(data[col].idxmax())+1))"
      ],
      "metadata": {
        "colab": {
          "base_uri": "https://localhost:8080/"
        },
        "id": "DiJYCMbqWZ3v",
        "outputId": "c2e1031b-efd6-44f3-bd13-b84c4c5253b7"
      },
      "execution_count": null,
      "outputs": [
        {
          "output_type": "stream",
          "name": "stdout",
          "text": [
            "Lowest AHT EU: 158.1, ntiD - 7\n",
            "Highest AHT EU: 692.2 , ntiD - 6\n",
            "Lowest AHT US: 283.9, ntiD - 11\n",
            "Highest AHT US: 617.9 , ntiD - 9\n"
          ]
        }
      ]
    },
    {
      "cell_type": "markdown",
      "source": [
        "> **Lowest AHT on EU** queue has a person with **ntiD 7.**\n",
        "\n",
        "> **Lowest AHT on US** queue has a person with **ntiD 11.**\n",
        "\n",
        "\n",
        "> **Highest AHT on EU** queue has a person with **ntiD 6.**\n",
        "\n",
        "> **Highest AHT on US** queue has a person with **ntiD 9.**\n",
        "\n",
        "---\n",
        "Let's take a look how individuals team results presents in respect to the average value on each market. \n",
        "\n",
        "####Individual AHT resulst on the EU market in respect to the average AHT of the whole team"
      ],
      "metadata": {
        "id": "ttn_wQ2YLZgx"
      }
    },
    {
      "cell_type": "code",
      "source": [
        "sns.lineplot(data=data, y='AHT EU', x='ntiD')\n",
        "plt.title('AHT EU individual results in respect to the average')\n",
        "plt.xticks([1,2,3,4,5,6,7,8,9,10,11,12,13])\n",
        "b= 385\n",
        "plt.axhline(y=b, linestyle='--', c='red', label='Average EU AHT')\n",
        "plt.legend()\n",
        "plt.ylabel('AHT')"
      ],
      "metadata": {
        "colab": {
          "base_uri": "https://localhost:8080/",
          "height": 312
        },
        "id": "GrVotPdkMGFg",
        "outputId": "b6ce270d-0b11-4cb8-9ca7-ef2be9469ce2"
      },
      "execution_count": null,
      "outputs": [
        {
          "output_type": "execute_result",
          "data": {
            "text/plain": [
              "Text(0, 0.5, 'AHT')"
            ]
          },
          "metadata": {},
          "execution_count": 17
        },
        {
          "output_type": "display_data",
          "data": {
            "image/png": "[encoded data removed]",
            "text/plain": [
              "<Figure size 432x288 with 1 Axes>"
            ]
          },
          "metadata": {
            "needs_background": "light"
          }
        }
      ]
    },
    {
      "cell_type": "markdown",
      "source": [
        "####Individual AHT resulst on the US market in respect to the average AHT of the whole team"
      ],
      "metadata": {
        "id": "5QO7bmQONqrm"
      }
    },
    {
      "cell_type": "code",
      "source": [
        "sns.lineplot(data=data, y='AHT US', x='ntiD')\n",
        "plt.title('AHT US individual results in respect to the average')\n",
        "plt.xticks([1,2,3,4,5,6,7,8,9,10,11,12,13])\n",
        "b= 449\n",
        "plt.axhline(y=b, linestyle='--', c='red', label='Average us AHT')\n",
        "plt.legend()\n",
        "plt.ylabel('AHT')"
      ],
      "metadata": {
        "colab": {
          "base_uri": "https://localhost:8080/",
          "height": 312
        },
        "id": "eMpGzqxRN3J-",
        "outputId": "4f40e111-710d-4626-e7d0-6fb8790050ef"
      },
      "execution_count": null,
      "outputs": [
        {
          "output_type": "execute_result",
          "data": {
            "text/plain": [
              "Text(0, 0.5, 'AHT')"
            ]
          },
          "metadata": {},
          "execution_count": 18
        },
        {
          "output_type": "display_data",
          "data": {
            "image/png": "[encoded data removed]",
            "text/plain": [
              "<Figure size 432x288 with 1 Axes>"
            ]
          },
          "metadata": {
            "needs_background": "light"
          }
        }
      ]
    },
    {
      "cell_type": "markdown",
      "source": [
        "\n",
        "\n",
        "---\n",
        "\n",
        "---\n",
        "\n",
        "###5 lowest and highest AHT\n",
        "\n",
        "####TOP 5 AHT on EU market with ntid"
      ],
      "metadata": {
        "id": "p2RfmOHMmyCe"
      }
    },
    {
      "cell_type": "code",
      "source": [
        "top5_eu = data[['AHT EU', 'ntiD']].nsmallest(5, columns='AHT EU')\n",
        "data[['AHT EU', 'ntiD']].nsmallest(5, columns='AHT EU')"
      ],
      "metadata": {
        "colab": {
          "base_uri": "https://localhost:8080/",
          "height": 206
        },
        "id": "Fc5DAuR4pBPe",
        "outputId": "f3bf871e-bcfe-401b-b598-b7d4c0b1627d"
      },
      "execution_count": null,
      "outputs": [
        {
          "output_type": "execute_result",
          "data": {
            "text/html": [
              "\n",
              "  <div id=\"df-1187a5c9-5c2f-4d17-80f9-020f40bb8fc3\">\n",
              "    <div class=\"colab-df-container\">\n",
              "      <div>\n",
              "<style scoped>\n",
              "    .dataframe tbody tr th:only-of-type {\n",
              "        vertical-align: middle;\n",
              "    }\n",
              "\n",
              "    .dataframe tbody tr th {\n",
              "        vertical-align: top;\n",
              "    }\n",
              "\n",
              "    .dataframe thead th {\n",
              "        text-align: right;\n",
              "    }\n",
              "</style>\n",
              "<table border=\"1\" class=\"dataframe\">\n",
              "  <thead>\n",
              "    <tr style=\"text-align: right;\">\n",
              "      <th></th>\n",
              "      <th>AHT EU</th>\n",
              "      <th>ntiD</th>\n",
              "    </tr>\n",
              "  </thead>\n",
              "  <tbody>\n",
              "    <tr>\n",
              "      <th>6</th>\n",
              "      <td>158.1</td>\n",
              "      <td>7</td>\n",
              "    </tr>\n",
              "    <tr>\n",
              "      <th>4</th>\n",
              "      <td>222.2</td>\n",
              "      <td>5</td>\n",
              "    </tr>\n",
              "    <tr>\n",
              "      <th>8</th>\n",
              "      <td>234.4</td>\n",
              "      <td>9</td>\n",
              "    </tr>\n",
              "    <tr>\n",
              "      <th>10</th>\n",
              "      <td>236.4</td>\n",
              "      <td>11</td>\n",
              "    </tr>\n",
              "    <tr>\n",
              "      <th>12</th>\n",
              "      <td>258.7</td>\n",
              "      <td>13</td>\n",
              "    </tr>\n",
              "  </tbody>\n",
              "</table>\n",
              "</div>\n",
              "      <button class=\"colab-df-convert\" onclick=\"convertToInteractive('df-1187a5c9-5c2f-4d17-80f9-020f40bb8fc3')\"\n",
              "              title=\"Convert this dataframe to an interactive table.\"\n",
              "              style=\"display:none;\">\n",
              "        \n",
              "  <svg xmlns=\"http://www.w3.org/2000/svg\" height=\"24px\"viewBox=\"0 0 24 24\"\n",
              "       width=\"24px\">\n",
              "    <path d=\"M0 0h24v24H0V0z\" fill=\"none\"/>\n",
              "    <path d=\"M18.56 5.44l.94 2.06.94-2.06 2.06-.94-2.06-.94-.94-2.06-.94 2.06-2.06.94zm-11 1L8.5 8.5l.94-2.06 2.06-.94-2.06-.94L8.5 2.5l-.94 2.06-2.06.94zm10 10l.94 2.06.94-2.06 2.06-.94-2.06-.94-.94-2.06-.94 2.06-2.06.94z\"/><path d=\"M17.41 7.96l-1.37-1.37c-.4-.4-.92-.59-1.43-.59-.52 0-1.04.2-1.43.59L10.3 9.45l-7.72 7.72c-.78.78-.78 2.05 0 2.83L4 21.41c.39.39.9.59 1.41.59.51 0 1.02-.2 1.41-.59l7.78-7.78 2.81-2.81c.8-.78.8-2.07 0-2.86zM5.41 20L4 18.59l7.72-7.72 1.47 1.35L5.41 20z\"/>\n",
              "  </svg>\n",
              "      </button>\n",
              "      \n",
              "  <style>\n",
              "    .colab-df-container {\n",
              "      display:flex;\n",
              "      flex-wrap:wrap;\n",
              "      gap: 12px;\n",
              "    }\n",
              "\n",
              "    .colab-df-convert {\n",
              "      background-color: #E8F0FE;\n",
              "      border: none;\n",
              "      border-radius: 50%;\n",
              "      cursor: pointer;\n",
              "      display: none;\n",
              "      fill: #1967D2;\n",
              "      height: 32px;\n",
              "      padding: 0 0 0 0;\n",
              "      width: 32px;\n",
              "    }\n",
              "\n",
              "    .colab-df-convert:hover {\n",
              "      background-color: #E2EBFA;\n",
              "      box-shadow: 0px 1px 2px rgba(60, 64, 67, 0.3), 0px 1px 3px 1px rgba(60, 64, 67, 0.15);\n",
              "      fill: #174EA6;\n",
              "    }\n",
              "\n",
              "    [theme=dark] .colab-df-convert {\n",
              "      background-color: #3B4455;\n",
              "      fill: #D2E3FC;\n",
              "    }\n",
              "\n",
              "    [theme=dark] .colab-df-convert:hover {\n",
              "      background-color: #434B5C;\n",
              "      box-shadow: 0px 1px 3px 1px rgba(0, 0, 0, 0.15);\n",
              "      filter: drop-shadow(0px 1px 2px rgba(0, 0, 0, 0.3));\n",
              "      fill: #FFFFFF;\n",
              "    }\n",
              "  </style>\n",
              "\n",
              "      <script>\n",
              "        const buttonEl =\n",
              "          document.querySelector('#df-1187a5c9-5c2f-4d17-80f9-020f40bb8fc3 button.colab-df-convert');\n",
              "        buttonEl.style.display =\n",
              "          google.colab.kernel.accessAllowed ? 'block' : 'none';\n",
              "\n",
              "        async function convertToInteractive(key) {\n",
              "          const element = document.querySelector('#df-1187a5c9-5c2f-4d17-80f9-020f40bb8fc3');\n",
              "          const dataTable =\n",
              "            await google.colab.kernel.invokeFunction('convertToInteractive',\n",
              "                                                     [key], {});\n",
              "          if (!dataTable) return;\n",
              "\n",
              "          const docLinkHtml = 'Like what you see? Visit the ' +\n",
              "            '<a target=\"_blank\" href=https://colab.research.google.com/notebooks/data_table.ipynb>data table notebook</a>'\n",
              "            + ' to learn more about interactive tables.';\n",
              "          element.innerHTML = '';\n",
              "          dataTable['output_type'] = 'display_data';\n",
              "          await google.colab.output.renderOutput(dataTable, element);\n",
              "          const docLink = document.createElement('div');\n",
              "          docLink.innerHTML = docLinkHtml;\n",
              "          element.appendChild(docLink);\n",
              "        }\n",
              "      </script>\n",
              "    </div>\n",
              "  </div>\n",
              "  "
            ],
            "text/plain": [
              "    AHT EU  ntiD\n",
              "6    158.1     7\n",
              "4    222.2     5\n",
              "8    234.4     9\n",
              "10   236.4    11\n",
              "12   258.7    13"
            ]
          },
          "metadata": {},
          "execution_count": 19
        }
      ]
    },
    {
      "cell_type": "code",
      "source": [
        "sns.lineplot(data=top5_eu, x = 'ntiD', y = 'AHT EU')\n",
        "plt.title('AHT EU TOP 5')\n",
        "plt.xticks([5,7,9,11,13])\n",
        "b= 385\n",
        "plt.axhline(y=b, linestyle='--', c='red', label='Average AHT')\n",
        "plt.legend()\n",
        "plt.ylabel('AHT')"
      ],
      "metadata": {
        "colab": {
          "base_uri": "https://localhost:8080/",
          "height": 312
        },
        "id": "iY8FEzrNsLGf",
        "outputId": "ff45452a-bde6-468a-94c5-ebf33b8c17df"
      },
      "execution_count": null,
      "outputs": [
        {
          "output_type": "execute_result",
          "data": {
            "text/plain": [
              "Text(0, 0.5, 'AHT')"
            ]
          },
          "metadata": {},
          "execution_count": 20
        },
        {
          "output_type": "display_data",
          "data": {
            "image/png": "[encoded data removed]",
            "text/plain": [
              "<Figure size 432x288 with 1 Axes>"
            ]
          },
          "metadata": {
            "needs_background": "light"
          }
        }
      ]
    },
    {
      "cell_type": "markdown",
      "source": [
        "####Highest 5 AHT on EU market with ntid"
      ],
      "metadata": {
        "id": "ZhZ1M8RrpAFN"
      }
    },
    {
      "cell_type": "code",
      "source": [
        "high_5_aht_eu = data[['AHT EU', 'ntiD']].nlargest(5, columns='AHT EU')\n",
        "data[['AHT EU', 'ntiD']].nlargest(5, columns='AHT EU')"
      ],
      "metadata": {
        "colab": {
          "base_uri": "https://localhost:8080/",
          "height": 206
        },
        "id": "ACzrSzJIoIkc",
        "outputId": "58a169d5-8535-441c-e4a0-9426b2fc99e5"
      },
      "execution_count": null,
      "outputs": [
        {
          "output_type": "execute_result",
          "data": {
            "text/html": [
              "\n",
              "  <div id=\"df-1b5e10f3-5442-42b4-b0fb-3e5648409cc4\">\n",
              "    <div class=\"colab-df-container\">\n",
              "      <div>\n",
              "<style scoped>\n",
              "    .dataframe tbody tr th:only-of-type {\n",
              "        vertical-align: middle;\n",
              "    }\n",
              "\n",
              "    .dataframe tbody tr th {\n",
              "        vertical-align: top;\n",
              "    }\n",
              "\n",
              "    .dataframe thead th {\n",
              "        text-align: right;\n",
              "    }\n",
              "</style>\n",
              "<table border=\"1\" class=\"dataframe\">\n",
              "  <thead>\n",
              "    <tr style=\"text-align: right;\">\n",
              "      <th></th>\n",
              "      <th>AHT EU</th>\n",
              "      <th>ntiD</th>\n",
              "    </tr>\n",
              "  </thead>\n",
              "  <tbody>\n",
              "    <tr>\n",
              "      <th>5</th>\n",
              "      <td>692.2</td>\n",
              "      <td>6</td>\n",
              "    </tr>\n",
              "    <tr>\n",
              "      <th>3</th>\n",
              "      <td>594.8</td>\n",
              "      <td>4</td>\n",
              "    </tr>\n",
              "    <tr>\n",
              "      <th>0</th>\n",
              "      <td>554.4</td>\n",
              "      <td>1</td>\n",
              "    </tr>\n",
              "    <tr>\n",
              "      <th>9</th>\n",
              "      <td>543.9</td>\n",
              "      <td>10</td>\n",
              "    </tr>\n",
              "    <tr>\n",
              "      <th>1</th>\n",
              "      <td>474.8</td>\n",
              "      <td>2</td>\n",
              "    </tr>\n",
              "  </tbody>\n",
              "</table>\n",
              "</div>\n",
              "      <button class=\"colab-df-convert\" onclick=\"convertToInteractive('df-1b5e10f3-5442-42b4-b0fb-3e5648409cc4')\"\n",
              "              title=\"Convert this dataframe to an interactive table.\"\n",
              "              style=\"display:none;\">\n",
              "        \n",
              "  <svg xmlns=\"http://www.w3.org/2000/svg\" height=\"24px\"viewBox=\"0 0 24 24\"\n",
              "       width=\"24px\">\n",
              "    <path d=\"M0 0h24v24H0V0z\" fill=\"none\"/>\n",
              "    <path d=\"M18.56 5.44l.94 2.06.94-2.06 2.06-.94-2.06-.94-.94-2.06-.94 2.06-2.06.94zm-11 1L8.5 8.5l.94-2.06 2.06-.94-2.06-.94L8.5 2.5l-.94 2.06-2.06.94zm10 10l.94 2.06.94-2.06 2.06-.94-2.06-.94-.94-2.06-.94 2.06-2.06.94z\"/><path d=\"M17.41 7.96l-1.37-1.37c-.4-.4-.92-.59-1.43-.59-.52 0-1.04.2-1.43.59L10.3 9.45l-7.72 7.72c-.78.78-.78 2.05 0 2.83L4 21.41c.39.39.9.59 1.41.59.51 0 1.02-.2 1.41-.59l7.78-7.78 2.81-2.81c.8-.78.8-2.07 0-2.86zM5.41 20L4 18.59l7.72-7.72 1.47 1.35L5.41 20z\"/>\n",
              "  </svg>\n",
              "      </button>\n",
              "      \n",
              "  <style>\n",
              "    .colab-df-container {\n",
              "      display:flex;\n",
              "      flex-wrap:wrap;\n",
              "      gap: 12px;\n",
              "    }\n",
              "\n",
              "    .colab-df-convert {\n",
              "      background-color: #E8F0FE;\n",
              "      border: none;\n",
              "      border-radius: 50%;\n",
              "      cursor: pointer;\n",
              "      display: none;\n",
              "      fill: #1967D2;\n",
              "      height: 32px;\n",
              "      padding: 0 0 0 0;\n",
              "      width: 32px;\n",
              "    }\n",
              "\n",
              "    .colab-df-convert:hover {\n",
              "      background-color: #E2EBFA;\n",
              "      box-shadow: 0px 1px 2px rgba(60, 64, 67, 0.3), 0px 1px 3px 1px rgba(60, 64, 67, 0.15);\n",
              "      fill: #174EA6;\n",
              "    }\n",
              "\n",
              "    [theme=dark] .colab-df-convert {\n",
              "      background-color: #3B4455;\n",
              "      fill: #D2E3FC;\n",
              "    }\n",
              "\n",
              "    [theme=dark] .colab-df-convert:hover {\n",
              "      background-color: #434B5C;\n",
              "      box-shadow: 0px 1px 3px 1px rgba(0, 0, 0, 0.15);\n",
              "      filter: drop-shadow(0px 1px 2px rgba(0, 0, 0, 0.3));\n",
              "      fill: #FFFFFF;\n",
              "    }\n",
              "  </style>\n",
              "\n",
              "      <script>\n",
              "        const buttonEl =\n",
              "          document.querySelector('#df-1b5e10f3-5442-42b4-b0fb-3e5648409cc4 button.colab-df-convert');\n",
              "        buttonEl.style.display =\n",
              "          google.colab.kernel.accessAllowed ? 'block' : 'none';\n",
              "\n",
              "        async function convertToInteractive(key) {\n",
              "          const element = document.querySelector('#df-1b5e10f3-5442-42b4-b0fb-3e5648409cc4');\n",
              "          const dataTable =\n",
              "            await google.colab.kernel.invokeFunction('convertToInteractive',\n",
              "                                                     [key], {});\n",
              "          if (!dataTable) return;\n",
              "\n",
              "          const docLinkHtml = 'Like what you see? Visit the ' +\n",
              "            '<a target=\"_blank\" href=https://colab.research.google.com/notebooks/data_table.ipynb>data table notebook</a>'\n",
              "            + ' to learn more about interactive tables.';\n",
              "          element.innerHTML = '';\n",
              "          dataTable['output_type'] = 'display_data';\n",
              "          await google.colab.output.renderOutput(dataTable, element);\n",
              "          const docLink = document.createElement('div');\n",
              "          docLink.innerHTML = docLinkHtml;\n",
              "          element.appendChild(docLink);\n",
              "        }\n",
              "      </script>\n",
              "    </div>\n",
              "  </div>\n",
              "  "
            ],
            "text/plain": [
              "   AHT EU  ntiD\n",
              "5   692.2     6\n",
              "3   594.8     4\n",
              "0   554.4     1\n",
              "9   543.9    10\n",
              "1   474.8     2"
            ]
          },
          "metadata": {},
          "execution_count": 21
        }
      ]
    },
    {
      "cell_type": "code",
      "source": [
        "sns.lineplot(data=high_5_aht_eu, x='ntiD', y='AHT EU')\n",
        "plt.title('AHT EU HIGHEST 5')\n",
        "b= 385\n",
        "plt.axhline(y=b, linestyle='--', c='red', label='Average AHT')\n",
        "plt.legend()\n",
        "plt.xticks([1,2,4,6,10])\n",
        "plt.ylabel('AHT')"
      ],
      "metadata": {
        "colab": {
          "base_uri": "https://localhost:8080/",
          "height": 312
        },
        "id": "WCSEkieMyqf2",
        "outputId": "31772bae-10a9-4d80-9746-70f690b6835f"
      },
      "execution_count": null,
      "outputs": [
        {
          "output_type": "execute_result",
          "data": {
            "text/plain": [
              "Text(0, 0.5, 'AHT')"
            ]
          },
          "metadata": {},
          "execution_count": 22
        },
        {
          "output_type": "display_data",
          "data": {
            "image/png": "[encoded data removed]",
            "text/plain": [
              "<Figure size 432x288 with 1 Axes>"
            ]
          },
          "metadata": {
            "needs_background": "light"
          }
        }
      ]
    },
    {
      "cell_type": "markdown",
      "source": [
        "> With these above 2 plots we clearly see how large there are differences between the lowest and highest EU AHT scores. \n",
        "\n",
        "* Maximum AHT on EU market shows almost 700 sec - in respect to 5 highest AHT between 474 sec and 692 sec.\n",
        "* Best AHT on EU market is only 158 sec (more or less 6 times smaller than the max AHT in the team) - in respect to 5 smallest AHT between 158 sec and 258 sec. \n",
        "\n",
        "Further investigation should lead to comparing these result to the total number of worked cases and the quality. Quality will probably have smaller values in compare with best AHT results. "
      ],
      "metadata": {
        "id": "9YKYsDuk09h_"
      }
    },
    {
      "cell_type": "markdown",
      "source": [
        "---\n",
        "\n",
        "####TOP 5 AHT on US market with ntid"
      ],
      "metadata": {
        "id": "YjHOPWobpdnU"
      }
    },
    {
      "cell_type": "code",
      "source": [
        "top5_us = data[['AHT US', 'ntiD']].nsmallest(5, columns='AHT US')\n",
        "data[['AHT US', 'ntiD']].nsmallest(5, columns='AHT US')"
      ],
      "metadata": {
        "colab": {
          "base_uri": "https://localhost:8080/",
          "height": 206
        },
        "id": "PfQutiZVpgAd",
        "outputId": "bce2c361-91bf-4336-b089-acd498eccd1f"
      },
      "execution_count": null,
      "outputs": [
        {
          "output_type": "execute_result",
          "data": {
            "text/html": [
              "\n",
              "  <div id=\"df-f05f3420-2588-47b1-b91b-15a8aab0038e\">\n",
              "    <div class=\"colab-df-container\">\n",
              "      <div>\n",
              "<style scoped>\n",
              "    .dataframe tbody tr th:only-of-type {\n",
              "        vertical-align: middle;\n",
              "    }\n",
              "\n",
              "    .dataframe tbody tr th {\n",
              "        vertical-align: top;\n",
              "    }\n",
              "\n",
              "    .dataframe thead th {\n",
              "        text-align: right;\n",
              "    }\n",
              "</style>\n",
              "<table border=\"1\" class=\"dataframe\">\n",
              "  <thead>\n",
              "    <tr style=\"text-align: right;\">\n",
              "      <th></th>\n",
              "      <th>AHT US</th>\n",
              "      <th>ntiD</th>\n",
              "    </tr>\n",
              "  </thead>\n",
              "  <tbody>\n",
              "    <tr>\n",
              "      <th>10</th>\n",
              "      <td>283.9</td>\n",
              "      <td>11</td>\n",
              "    </tr>\n",
              "    <tr>\n",
              "      <th>12</th>\n",
              "      <td>356.2</td>\n",
              "      <td>13</td>\n",
              "    </tr>\n",
              "    <tr>\n",
              "      <th>6</th>\n",
              "      <td>364.4</td>\n",
              "      <td>7</td>\n",
              "    </tr>\n",
              "    <tr>\n",
              "      <th>7</th>\n",
              "      <td>388.4</td>\n",
              "      <td>8</td>\n",
              "    </tr>\n",
              "    <tr>\n",
              "      <th>4</th>\n",
              "      <td>403.9</td>\n",
              "      <td>5</td>\n",
              "    </tr>\n",
              "  </tbody>\n",
              "</table>\n",
              "</div>\n",
              "      <button class=\"colab-df-convert\" onclick=\"convertToInteractive('df-f05f3420-2588-47b1-b91b-15a8aab0038e')\"\n",
              "              title=\"Convert this dataframe to an interactive table.\"\n",
              "              style=\"display:none;\">\n",
              "        \n",
              "  <svg xmlns=\"http://www.w3.org/2000/svg\" height=\"24px\"viewBox=\"0 0 24 24\"\n",
              "       width=\"24px\">\n",
              "    <path d=\"M0 0h24v24H0V0z\" fill=\"none\"/>\n",
              "    <path d=\"M18.56 5.44l.94 2.06.94-2.06 2.06-.94-2.06-.94-.94-2.06-.94 2.06-2.06.94zm-11 1L8.5 8.5l.94-2.06 2.06-.94-2.06-.94L8.5 2.5l-.94 2.06-2.06.94zm10 10l.94 2.06.94-2.06 2.06-.94-2.06-.94-.94-2.06-.94 2.06-2.06.94z\"/><path d=\"M17.41 7.96l-1.37-1.37c-.4-.4-.92-.59-1.43-.59-.52 0-1.04.2-1.43.59L10.3 9.45l-7.72 7.72c-.78.78-.78 2.05 0 2.83L4 21.41c.39.39.9.59 1.41.59.51 0 1.02-.2 1.41-.59l7.78-7.78 2.81-2.81c.8-.78.8-2.07 0-2.86zM5.41 20L4 18.59l7.72-7.72 1.47 1.35L5.41 20z\"/>\n",
              "  </svg>\n",
              "      </button>\n",
              "      \n",
              "  <style>\n",
              "    .colab-df-container {\n",
              "      display:flex;\n",
              "      flex-wrap:wrap;\n",
              "      gap: 12px;\n",
              "    }\n",
              "\n",
              "    .colab-df-convert {\n",
              "      background-color: #E8F0FE;\n",
              "      border: none;\n",
              "      border-radius: 50%;\n",
              "      cursor: pointer;\n",
              "      display: none;\n",
              "      fill: #1967D2;\n",
              "      height: 32px;\n",
              "      padding: 0 0 0 0;\n",
              "      width: 32px;\n",
              "    }\n",
              "\n",
              "    .colab-df-convert:hover {\n",
              "      background-color: #E2EBFA;\n",
              "      box-shadow: 0px 1px 2px rgba(60, 64, 67, 0.3), 0px 1px 3px 1px rgba(60, 64, 67, 0.15);\n",
              "      fill: #174EA6;\n",
              "    }\n",
              "\n",
              "    [theme=dark] .colab-df-convert {\n",
              "      background-color: #3B4455;\n",
              "      fill: #D2E3FC;\n",
              "    }\n",
              "\n",
              "    [theme=dark] .colab-df-convert:hover {\n",
              "      background-color: #434B5C;\n",
              "      box-shadow: 0px 1px 3px 1px rgba(0, 0, 0, 0.15);\n",
              "      filter: drop-shadow(0px 1px 2px rgba(0, 0, 0, 0.3));\n",
              "      fill: #FFFFFF;\n",
              "    }\n",
              "  </style>\n",
              "\n",
              "      <script>\n",
              "        const buttonEl =\n",
              "          document.querySelector('#df-f05f3420-2588-47b1-b91b-15a8aab0038e button.colab-df-convert');\n",
              "        buttonEl.style.display =\n",
              "          google.colab.kernel.accessAllowed ? 'block' : 'none';\n",
              "\n",
              "        async function convertToInteractive(key) {\n",
              "          const element = document.querySelector('#df-f05f3420-2588-47b1-b91b-15a8aab0038e');\n",
              "          const dataTable =\n",
              "            await google.colab.kernel.invokeFunction('convertToInteractive',\n",
              "                                                     [key], {});\n",
              "          if (!dataTable) return;\n",
              "\n",
              "          const docLinkHtml = 'Like what you see? Visit the ' +\n",
              "            '<a target=\"_blank\" href=https://colab.research.google.com/notebooks/data_table.ipynb>data table notebook</a>'\n",
              "            + ' to learn more about interactive tables.';\n",
              "          element.innerHTML = '';\n",
              "          dataTable['output_type'] = 'display_data';\n",
              "          await google.colab.output.renderOutput(dataTable, element);\n",
              "          const docLink = document.createElement('div');\n",
              "          docLink.innerHTML = docLinkHtml;\n",
              "          element.appendChild(docLink);\n",
              "        }\n",
              "      </script>\n",
              "    </div>\n",
              "  </div>\n",
              "  "
            ],
            "text/plain": [
              "    AHT US  ntiD\n",
              "10   283.9    11\n",
              "12   356.2    13\n",
              "6    364.4     7\n",
              "7    388.4     8\n",
              "4    403.9     5"
            ]
          },
          "metadata": {},
          "execution_count": 23
        }
      ]
    },
    {
      "cell_type": "code",
      "source": [
        "sns.lineplot(data=top5_us, x='ntiD', y='AHT US')\n",
        "plt.title('AHT US TOP 5')\n",
        "a = 449\n",
        "plt.xticks([5,7,8,11,13])\n",
        "plt.axhline(y=a, linestyle='--', c='red', label='Average AHT')\n",
        "plt.legend()\n",
        "plt.ylabel('AHT')"
      ],
      "metadata": {
        "colab": {
          "base_uri": "https://localhost:8080/",
          "height": 312
        },
        "id": "BU0pgxQS4B3s",
        "outputId": "3cc43af9-d8bf-4b08-a5d6-d825d90ac944"
      },
      "execution_count": null,
      "outputs": [
        {
          "output_type": "execute_result",
          "data": {
            "text/plain": [
              "Text(0, 0.5, 'AHT')"
            ]
          },
          "metadata": {},
          "execution_count": 24
        },
        {
          "output_type": "display_data",
          "data": {
            "image/png": "[encoded data removed]",
            "text/plain": [
              "<Figure size 432x288 with 1 Axes>"
            ]
          },
          "metadata": {
            "needs_background": "light"
          }
        }
      ]
    },
    {
      "cell_type": "markdown",
      "source": [
        "####Highest 5 AHT on US market with ntid"
      ],
      "metadata": {
        "id": "8sF16MXTpySF"
      }
    },
    {
      "cell_type": "code",
      "source": [
        "high_5_us = data[['AHT US', 'ntiD']].nlargest(5, columns='AHT US')\n",
        "data[['AHT US', 'ntiD']].nlargest(5, columns='AHT US')"
      ],
      "metadata": {
        "colab": {
          "base_uri": "https://localhost:8080/",
          "height": 206
        },
        "id": "d--1I7U6pgJc",
        "outputId": "261b05d3-77f2-4e87-b5f1-f6cb9ec3dfa7"
      },
      "execution_count": null,
      "outputs": [
        {
          "output_type": "execute_result",
          "data": {
            "text/html": [
              "\n",
              "  <div id=\"df-a7a1b508-e362-4ea8-99ea-5712114754ec\">\n",
              "    <div class=\"colab-df-container\">\n",
              "      <div>\n",
              "<style scoped>\n",
              "    .dataframe tbody tr th:only-of-type {\n",
              "        vertical-align: middle;\n",
              "    }\n",
              "\n",
              "    .dataframe tbody tr th {\n",
              "        vertical-align: top;\n",
              "    }\n",
              "\n",
              "    .dataframe thead th {\n",
              "        text-align: right;\n",
              "    }\n",
              "</style>\n",
              "<table border=\"1\" class=\"dataframe\">\n",
              "  <thead>\n",
              "    <tr style=\"text-align: right;\">\n",
              "      <th></th>\n",
              "      <th>AHT US</th>\n",
              "      <th>ntiD</th>\n",
              "    </tr>\n",
              "  </thead>\n",
              "  <tbody>\n",
              "    <tr>\n",
              "      <th>8</th>\n",
              "      <td>617.9</td>\n",
              "      <td>9</td>\n",
              "    </tr>\n",
              "    <tr>\n",
              "      <th>1</th>\n",
              "      <td>613.5</td>\n",
              "      <td>2</td>\n",
              "    </tr>\n",
              "    <tr>\n",
              "      <th>3</th>\n",
              "      <td>579.0</td>\n",
              "      <td>4</td>\n",
              "    </tr>\n",
              "    <tr>\n",
              "      <th>11</th>\n",
              "      <td>519.9</td>\n",
              "      <td>12</td>\n",
              "    </tr>\n",
              "    <tr>\n",
              "      <th>9</th>\n",
              "      <td>459.6</td>\n",
              "      <td>10</td>\n",
              "    </tr>\n",
              "  </tbody>\n",
              "</table>\n",
              "</div>\n",
              "      <button class=\"colab-df-convert\" onclick=\"convertToInteractive('df-a7a1b508-e362-4ea8-99ea-5712114754ec')\"\n",
              "              title=\"Convert this dataframe to an interactive table.\"\n",
              "              style=\"display:none;\">\n",
              "        \n",
              "  <svg xmlns=\"http://www.w3.org/2000/svg\" height=\"24px\"viewBox=\"0 0 24 24\"\n",
              "       width=\"24px\">\n",
              "    <path d=\"M0 0h24v24H0V0z\" fill=\"none\"/>\n",
              "    <path d=\"M18.56 5.44l.94 2.06.94-2.06 2.06-.94-2.06-.94-.94-2.06-.94 2.06-2.06.94zm-11 1L8.5 8.5l.94-2.06 2.06-.94-2.06-.94L8.5 2.5l-.94 2.06-2.06.94zm10 10l.94 2.06.94-2.06 2.06-.94-2.06-.94-.94-2.06-.94 2.06-2.06.94z\"/><path d=\"M17.41 7.96l-1.37-1.37c-.4-.4-.92-.59-1.43-.59-.52 0-1.04.2-1.43.59L10.3 9.45l-7.72 7.72c-.78.78-.78 2.05 0 2.83L4 21.41c.39.39.9.59 1.41.59.51 0 1.02-.2 1.41-.59l7.78-7.78 2.81-2.81c.8-.78.8-2.07 0-2.86zM5.41 20L4 18.59l7.72-7.72 1.47 1.35L5.41 20z\"/>\n",
              "  </svg>\n",
              "      </button>\n",
              "      \n",
              "  <style>\n",
              "    .colab-df-container {\n",
              "      display:flex;\n",
              "      flex-wrap:wrap;\n",
              "      gap: 12px;\n",
              "    }\n",
              "\n",
              "    .colab-df-convert {\n",
              "      background-color: #E8F0FE;\n",
              "      border: none;\n",
              "      border-radius: 50%;\n",
              "      cursor: pointer;\n",
              "      display: none;\n",
              "      fill: #1967D2;\n",
              "      height: 32px;\n",
              "      padding: 0 0 0 0;\n",
              "      width: 32px;\n",
              "    }\n",
              "\n",
              "    .colab-df-convert:hover {\n",
              "      background-color: #E2EBFA;\n",
              "      box-shadow: 0px 1px 2px rgba(60, 64, 67, 0.3), 0px 1px 3px 1px rgba(60, 64, 67, 0.15);\n",
              "      fill: #174EA6;\n",
              "    }\n",
              "\n",
              "    [theme=dark] .colab-df-convert {\n",
              "      background-color: #3B4455;\n",
              "      fill: #D2E3FC;\n",
              "    }\n",
              "\n",
              "    [theme=dark] .colab-df-convert:hover {\n",
              "      background-color: #434B5C;\n",
              "      box-shadow: 0px 1px 3px 1px rgba(0, 0, 0, 0.15);\n",
              "      filter: drop-shadow(0px 1px 2px rgba(0, 0, 0, 0.3));\n",
              "      fill: #FFFFFF;\n",
              "    }\n",
              "  </style>\n",
              "\n",
              "      <script>\n",
              "        const buttonEl =\n",
              "          document.querySelector('#df-a7a1b508-e362-4ea8-99ea-5712114754ec button.colab-df-convert');\n",
              "        buttonEl.style.display =\n",
              "          google.colab.kernel.accessAllowed ? 'block' : 'none';\n",
              "\n",
              "        async function convertToInteractive(key) {\n",
              "          const element = document.querySelector('#df-a7a1b508-e362-4ea8-99ea-5712114754ec');\n",
              "          const dataTable =\n",
              "            await google.colab.kernel.invokeFunction('convertToInteractive',\n",
              "                                                     [key], {});\n",
              "          if (!dataTable) return;\n",
              "\n",
              "          const docLinkHtml = 'Like what you see? Visit the ' +\n",
              "            '<a target=\"_blank\" href=https://colab.research.google.com/notebooks/data_table.ipynb>data table notebook</a>'\n",
              "            + ' to learn more about interactive tables.';\n",
              "          element.innerHTML = '';\n",
              "          dataTable['output_type'] = 'display_data';\n",
              "          await google.colab.output.renderOutput(dataTable, element);\n",
              "          const docLink = document.createElement('div');\n",
              "          docLink.innerHTML = docLinkHtml;\n",
              "          element.appendChild(docLink);\n",
              "        }\n",
              "      </script>\n",
              "    </div>\n",
              "  </div>\n",
              "  "
            ],
            "text/plain": [
              "    AHT US  ntiD\n",
              "8    617.9     9\n",
              "1    613.5     2\n",
              "3    579.0     4\n",
              "11   519.9    12\n",
              "9    459.6    10"
            ]
          },
          "metadata": {},
          "execution_count": 25
        }
      ]
    },
    {
      "cell_type": "code",
      "source": [
        "sns.lineplot(data=high_5_us, x='ntiD', y='AHT US')\n",
        "plt.title('AHT US HIGHEST 5')\n",
        "plt.xticks([2, 4, 9, 10, 12])\n",
        "plt.axhline(y=a, linestyle='--', c='red', label='Average AHT')\n",
        "plt.legend()\n",
        "plt.ylabel('AHT')"
      ],
      "metadata": {
        "colab": {
          "base_uri": "https://localhost:8080/",
          "height": 312
        },
        "id": "v_n84tjK4d_A",
        "outputId": "f1e214e5-4cdc-48e4-fd68-a85a432e246f"
      },
      "execution_count": null,
      "outputs": [
        {
          "output_type": "execute_result",
          "data": {
            "text/plain": [
              "Text(0, 0.5, 'AHT')"
            ]
          },
          "metadata": {},
          "execution_count": 26
        },
        {
          "output_type": "display_data",
          "data": {
            "image/png": "[encoded data removed]",
            "text/plain": [
              "<Figure size 432x288 with 1 Axes>"
            ]
          },
          "metadata": {
            "needs_background": "light"
          }
        }
      ]
    },
    {
      "cell_type": "markdown",
      "source": [
        "> Differences between highest and lowest AHT scores on US queue are a little smaller in comparison to the differences in EU queue. \n",
        "\n",
        "* Highest AHT on US market is arround 620 sec - in respect to highest 5 values between 460 and 620 sec. \n",
        "* Lowest AHT on US market is 283 sec (roughly 2.2 times smaller than the highest AHT) - in respect to the best 5 AHT scores between 283 and 403 sec. \n",
        "\n",
        "---\n",
        "Interestingly EU highest and lowest AHT scores have higher variance than highest and lowest AHT scores on US market. \n",
        "\n",
        "While the mean of the UE market AHT is lower -> 385 sec, than the mean value of US market AHT -> 449.  \n",
        "\n",
        "##Quality Analysis\n",
        "\n",
        "Let's start with taking a look at our's team average quality score. "
      ],
      "metadata": {
        "id": "omXcjC8D_Y1Q"
      }
    },
    {
      "cell_type": "code",
      "source": [
        "print('Average quality score of the team: {}'.format(quality_avg))"
      ],
      "metadata": {
        "colab": {
          "base_uri": "https://localhost:8080/"
        },
        "id": "L46ZEnw4TPO2",
        "outputId": "1a40984d-9f28-42a8-d796-14285bd13109"
      },
      "execution_count": null,
      "outputs": [
        {
          "output_type": "stream",
          "name": "stdout",
          "text": [
            "Average quality score of the team: 85.70769230769231\n"
          ]
        }
      ]
    },
    {
      "cell_type": "markdown",
      "source": [
        "Quality score of individual team members in respect to the average of the whole team."
      ],
      "metadata": {
        "id": "xKSa8ZMddliA"
      }
    },
    {
      "cell_type": "code",
      "source": [
        "sns.lineplot(data=data, x='ntiD', y='Quality')\n",
        "plt.title('Quality scores of individual team members in respect to the average')\n",
        "plt.xticks([1,2,3,4,5,6,7,8,9,10,11,12,13])\n",
        "quality_target = 95\n",
        "plt.axhline(y=quality_avg, linestyle='--', c='red', label='Average Quality')\n",
        "plt.axhline(y=quality_target, linestyle='--', c='green', label='Target Quality')\n",
        "plt.legend()"
      ],
      "metadata": {
        "colab": {
          "base_uri": "https://localhost:8080/",
          "height": 312
        },
        "id": "LaKLAAU5dz_l",
        "outputId": "1e5597f1-2c70-4560-f6cd-d2997f581402"
      },
      "execution_count": null,
      "outputs": [
        {
          "output_type": "execute_result",
          "data": {
            "text/plain": [
              "<matplotlib.legend.Legend at 0x7f9d582f9350>"
            ]
          },
          "metadata": {},
          "execution_count": 28
        },
        {
          "output_type": "display_data",
          "data": {
            "image/png": "[encoded data removed]",
            "text/plain": [
              "<Figure size 432x288 with 1 Axes>"
            ]
          },
          "metadata": {
            "needs_background": "light"
          }
        }
      ]
    },
    {
      "cell_type": "markdown",
      "source": [
        "What are the lowest and highest quality score in the team?"
      ],
      "metadata": {
        "id": "Mdwn4oDLT-Y2"
      }
    },
    {
      "cell_type": "code",
      "source": [
        "print('Highest quality score in the team is: {}, ntid - {}'.format(np.max(data['Quality']), int(data['Quality'].idxmax())+1))"
      ],
      "metadata": {
        "colab": {
          "base_uri": "https://localhost:8080/"
        },
        "id": "hcTAp2tPUsk3",
        "outputId": "38d63dee-5946-4a33-a9fc-35b73436b53b"
      },
      "execution_count": null,
      "outputs": [
        {
          "output_type": "stream",
          "name": "stdout",
          "text": [
            "Highest quality score in the team is: 100.0, ntid - 3\n"
          ]
        }
      ]
    },
    {
      "cell_type": "code",
      "source": [
        "print('Lowest quality score in the team is {}, ntid - {}'.format(np.min(data['Quality']), int(data['Quality'].idxmin())+1))"
      ],
      "metadata": {
        "colab": {
          "base_uri": "https://localhost:8080/"
        },
        "id": "sNppuutMWMN4",
        "outputId": "bc3a44fc-6224-4055-cc5b-8058a8f19bf9"
      },
      "execution_count": null,
      "outputs": [
        {
          "output_type": "stream",
          "name": "stdout",
          "text": [
            "Lowest quality score in the team is 51.4, ntid - 7\n"
          ]
        }
      ]
    },
    {
      "cell_type": "markdown",
      "source": [
        "> With this first look we can see that our teammate with ntid 7 has an amazing speed while doing cases - a lot above the whole team average (EU/AVG: 158/385, US/AVG: 364/449) - but we'll be in need to work with our teammate on the quality aspect. \n",
        "\n",
        "\n",
        "In the meanwhile let's take a closer look to the highest and lowest top 5 quality scores. If it will be a correlation between quality and aht?"
      ],
      "metadata": {
        "id": "V0xIp6hjWz1p"
      }
    },
    {
      "cell_type": "code",
      "source": [
        "high_5_qual = data[['Quality', 'ntiD']].nlargest(5, columns='Quality')\n",
        "data[['Quality', 'ntiD']].nlargest(5, columns='Quality')"
      ],
      "metadata": {
        "colab": {
          "base_uri": "https://localhost:8080/",
          "height": 206
        },
        "id": "lVUT_7lDZyEi",
        "outputId": "9d2c4391-fd65-4f85-9e12-a4ec554ad2fa"
      },
      "execution_count": null,
      "outputs": [
        {
          "output_type": "execute_result",
          "data": {
            "text/html": [
              "\n",
              "  <div id=\"df-0e169661-4811-4415-b0a9-44838b5578c0\">\n",
              "    <div class=\"colab-df-container\">\n",
              "      <div>\n",
              "<style scoped>\n",
              "    .dataframe tbody tr th:only-of-type {\n",
              "        vertical-align: middle;\n",
              "    }\n",
              "\n",
              "    .dataframe tbody tr th {\n",
              "        vertical-align: top;\n",
              "    }\n",
              "\n",
              "    .dataframe thead th {\n",
              "        text-align: right;\n",
              "    }\n",
              "</style>\n",
              "<table border=\"1\" class=\"dataframe\">\n",
              "  <thead>\n",
              "    <tr style=\"text-align: right;\">\n",
              "      <th></th>\n",
              "      <th>Quality</th>\n",
              "      <th>ntiD</th>\n",
              "    </tr>\n",
              "  </thead>\n",
              "  <tbody>\n",
              "    <tr>\n",
              "      <th>2</th>\n",
              "      <td>100.0</td>\n",
              "      <td>3</td>\n",
              "    </tr>\n",
              "    <tr>\n",
              "      <th>9</th>\n",
              "      <td>100.0</td>\n",
              "      <td>10</td>\n",
              "    </tr>\n",
              "    <tr>\n",
              "      <th>1</th>\n",
              "      <td>99.0</td>\n",
              "      <td>2</td>\n",
              "    </tr>\n",
              "    <tr>\n",
              "      <th>0</th>\n",
              "      <td>95.6</td>\n",
              "      <td>1</td>\n",
              "    </tr>\n",
              "    <tr>\n",
              "      <th>3</th>\n",
              "      <td>93.8</td>\n",
              "      <td>4</td>\n",
              "    </tr>\n",
              "  </tbody>\n",
              "</table>\n",
              "</div>\n",
              "      <button class=\"colab-df-convert\" onclick=\"convertToInteractive('df-0e169661-4811-4415-b0a9-44838b5578c0')\"\n",
              "              title=\"Convert this dataframe to an interactive table.\"\n",
              "              style=\"display:none;\">\n",
              "        \n",
              "  <svg xmlns=\"http://www.w3.org/2000/svg\" height=\"24px\"viewBox=\"0 0 24 24\"\n",
              "       width=\"24px\">\n",
              "    <path d=\"M0 0h24v24H0V0z\" fill=\"none\"/>\n",
              "    <path d=\"M18.56 5.44l.94 2.06.94-2.06 2.06-.94-2.06-.94-.94-2.06-.94 2.06-2.06.94zm-11 1L8.5 8.5l.94-2.06 2.06-.94-2.06-.94L8.5 2.5l-.94 2.06-2.06.94zm10 10l.94 2.06.94-2.06 2.06-.94-2.06-.94-.94-2.06-.94 2.06-2.06.94z\"/><path d=\"M17.41 7.96l-1.37-1.37c-.4-.4-.92-.59-1.43-.59-.52 0-1.04.2-1.43.59L10.3 9.45l-7.72 7.72c-.78.78-.78 2.05 0 2.83L4 21.41c.39.39.9.59 1.41.59.51 0 1.02-.2 1.41-.59l7.78-7.78 2.81-2.81c.8-.78.8-2.07 0-2.86zM5.41 20L4 18.59l7.72-7.72 1.47 1.35L5.41 20z\"/>\n",
              "  </svg>\n",
              "      </button>\n",
              "      \n",
              "  <style>\n",
              "    .colab-df-container {\n",
              "      display:flex;\n",
              "      flex-wrap:wrap;\n",
              "      gap: 12px;\n",
              "    }\n",
              "\n",
              "    .colab-df-convert {\n",
              "      background-color: #E8F0FE;\n",
              "      border: none;\n",
              "      border-radius: 50%;\n",
              "      cursor: pointer;\n",
              "      display: none;\n",
              "      fill: #1967D2;\n",
              "      height: 32px;\n",
              "      padding: 0 0 0 0;\n",
              "      width: 32px;\n",
              "    }\n",
              "\n",
              "    .colab-df-convert:hover {\n",
              "      background-color: #E2EBFA;\n",
              "      box-shadow: 0px 1px 2px rgba(60, 64, 67, 0.3), 0px 1px 3px 1px rgba(60, 64, 67, 0.15);\n",
              "      fill: #174EA6;\n",
              "    }\n",
              "\n",
              "    [theme=dark] .colab-df-convert {\n",
              "      background-color: #3B4455;\n",
              "      fill: #D2E3FC;\n",
              "    }\n",
              "\n",
              "    [theme=dark] .colab-df-convert:hover {\n",
              "      background-color: #434B5C;\n",
              "      box-shadow: 0px 1px 3px 1px rgba(0, 0, 0, 0.15);\n",
              "      filter: drop-shadow(0px 1px 2px rgba(0, 0, 0, 0.3));\n",
              "      fill: #FFFFFF;\n",
              "    }\n",
              "  </style>\n",
              "\n",
              "      <script>\n",
              "        const buttonEl =\n",
              "          document.querySelector('#df-0e169661-4811-4415-b0a9-44838b5578c0 button.colab-df-convert');\n",
              "        buttonEl.style.display =\n",
              "          google.colab.kernel.accessAllowed ? 'block' : 'none';\n",
              "\n",
              "        async function convertToInteractive(key) {\n",
              "          const element = document.querySelector('#df-0e169661-4811-4415-b0a9-44838b5578c0');\n",
              "          const dataTable =\n",
              "            await google.colab.kernel.invokeFunction('convertToInteractive',\n",
              "                                                     [key], {});\n",
              "          if (!dataTable) return;\n",
              "\n",
              "          const docLinkHtml = 'Like what you see? Visit the ' +\n",
              "            '<a target=\"_blank\" href=https://colab.research.google.com/notebooks/data_table.ipynb>data table notebook</a>'\n",
              "            + ' to learn more about interactive tables.';\n",
              "          element.innerHTML = '';\n",
              "          dataTable['output_type'] = 'display_data';\n",
              "          await google.colab.output.renderOutput(dataTable, element);\n",
              "          const docLink = document.createElement('div');\n",
              "          docLink.innerHTML = docLinkHtml;\n",
              "          element.appendChild(docLink);\n",
              "        }\n",
              "      </script>\n",
              "    </div>\n",
              "  </div>\n",
              "  "
            ],
            "text/plain": [
              "   Quality  ntiD\n",
              "2    100.0     3\n",
              "9    100.0    10\n",
              "1     99.0     2\n",
              "0     95.6     1\n",
              "3     93.8     4"
            ]
          },
          "metadata": {},
          "execution_count": 31
        }
      ]
    },
    {
      "cell_type": "markdown",
      "source": [
        "It seems that teammates with top quality scores (4 on 5 teammates) are also having the highest AHT on EU market and 3 of 5 of them have the highest AHT on the US market. \n",
        "\n",
        "\n",
        "\n"
      ],
      "metadata": {
        "id": "2xt9UF5MaxOB"
      }
    },
    {
      "cell_type": "code",
      "source": [
        "low_5_qual = data[['Quality', 'ntiD']].nsmallest(5, columns='Quality')\n",
        "data[['Quality', 'ntiD']].nsmallest(5, columns='Quality')"
      ],
      "metadata": {
        "colab": {
          "base_uri": "https://localhost:8080/",
          "height": 206
        },
        "id": "mmgjiRAAbvfA",
        "outputId": "7047a949-4ca1-44e4-811a-0006a3db9d3c"
      },
      "execution_count": null,
      "outputs": [
        {
          "output_type": "execute_result",
          "data": {
            "text/html": [
              "\n",
              "  <div id=\"df-938ba8ca-9177-48b9-a77d-e1cfc17aab3a\">\n",
              "    <div class=\"colab-df-container\">\n",
              "      <div>\n",
              "<style scoped>\n",
              "    .dataframe tbody tr th:only-of-type {\n",
              "        vertical-align: middle;\n",
              "    }\n",
              "\n",
              "    .dataframe tbody tr th {\n",
              "        vertical-align: top;\n",
              "    }\n",
              "\n",
              "    .dataframe thead th {\n",
              "        text-align: right;\n",
              "    }\n",
              "</style>\n",
              "<table border=\"1\" class=\"dataframe\">\n",
              "  <thead>\n",
              "    <tr style=\"text-align: right;\">\n",
              "      <th></th>\n",
              "      <th>Quality</th>\n",
              "      <th>ntiD</th>\n",
              "    </tr>\n",
              "  </thead>\n",
              "  <tbody>\n",
              "    <tr>\n",
              "      <th>6</th>\n",
              "      <td>51.4</td>\n",
              "      <td>7</td>\n",
              "    </tr>\n",
              "    <tr>\n",
              "      <th>10</th>\n",
              "      <td>62.4</td>\n",
              "      <td>11</td>\n",
              "    </tr>\n",
              "    <tr>\n",
              "      <th>12</th>\n",
              "      <td>76.0</td>\n",
              "      <td>13</td>\n",
              "    </tr>\n",
              "    <tr>\n",
              "      <th>4</th>\n",
              "      <td>78.9</td>\n",
              "      <td>5</td>\n",
              "    </tr>\n",
              "    <tr>\n",
              "      <th>7</th>\n",
              "      <td>84.7</td>\n",
              "      <td>8</td>\n",
              "    </tr>\n",
              "  </tbody>\n",
              "</table>\n",
              "</div>\n",
              "      <button class=\"colab-df-convert\" onclick=\"convertToInteractive('df-938ba8ca-9177-48b9-a77d-e1cfc17aab3a')\"\n",
              "              title=\"Convert this dataframe to an interactive table.\"\n",
              "              style=\"display:none;\">\n",
              "        \n",
              "  <svg xmlns=\"http://www.w3.org/2000/svg\" height=\"24px\"viewBox=\"0 0 24 24\"\n",
              "       width=\"24px\">\n",
              "    <path d=\"M0 0h24v24H0V0z\" fill=\"none\"/>\n",
              "    <path d=\"M18.56 5.44l.94 2.06.94-2.06 2.06-.94-2.06-.94-.94-2.06-.94 2.06-2.06.94zm-11 1L8.5 8.5l.94-2.06 2.06-.94-2.06-.94L8.5 2.5l-.94 2.06-2.06.94zm10 10l.94 2.06.94-2.06 2.06-.94-2.06-.94-.94-2.06-.94 2.06-2.06.94z\"/><path d=\"M17.41 7.96l-1.37-1.37c-.4-.4-.92-.59-1.43-.59-.52 0-1.04.2-1.43.59L10.3 9.45l-7.72 7.72c-.78.78-.78 2.05 0 2.83L4 21.41c.39.39.9.59 1.41.59.51 0 1.02-.2 1.41-.59l7.78-7.78 2.81-2.81c.8-.78.8-2.07 0-2.86zM5.41 20L4 18.59l7.72-7.72 1.47 1.35L5.41 20z\"/>\n",
              "  </svg>\n",
              "      </button>\n",
              "      \n",
              "  <style>\n",
              "    .colab-df-container {\n",
              "      display:flex;\n",
              "      flex-wrap:wrap;\n",
              "      gap: 12px;\n",
              "    }\n",
              "\n",
              "    .colab-df-convert {\n",
              "      background-color: #E8F0FE;\n",
              "      border: none;\n",
              "      border-radius: 50%;\n",
              "      cursor: pointer;\n",
              "      display: none;\n",
              "      fill: #1967D2;\n",
              "      height: 32px;\n",
              "      padding: 0 0 0 0;\n",
              "      width: 32px;\n",
              "    }\n",
              "\n",
              "    .colab-df-convert:hover {\n",
              "      background-color: #E2EBFA;\n",
              "      box-shadow: 0px 1px 2px rgba(60, 64, 67, 0.3), 0px 1px 3px 1px rgba(60, 64, 67, 0.15);\n",
              "      fill: #174EA6;\n",
              "    }\n",
              "\n",
              "    [theme=dark] .colab-df-convert {\n",
              "      background-color: #3B4455;\n",
              "      fill: #D2E3FC;\n",
              "    }\n",
              "\n",
              "    [theme=dark] .colab-df-convert:hover {\n",
              "      background-color: #434B5C;\n",
              "      box-shadow: 0px 1px 3px 1px rgba(0, 0, 0, 0.15);\n",
              "      filter: drop-shadow(0px 1px 2px rgba(0, 0, 0, 0.3));\n",
              "      fill: #FFFFFF;\n",
              "    }\n",
              "  </style>\n",
              "\n",
              "      <script>\n",
              "        const buttonEl =\n",
              "          document.querySelector('#df-938ba8ca-9177-48b9-a77d-e1cfc17aab3a button.colab-df-convert');\n",
              "        buttonEl.style.display =\n",
              "          google.colab.kernel.accessAllowed ? 'block' : 'none';\n",
              "\n",
              "        async function convertToInteractive(key) {\n",
              "          const element = document.querySelector('#df-938ba8ca-9177-48b9-a77d-e1cfc17aab3a');\n",
              "          const dataTable =\n",
              "            await google.colab.kernel.invokeFunction('convertToInteractive',\n",
              "                                                     [key], {});\n",
              "          if (!dataTable) return;\n",
              "\n",
              "          const docLinkHtml = 'Like what you see? Visit the ' +\n",
              "            '<a target=\"_blank\" href=https://colab.research.google.com/notebooks/data_table.ipynb>data table notebook</a>'\n",
              "            + ' to learn more about interactive tables.';\n",
              "          element.innerHTML = '';\n",
              "          dataTable['output_type'] = 'display_data';\n",
              "          await google.colab.output.renderOutput(dataTable, element);\n",
              "          const docLink = document.createElement('div');\n",
              "          docLink.innerHTML = docLinkHtml;\n",
              "          element.appendChild(docLink);\n",
              "        }\n",
              "      </script>\n",
              "    </div>\n",
              "  </div>\n",
              "  "
            ],
            "text/plain": [
              "    Quality  ntiD\n",
              "6      51.4     7\n",
              "10     62.4    11\n",
              "12     76.0    13\n",
              "4      78.9     5\n",
              "7      84.7     8"
            ]
          },
          "metadata": {},
          "execution_count": 32
        }
      ]
    },
    {
      "cell_type": "markdown",
      "source": [
        "With the lowest quality scores we have the mirror reflection of the situation. With low quality scores, we can observe the lowest AHT values. \n",
        "\n",
        "---\n",
        "\n",
        "Let's see how far from the average of the whole team the lowest and highest 5 quality score are. "
      ],
      "metadata": {
        "id": "0GXbttq3cCjI"
      }
    },
    {
      "cell_type": "code",
      "source": [
        "sns.lineplot(data=high_5_qual, x='ntiD', y='Quality')\n",
        "plt.title('Top 5 Quality scores in respect to the average')\n",
        "plt.xticks([1,2,3,4,10])\n",
        "plt.axhline(y=quality_avg, linestyle='--', c='red', label='Average Quality')\n",
        "plt.axhline(y=quality_target, linestyle='--', c='green', label='Target Quality')\n",
        "plt.legend()"
      ],
      "metadata": {
        "colab": {
          "base_uri": "https://localhost:8080/",
          "height": 312
        },
        "id": "A4Ayespef3L7",
        "outputId": "a0c6864c-d008-4e72-d567-1dcb52ba3b7e"
      },
      "execution_count": null,
      "outputs": [
        {
          "output_type": "execute_result",
          "data": {
            "text/plain": [
              "<matplotlib.legend.Legend at 0x7f9d581efe10>"
            ]
          },
          "metadata": {},
          "execution_count": 33
        },
        {
          "output_type": "display_data",
          "data": {
            "image/png": "[encoded data removed]",
            "text/plain": [
              "<Figure size 432x288 with 1 Axes>"
            ]
          },
          "metadata": {
            "needs_background": "light"
          }
        }
      ]
    },
    {
      "cell_type": "code",
      "source": [
        "sns.lineplot(data=low_5_qual, x='ntiD', y='Quality')\n",
        "plt.title('Lowest 5 Quality scores in respect to the average')\n",
        "plt.xticks([5,7,8,11,13])\n",
        "plt.axhline(y=quality_avg, linestyle='--', c='red', label='Average Quality')\n",
        "plt.legend()"
      ],
      "metadata": {
        "colab": {
          "base_uri": "https://localhost:8080/",
          "height": 312
        },
        "id": "0qKKNRGahjPu",
        "outputId": "0af430bb-ba5c-4835-afb8-b111b2a2e791"
      },
      "execution_count": null,
      "outputs": [
        {
          "output_type": "execute_result",
          "data": {
            "text/plain": [
              "<matplotlib.legend.Legend at 0x7f9d581a8d10>"
            ]
          },
          "metadata": {},
          "execution_count": 34
        },
        {
          "output_type": "display_data",
          "data": {
            "image/png": "[encoded data removed]",
            "text/plain": [
              "<Figure size 432x288 with 1 Axes>"
            ]
          },
          "metadata": {
            "needs_background": "light"
          }
        }
      ]
    },
    {
      "cell_type": "markdown",
      "source": [
        "> It looks like 3 of our teammates - ntid 5,8,13 - are really close to the average of the whole team. \n",
        "\n",
        "Finally we'll check out the correlation between quality and aht, to prove our earlier hypothesis. \n",
        "\n",
        "###Quality vs. AHT \n",
        "\n",
        "####Quality vs. AHT on the EU market"
      ],
      "metadata": {
        "id": "57yLXndbiQVJ"
      }
    },
    {
      "cell_type": "code",
      "source": [
        "sns.lineplot(data=data, y='Quality', x='AHT EU')\n",
        "plt.title('Quality scores vs. AHT on the EU queue')\n",
        "plt.axhline(y=quality_avg, linestyle='--', c='red', label='Average Quality')\n",
        "plt.axhline(y=quality_target, linestyle='--', c='green', label='Target Quality')\n",
        "plt.legend()"
      ],
      "metadata": {
        "colab": {
          "base_uri": "https://localhost:8080/",
          "height": 312
        },
        "id": "exR3AxOgjPNR",
        "outputId": "5cb20ca3-a7fb-4aef-dc42-9e8c1b54ac5b"
      },
      "execution_count": null,
      "outputs": [
        {
          "output_type": "execute_result",
          "data": {
            "text/plain": [
              "<matplotlib.legend.Legend at 0x7f9d580dba50>"
            ]
          },
          "metadata": {},
          "execution_count": 35
        },
        {
          "output_type": "display_data",
          "data": {
            "image/png": "[encoded data removed]",
            "text/plain": [
              "<Figure size 432x288 with 1 Axes>"
            ]
          },
          "metadata": {
            "needs_background": "light"
          }
        }
      ]
    },
    {
      "cell_type": "markdown",
      "source": [
        "####Quality vs. AHT on the US market"
      ],
      "metadata": {
        "id": "hV7mZRh2k1zQ"
      }
    },
    {
      "cell_type": "code",
      "source": [
        "sns.lineplot(data=data, y='Quality', x='AHT US')\n",
        "plt.title('Quality scores vs. AHT on the US queue')\n",
        "plt.axhline(y=quality_avg, linestyle='--', c='red', label='Average Quality')\n",
        "plt.axhline(y=quality_target, linestyle='--', c='green', label='Target Quality')\n",
        "plt.legend()"
      ],
      "metadata": {
        "colab": {
          "base_uri": "https://localhost:8080/",
          "height": 312
        },
        "id": "5euDReNkk5EX",
        "outputId": "8bb89e96-c515-4742-8467-e7d2adaf09e9"
      },
      "execution_count": null,
      "outputs": [
        {
          "output_type": "execute_result",
          "data": {
            "text/plain": [
              "<matplotlib.legend.Legend at 0x7f9d583e7cd0>"
            ]
          },
          "metadata": {},
          "execution_count": 36
        },
        {
          "output_type": "display_data",
          "data": {
            "image/png": "[encoded data removed]",
            "text/plain": [
              "<Figure size 432x288 with 1 Axes>"
            ]
          },
          "metadata": {
            "needs_background": "light"
          }
        }
      ]
    },
    {
      "cell_type": "markdown",
      "source": [
        "Relationship between AHT and quality is clearly visible on the both markets. With much more sorted data samples it is posibble that this relationship would be linear. "
      ],
      "metadata": {
        "id": "z2Mgo9xXlQ_Y"
      }
    },
    {
      "cell_type": "markdown",
      "source": [
        "##Number of cases analysis\n",
        "\n",
        "####Average number of worked cases in the whole team"
      ],
      "metadata": {
        "id": "oPcIbLbU4VEx"
      }
    },
    {
      "cell_type": "code",
      "source": [
        "print('Average number of worked cases in the team: {}'.format(np.round(num_cases_avg, 2)))"
      ],
      "metadata": {
        "colab": {
          "base_uri": "https://localhost:8080/"
        },
        "id": "_WuYwsws5ppn",
        "outputId": "3c0dbd3d-d8b5-4ece-9d0a-d37caa0e0f57"
      },
      "execution_count": null,
      "outputs": [
        {
          "output_type": "stream",
          "name": "stdout",
          "text": [
            "Average number of worked cases in the team: 726.69\n"
          ]
        }
      ]
    },
    {
      "cell_type": "markdown",
      "source": [
        "###Number of cases worked by individual teammate in corespond to the mean of the whole team"
      ],
      "metadata": {
        "id": "HMB8NAiW6BvA"
      }
    },
    {
      "cell_type": "code",
      "source": [
        "sns.lineplot(data=data,y='Number of cases', x='ntiD')\n",
        "plt.title('Number of cases worked of individual team members in respect to the average')\n",
        "plt.xticks([1,2,3,4,5,6,7,8,9,10,11,12,13])\n",
        "plt.axhline(y=num_cases_avg, linestyle='--', c='red', label='Average number of cases')\n",
        "plt.legend()"
      ],
      "metadata": {
        "colab": {
          "base_uri": "https://localhost:8080/",
          "height": 312
        },
        "id": "9KgkbDUD6VeC",
        "outputId": "f0a1419d-72ab-4c02-f6cc-fe4beba56483"
      },
      "execution_count": null,
      "outputs": [
        {
          "output_type": "execute_result",
          "data": {
            "text/plain": [
              "<matplotlib.legend.Legend at 0x7f9d582e6810>"
            ]
          },
          "metadata": {},
          "execution_count": 38
        },
        {
          "output_type": "display_data",
          "data": {
            "image/png": "[encoded data removed]",
            "text/plain": [
              "<Figure size 432x288 with 1 Axes>"
            ]
          },
          "metadata": {
            "needs_background": "light"
          }
        }
      ]
    },
    {
      "cell_type": "markdown",
      "source": [
        "Plotting number of cases worked shows as really interesting results. \n",
        "> Teammate with **ntiD 7** worked really low amount of cases. Comparing it with a low quality scores it is possible that ntiD 7 teammate is a new addition to our team, or is working not on a full time. \n",
        "\n",
        "> Teammates with **ntid 1 , 2, 4** have pretty good quality score (3 of them in top 5), but high AHT value. Adding to it the low amount of cases worked by them, we can spot typical behaviour (new teammates or teammates that focus intensively on the quality of their work). \n",
        "\n",
        "> Teammate with **ntid 9** is also interesting case, lowest/highest AHT values depeneding on market, above average quality, low amount of cases. Seems like a teammate with a lot of potential. Maybe some aditionally amount of training, clearing procedures (us market) would help teammate with ntid 9 to achieve lower values AHT on US market.     \n",
        "\n",
        "> Teammates with **ntid 5, 8, 13** with lowest quality, lowest aht and above avg amount of cases worked have definetly one of the highest impact on the results of the whole team (if we'd calculate mean values in respect to the all cases worked by the team). \n",
        "\n",
        "> Teammates with **ntid 6, 10** with highest aht quality and above average number of cases worked would have large impact on the aht, if we'd calculate the aht values in respect to all cases worked by the team. \n",
        "\n",
        "> Teammates with **ntid 10** has good quality scores, large amount of cases worked, but one of the highest aht. Large amount of cases worked with correlation to the low aht suggest more than other teammates worked hours. Maybe teammate is overworked? \n",
        "\n",
        "> Teammate with **ntid 3** has below average aht scores on both markets and has in top 5 results considering the quality. \n",
        "\n",
        "\n"
      ],
      "metadata": {
        "id": "-7HEe8TQ_ud5"
      }
    },
    {
      "cell_type": "markdown",
      "source": [
        "####Teammates who worked the largest volumen of cases"
      ],
      "metadata": {
        "id": "1gjnfnelR6lO"
      }
    },
    {
      "cell_type": "code",
      "source": [
        "data[['Number of cases', 'ntiD']].nlargest(5, columns='Number of cases')"
      ],
      "metadata": {
        "colab": {
          "base_uri": "https://localhost:8080/",
          "height": 206
        },
        "id": "q9cF2cOnSDo5",
        "outputId": "6c6cc911-0b2c-4a59-8d1b-7098b19ee3cf"
      },
      "execution_count": null,
      "outputs": [
        {
          "output_type": "execute_result",
          "data": {
            "text/html": [
              "\n",
              "  <div id=\"df-4ff49525-c30d-4975-82cb-786b3ed375ad\">\n",
              "    <div class=\"colab-df-container\">\n",
              "      <div>\n",
              "<style scoped>\n",
              "    .dataframe tbody tr th:only-of-type {\n",
              "        vertical-align: middle;\n",
              "    }\n",
              "\n",
              "    .dataframe tbody tr th {\n",
              "        vertical-align: top;\n",
              "    }\n",
              "\n",
              "    .dataframe thead th {\n",
              "        text-align: right;\n",
              "    }\n",
              "</style>\n",
              "<table border=\"1\" class=\"dataframe\">\n",
              "  <thead>\n",
              "    <tr style=\"text-align: right;\">\n",
              "      <th></th>\n",
              "      <th>Number of cases</th>\n",
              "      <th>ntiD</th>\n",
              "    </tr>\n",
              "  </thead>\n",
              "  <tbody>\n",
              "    <tr>\n",
              "      <th>12</th>\n",
              "      <td>1310</td>\n",
              "      <td>13</td>\n",
              "    </tr>\n",
              "    <tr>\n",
              "      <th>7</th>\n",
              "      <td>1170</td>\n",
              "      <td>8</td>\n",
              "    </tr>\n",
              "    <tr>\n",
              "      <th>4</th>\n",
              "      <td>1089</td>\n",
              "      <td>5</td>\n",
              "    </tr>\n",
              "    <tr>\n",
              "      <th>9</th>\n",
              "      <td>1036</td>\n",
              "      <td>10</td>\n",
              "    </tr>\n",
              "    <tr>\n",
              "      <th>5</th>\n",
              "      <td>894</td>\n",
              "      <td>6</td>\n",
              "    </tr>\n",
              "  </tbody>\n",
              "</table>\n",
              "</div>\n",
              "      <button class=\"colab-df-convert\" onclick=\"convertToInteractive('df-4ff49525-c30d-4975-82cb-786b3ed375ad')\"\n",
              "              title=\"Convert this dataframe to an interactive table.\"\n",
              "              style=\"display:none;\">\n",
              "        \n",
              "  <svg xmlns=\"http://www.w3.org/2000/svg\" height=\"24px\"viewBox=\"0 0 24 24\"\n",
              "       width=\"24px\">\n",
              "    <path d=\"M0 0h24v24H0V0z\" fill=\"none\"/>\n",
              "    <path d=\"M18.56 5.44l.94 2.06.94-2.06 2.06-.94-2.06-.94-.94-2.06-.94 2.06-2.06.94zm-11 1L8.5 8.5l.94-2.06 2.06-.94-2.06-.94L8.5 2.5l-.94 2.06-2.06.94zm10 10l.94 2.06.94-2.06 2.06-.94-2.06-.94-.94-2.06-.94 2.06-2.06.94z\"/><path d=\"M17.41 7.96l-1.37-1.37c-.4-.4-.92-.59-1.43-.59-.52 0-1.04.2-1.43.59L10.3 9.45l-7.72 7.72c-.78.78-.78 2.05 0 2.83L4 21.41c.39.39.9.59 1.41.59.51 0 1.02-.2 1.41-.59l7.78-7.78 2.81-2.81c.8-.78.8-2.07 0-2.86zM5.41 20L4 18.59l7.72-7.72 1.47 1.35L5.41 20z\"/>\n",
              "  </svg>\n",
              "      </button>\n",
              "      \n",
              "  <style>\n",
              "    .colab-df-container {\n",
              "      display:flex;\n",
              "      flex-wrap:wrap;\n",
              "      gap: 12px;\n",
              "    }\n",
              "\n",
              "    .colab-df-convert {\n",
              "      background-color: #E8F0FE;\n",
              "      border: none;\n",
              "      border-radius: 50%;\n",
              "      cursor: pointer;\n",
              "      display: none;\n",
              "      fill: #1967D2;\n",
              "      height: 32px;\n",
              "      padding: 0 0 0 0;\n",
              "      width: 32px;\n",
              "    }\n",
              "\n",
              "    .colab-df-convert:hover {\n",
              "      background-color: #E2EBFA;\n",
              "      box-shadow: 0px 1px 2px rgba(60, 64, 67, 0.3), 0px 1px 3px 1px rgba(60, 64, 67, 0.15);\n",
              "      fill: #174EA6;\n",
              "    }\n",
              "\n",
              "    [theme=dark] .colab-df-convert {\n",
              "      background-color: #3B4455;\n",
              "      fill: #D2E3FC;\n",
              "    }\n",
              "\n",
              "    [theme=dark] .colab-df-convert:hover {\n",
              "      background-color: #434B5C;\n",
              "      box-shadow: 0px 1px 3px 1px rgba(0, 0, 0, 0.15);\n",
              "      filter: drop-shadow(0px 1px 2px rgba(0, 0, 0, 0.3));\n",
              "      fill: #FFFFFF;\n",
              "    }\n",
              "  </style>\n",
              "\n",
              "      <script>\n",
              "        const buttonEl =\n",
              "          document.querySelector('#df-4ff49525-c30d-4975-82cb-786b3ed375ad button.colab-df-convert');\n",
              "        buttonEl.style.display =\n",
              "          google.colab.kernel.accessAllowed ? 'block' : 'none';\n",
              "\n",
              "        async function convertToInteractive(key) {\n",
              "          const element = document.querySelector('#df-4ff49525-c30d-4975-82cb-786b3ed375ad');\n",
              "          const dataTable =\n",
              "            await google.colab.kernel.invokeFunction('convertToInteractive',\n",
              "                                                     [key], {});\n",
              "          if (!dataTable) return;\n",
              "\n",
              "          const docLinkHtml = 'Like what you see? Visit the ' +\n",
              "            '<a target=\"_blank\" href=https://colab.research.google.com/notebooks/data_table.ipynb>data table notebook</a>'\n",
              "            + ' to learn more about interactive tables.';\n",
              "          element.innerHTML = '';\n",
              "          dataTable['output_type'] = 'display_data';\n",
              "          await google.colab.output.renderOutput(dataTable, element);\n",
              "          const docLink = document.createElement('div');\n",
              "          docLink.innerHTML = docLinkHtml;\n",
              "          element.appendChild(docLink);\n",
              "        }\n",
              "      </script>\n",
              "    </div>\n",
              "  </div>\n",
              "  "
            ],
            "text/plain": [
              "    Number of cases  ntiD\n",
              "12             1310    13\n",
              "7              1170     8\n",
              "4              1089     5\n",
              "9              1036    10\n",
              "5               894     6"
            ]
          },
          "metadata": {},
          "execution_count": 39
        }
      ]
    },
    {
      "cell_type": "markdown",
      "source": [
        "####Teammates who worked the smallest volumen of cases"
      ],
      "metadata": {
        "id": "cgijOKQ-ScXC"
      }
    },
    {
      "cell_type": "code",
      "source": [
        "data[['Number of cases', 'ntiD']].nsmallest(5, columns='Number of cases')"
      ],
      "metadata": {
        "colab": {
          "base_uri": "https://localhost:8080/",
          "height": 206
        },
        "id": "3EUCDgHvSilQ",
        "outputId": "5e2f85a5-c730-41ed-ad45-22991fdad574"
      },
      "execution_count": null,
      "outputs": [
        {
          "output_type": "execute_result",
          "data": {
            "text/html": [
              "\n",
              "  <div id=\"df-bffe24cd-5e94-48de-a6b5-ea49028ab75f\">\n",
              "    <div class=\"colab-df-container\">\n",
              "      <div>\n",
              "<style scoped>\n",
              "    .dataframe tbody tr th:only-of-type {\n",
              "        vertical-align: middle;\n",
              "    }\n",
              "\n",
              "    .dataframe tbody tr th {\n",
              "        vertical-align: top;\n",
              "    }\n",
              "\n",
              "    .dataframe thead th {\n",
              "        text-align: right;\n",
              "    }\n",
              "</style>\n",
              "<table border=\"1\" class=\"dataframe\">\n",
              "  <thead>\n",
              "    <tr style=\"text-align: right;\">\n",
              "      <th></th>\n",
              "      <th>Number of cases</th>\n",
              "      <th>ntiD</th>\n",
              "    </tr>\n",
              "  </thead>\n",
              "  <tbody>\n",
              "    <tr>\n",
              "      <th>6</th>\n",
              "      <td>233</td>\n",
              "      <td>7</td>\n",
              "    </tr>\n",
              "    <tr>\n",
              "      <th>1</th>\n",
              "      <td>260</td>\n",
              "      <td>2</td>\n",
              "    </tr>\n",
              "    <tr>\n",
              "      <th>2</th>\n",
              "      <td>385</td>\n",
              "      <td>3</td>\n",
              "    </tr>\n",
              "    <tr>\n",
              "      <th>3</th>\n",
              "      <td>412</td>\n",
              "      <td>4</td>\n",
              "    </tr>\n",
              "    <tr>\n",
              "      <th>0</th>\n",
              "      <td>503</td>\n",
              "      <td>1</td>\n",
              "    </tr>\n",
              "  </tbody>\n",
              "</table>\n",
              "</div>\n",
              "      <button class=\"colab-df-convert\" onclick=\"convertToInteractive('df-bffe24cd-5e94-48de-a6b5-ea49028ab75f')\"\n",
              "              title=\"Convert this dataframe to an interactive table.\"\n",
              "              style=\"display:none;\">\n",
              "        \n",
              "  <svg xmlns=\"http://www.w3.org/2000/svg\" height=\"24px\"viewBox=\"0 0 24 24\"\n",
              "       width=\"24px\">\n",
              "    <path d=\"M0 0h24v24H0V0z\" fill=\"none\"/>\n",
              "    <path d=\"M18.56 5.44l.94 2.06.94-2.06 2.06-.94-2.06-.94-.94-2.06-.94 2.06-2.06.94zm-11 1L8.5 8.5l.94-2.06 2.06-.94-2.06-.94L8.5 2.5l-.94 2.06-2.06.94zm10 10l.94 2.06.94-2.06 2.06-.94-2.06-.94-.94-2.06-.94 2.06-2.06.94z\"/><path d=\"M17.41 7.96l-1.37-1.37c-.4-.4-.92-.59-1.43-.59-.52 0-1.04.2-1.43.59L10.3 9.45l-7.72 7.72c-.78.78-.78 2.05 0 2.83L4 21.41c.39.39.9.59 1.41.59.51 0 1.02-.2 1.41-.59l7.78-7.78 2.81-2.81c.8-.78.8-2.07 0-2.86zM5.41 20L4 18.59l7.72-7.72 1.47 1.35L5.41 20z\"/>\n",
              "  </svg>\n",
              "      </button>\n",
              "      \n",
              "  <style>\n",
              "    .colab-df-container {\n",
              "      display:flex;\n",
              "      flex-wrap:wrap;\n",
              "      gap: 12px;\n",
              "    }\n",
              "\n",
              "    .colab-df-convert {\n",
              "      background-color: #E8F0FE;\n",
              "      border: none;\n",
              "      border-radius: 50%;\n",
              "      cursor: pointer;\n",
              "      display: none;\n",
              "      fill: #1967D2;\n",
              "      height: 32px;\n",
              "      padding: 0 0 0 0;\n",
              "      width: 32px;\n",
              "    }\n",
              "\n",
              "    .colab-df-convert:hover {\n",
              "      background-color: #E2EBFA;\n",
              "      box-shadow: 0px 1px 2px rgba(60, 64, 67, 0.3), 0px 1px 3px 1px rgba(60, 64, 67, 0.15);\n",
              "      fill: #174EA6;\n",
              "    }\n",
              "\n",
              "    [theme=dark] .colab-df-convert {\n",
              "      background-color: #3B4455;\n",
              "      fill: #D2E3FC;\n",
              "    }\n",
              "\n",
              "    [theme=dark] .colab-df-convert:hover {\n",
              "      background-color: #434B5C;\n",
              "      box-shadow: 0px 1px 3px 1px rgba(0, 0, 0, 0.15);\n",
              "      filter: drop-shadow(0px 1px 2px rgba(0, 0, 0, 0.3));\n",
              "      fill: #FFFFFF;\n",
              "    }\n",
              "  </style>\n",
              "\n",
              "      <script>\n",
              "        const buttonEl =\n",
              "          document.querySelector('#df-bffe24cd-5e94-48de-a6b5-ea49028ab75f button.colab-df-convert');\n",
              "        buttonEl.style.display =\n",
              "          google.colab.kernel.accessAllowed ? 'block' : 'none';\n",
              "\n",
              "        async function convertToInteractive(key) {\n",
              "          const element = document.querySelector('#df-bffe24cd-5e94-48de-a6b5-ea49028ab75f');\n",
              "          const dataTable =\n",
              "            await google.colab.kernel.invokeFunction('convertToInteractive',\n",
              "                                                     [key], {});\n",
              "          if (!dataTable) return;\n",
              "\n",
              "          const docLinkHtml = 'Like what you see? Visit the ' +\n",
              "            '<a target=\"_blank\" href=https://colab.research.google.com/notebooks/data_table.ipynb>data table notebook</a>'\n",
              "            + ' to learn more about interactive tables.';\n",
              "          element.innerHTML = '';\n",
              "          dataTable['output_type'] = 'display_data';\n",
              "          await google.colab.output.renderOutput(dataTable, element);\n",
              "          const docLink = document.createElement('div');\n",
              "          docLink.innerHTML = docLinkHtml;\n",
              "          element.appendChild(docLink);\n",
              "        }\n",
              "      </script>\n",
              "    </div>\n",
              "  </div>\n",
              "  "
            ],
            "text/plain": [
              "   Number of cases  ntiD\n",
              "6              233     7\n",
              "1              260     2\n",
              "2              385     3\n",
              "3              412     4\n",
              "0              503     1"
            ]
          },
          "metadata": {},
          "execution_count": 40
        }
      ]
    },
    {
      "cell_type": "markdown",
      "source": [
        "###Quality vs. Number of cases"
      ],
      "metadata": {
        "id": "VdVPY0_QHShJ"
      }
    },
    {
      "cell_type": "code",
      "source": [
        "sns.lineplot(data=data, x='Number of cases', y='Quality')"
      ],
      "metadata": {
        "colab": {
          "base_uri": "https://localhost:8080/",
          "height": 296
        },
        "id": "FqVwwJuZHcz4",
        "outputId": "5798763d-c554-4c21-e142-5c77ae926cd8"
      },
      "execution_count": null,
      "outputs": [
        {
          "output_type": "execute_result",
          "data": {
            "text/plain": [
              "<matplotlib.axes._subplots.AxesSubplot at 0x7f9d57f75cd0>"
            ]
          },
          "metadata": {},
          "execution_count": 43
        },
        {
          "output_type": "display_data",
          "data": {
            "image/png": "[encoded data removed]",
            "text/plain": [
              "<Figure size 432x288 with 1 Axes>"
            ]
          },
          "metadata": {
            "needs_background": "light"
          }
        }
      ]
    },
    {
      "cell_type": "markdown",
      "source": [
        "###Number of cases vs. AHT"
      ],
      "metadata": {
        "id": "j19c-aSwH-Q-"
      }
    },
    {
      "cell_type": "code",
      "source": [
        "sns.lineplot(data=data, y='Number of cases', x='AHT EU')"
      ],
      "metadata": {
        "colab": {
          "base_uri": "https://localhost:8080/",
          "height": 296
        },
        "id": "robBRB7WIDYr",
        "outputId": "74ca5f10-36aa-4a2c-ad22-035264b5ac9b"
      },
      "execution_count": null,
      "outputs": [
        {
          "output_type": "execute_result",
          "data": {
            "text/plain": [
              "<matplotlib.axes._subplots.AxesSubplot at 0x7f9d5796de10>"
            ]
          },
          "metadata": {},
          "execution_count": 51
        },
        {
          "output_type": "display_data",
          "data": {
            "image/png": "[encoded data removed]",
            "text/plain": [
              "<Figure size 432x288 with 1 Axes>"
            ]
          },
          "metadata": {
            "needs_background": "light"
          }
        }
      ]
    },
    {
      "cell_type": "code",
      "source": [
        "sns.lineplot(data=data, y='Number of cases', x='AHT US')"
      ],
      "metadata": {
        "colab": {
          "base_uri": "https://localhost:8080/",
          "height": 296
        },
        "id": "Nduk4jw3ISl7",
        "outputId": "fe8311b1-38fc-4300-e186-d56ae3905294"
      },
      "execution_count": null,
      "outputs": [
        {
          "output_type": "execute_result",
          "data": {
            "text/plain": [
              "<matplotlib.axes._subplots.AxesSubplot at 0x7f9d57887250>"
            ]
          },
          "metadata": {},
          "execution_count": 52
        },
        {
          "output_type": "display_data",
          "data": {
            "image/png": "[encoded data removed]",
            "text/plain": [
              "<Figure size 432x288 with 1 Axes>"
            ]
          },
          "metadata": {
            "needs_background": "light"
          }
        }
      ]
    },
    {
      "cell_type": "markdown",
      "source": [
        "##Correlations between the features\n",
        "\n",
        "Earlier we've seen the correlation between high AHT and high quality, and low AHT and low quality. Let's take a look at AHT, quality, number of cases worked and all teammates on the one plot. "
      ],
      "metadata": {
        "id": "36O37A0wUuVV"
      }
    },
    {
      "cell_type": "code",
      "source": [
        "sns.relplot(x=\"AHT EU\", y=\"Quality\", hue=\"ntiD\", size=\"Number of cases\",\n",
        "            sizes=(100, 1000), alpha=.9, palette=\"RdBu\",\n",
        "            height=6, data=data, legend='full')\n",
        "plt.axhline(y=quality_avg, linestyle='--', c='red', label='Average Quality')\n",
        "plt.axhline(y=quality_target, linestyle='--', c='green', label='Target Quality')\n",
        "plt.axvline(x=aht_eu_avg, linestyle='-', c='blue', label='Average AHT EU')\n",
        "plt.title('Correlations on the EU market')"
      ],
      "metadata": {
        "colab": {
          "base_uri": "https://localhost:8080/",
          "height": 481
        },
        "id": "LwM9q9LDWBtD",
        "outputId": "2b28635b-d2d1-4676-f7b7-57815d9a31ce"
      },
      "execution_count": null,
      "outputs": [
        {
          "output_type": "execute_result",
          "data": {
            "text/plain": [
              "Text(0.5, 1.0, 'Correlations on the EU market')"
            ]
          },
          "metadata": {},
          "execution_count": 44
        },
        {
          "output_type": "display_data",
          "data": {
            "image/png": "[encoded data removed]",
            "text/plain": [
              "<Figure size 532.125x432 with 1 Axes>"
            ]
          },
          "metadata": {
            "needs_background": "light"
          }
        }
      ]
    },
    {
      "cell_type": "code",
      "source": [
        "sns.relplot(x=\"AHT US\", y=\"Quality\", hue=\"ntiD\", size=\"Number of cases\",\n",
        "            sizes=(100, 1000), alpha=.9, palette=\"RdBu\",\n",
        "            height=6, data=data, legend='full')\n",
        "plt.axhline(y=quality_avg, linestyle='--', c='red', label='Average Quality')\n",
        "plt.axhline(y=quality_target, linestyle='--', c='green', label='Target Quality')\n",
        "plt.axvline(x=aht_us_avg, linestyle='-', c='blue', label='Average AHT US')\n",
        "plt.title('Correlations on the US market')"
      ],
      "metadata": {
        "colab": {
          "base_uri": "https://localhost:8080/",
          "height": 481
        },
        "id": "U_BPpDxjXbQI",
        "outputId": "b187a5a2-f4af-45ab-88e7-96d280ba5029"
      },
      "execution_count": null,
      "outputs": [
        {
          "output_type": "execute_result",
          "data": {
            "text/plain": [
              "Text(0.5, 1.0, 'Correlations on the US market')"
            ]
          },
          "metadata": {},
          "execution_count": 45
        },
        {
          "output_type": "display_data",
          "data": {
            "image/png": "[encoded data removed]",
            "text/plain": [
              "<Figure size 532.125x432 with 1 Axes>"
            ]
          },
          "metadata": {
            "needs_background": "light"
          }
        }
      ]
    },
    {
      "cell_type": "markdown",
      "source": [
        "With above replots on the both markets we can see better what are the ntid's of teammates we need to give more support. \n",
        "\n",
        "> Teammate's with ntid's: 5, 11, 13  need to work on quality more intensively.\n",
        "\n",
        "> Teammate with ntid 7 needs more quality traning. \n",
        "\n",
        ">  The same issue we have with a results of a teammate with ntid 8, but teammate with ntid 8 has Quality results almost on the average of the whole team, so only small corrections are probably necessary here. \n",
        "\n",
        "> Teammate's in the mid range of quality target and the average - ntid's 4, 9, 12, and 6 (for the EU market) - don't have much issues with quality, but they need to take a closer look at their's working patterns and efficiency, to achieve better results. \n",
        "\n",
        "> Teammate's with ntid 1, 3, 10 are achieving target goals and are near the average of the aht of the whole team. but have a little higher aht on the EU. "
      ],
      "metadata": {
        "id": "aH7X16lZZeIt"
      }
    },
    {
      "cell_type": "code",
      "source": [
        "cr = data.corr()\n",
        "sns.heatmap(cr,cmap='RdBu', center=0,\n",
        "            square=True, linewidths=.5)\n"
      ],
      "metadata": {
        "colab": {
          "base_uri": "https://localhost:8080/",
          "height": 360
        },
        "id": "O5yU-yjgbrgz",
        "outputId": "4af05880-16ee-4ebe-d387-6246c3be24b4"
      },
      "execution_count": null,
      "outputs": [
        {
          "output_type": "execute_result",
          "data": {
            "text/plain": [
              "<matplotlib.axes._subplots.AxesSubplot at 0x7f9d57c66610>"
            ]
          },
          "metadata": {},
          "execution_count": 46
        },
        {
          "output_type": "display_data",
          "data": {
            "image/png": "[encoded data removed]",
            "text/plain": [
              "<Figure size 432x288 with 2 Axes>"
            ]
          },
          "metadata": {
            "needs_background": "light"
          }
        }
      ]
    },
    {
      "cell_type": "markdown",
      "source": [
        "With a correlation map above we see tha AHT EU/US is strongly positively correlated with quality (blue squares). \n",
        "\n",
        "---\n",
        "---"
      ],
      "metadata": {
        "id": "g3FNFLxrguHX"
      }
    },
    {
      "cell_type": "markdown",
      "source": [
        "##Identifying teammates with the greatest impact on the AHT values\n",
        "\n",
        "Teammates with the greates impact on the AHT values are further from the AHT are the teammates with the most extreme values of the AHT in respect to the whole team. \n",
        "\n",
        "> Lowest AHT EU: 158.1, ntiD - 7\n",
        "\n",
        "> Highest AHT EU: 692.2 , ntiD - 6\n",
        "\n",
        "> Lowest AHT US: 283.9, ntiD - 11\n",
        "\n",
        "> Highest AHT US: 617.9 , ntiD - 9\n",
        "\n"
      ],
      "metadata": {
        "id": "36X4GJCnj1aG"
      }
    },
    {
      "cell_type": "markdown",
      "source": [
        "##Identifying teammates who need to work intesively on the Quality goal - 95%\n",
        "\n",
        "Teammates who need to work instesibely on the Quality goal - which is 95% - are the teammates with lowest quality scores in the whole team. \n",
        "\n"
      ],
      "metadata": {
        "id": "Bs5XnYHjm1Jr"
      }
    },
    {
      "cell_type": "code",
      "source": [
        "data[['Quality', 'ntiD']].nsmallest(5, columns='Quality')"
      ],
      "metadata": {
        "colab": {
          "base_uri": "https://localhost:8080/",
          "height": 206
        },
        "id": "4qzYPAXnnRIm",
        "outputId": "fc3cda10-da1c-407b-f880-7c89b8f1a8dc"
      },
      "execution_count": null,
      "outputs": [
        {
          "output_type": "execute_result",
          "data": {
            "text/html": [
              "\n",
              "  <div id=\"df-1360e17f-3ac4-4570-8b5c-074cb9004668\">\n",
              "    <div class=\"colab-df-container\">\n",
              "      <div>\n",
              "<style scoped>\n",
              "    .dataframe tbody tr th:only-of-type {\n",
              "        vertical-align: middle;\n",
              "    }\n",
              "\n",
              "    .dataframe tbody tr th {\n",
              "        vertical-align: top;\n",
              "    }\n",
              "\n",
              "    .dataframe thead th {\n",
              "        text-align: right;\n",
              "    }\n",
              "</style>\n",
              "<table border=\"1\" class=\"dataframe\">\n",
              "  <thead>\n",
              "    <tr style=\"text-align: right;\">\n",
              "      <th></th>\n",
              "      <th>Quality</th>\n",
              "      <th>ntiD</th>\n",
              "    </tr>\n",
              "  </thead>\n",
              "  <tbody>\n",
              "    <tr>\n",
              "      <th>6</th>\n",
              "      <td>51.4</td>\n",
              "      <td>7</td>\n",
              "    </tr>\n",
              "    <tr>\n",
              "      <th>10</th>\n",
              "      <td>62.4</td>\n",
              "      <td>11</td>\n",
              "    </tr>\n",
              "    <tr>\n",
              "      <th>12</th>\n",
              "      <td>76.0</td>\n",
              "      <td>13</td>\n",
              "    </tr>\n",
              "    <tr>\n",
              "      <th>4</th>\n",
              "      <td>78.9</td>\n",
              "      <td>5</td>\n",
              "    </tr>\n",
              "    <tr>\n",
              "      <th>7</th>\n",
              "      <td>84.7</td>\n",
              "      <td>8</td>\n",
              "    </tr>\n",
              "  </tbody>\n",
              "</table>\n",
              "</div>\n",
              "      <button class=\"colab-df-convert\" onclick=\"convertToInteractive('df-1360e17f-3ac4-4570-8b5c-074cb9004668')\"\n",
              "              title=\"Convert this dataframe to an interactive table.\"\n",
              "              style=\"display:none;\">\n",
              "        \n",
              "  <svg xmlns=\"http://www.w3.org/2000/svg\" height=\"24px\"viewBox=\"0 0 24 24\"\n",
              "       width=\"24px\">\n",
              "    <path d=\"M0 0h24v24H0V0z\" fill=\"none\"/>\n",
              "    <path d=\"M18.56 5.44l.94 2.06.94-2.06 2.06-.94-2.06-.94-.94-2.06-.94 2.06-2.06.94zm-11 1L8.5 8.5l.94-2.06 2.06-.94-2.06-.94L8.5 2.5l-.94 2.06-2.06.94zm10 10l.94 2.06.94-2.06 2.06-.94-2.06-.94-.94-2.06-.94 2.06-2.06.94z\"/><path d=\"M17.41 7.96l-1.37-1.37c-.4-.4-.92-.59-1.43-.59-.52 0-1.04.2-1.43.59L10.3 9.45l-7.72 7.72c-.78.78-.78 2.05 0 2.83L4 21.41c.39.39.9.59 1.41.59.51 0 1.02-.2 1.41-.59l7.78-7.78 2.81-2.81c.8-.78.8-2.07 0-2.86zM5.41 20L4 18.59l7.72-7.72 1.47 1.35L5.41 20z\"/>\n",
              "  </svg>\n",
              "      </button>\n",
              "      \n",
              "  <style>\n",
              "    .colab-df-container {\n",
              "      display:flex;\n",
              "      flex-wrap:wrap;\n",
              "      gap: 12px;\n",
              "    }\n",
              "\n",
              "    .colab-df-convert {\n",
              "      background-color: #E8F0FE;\n",
              "      border: none;\n",
              "      border-radius: 50%;\n",
              "      cursor: pointer;\n",
              "      display: none;\n",
              "      fill: #1967D2;\n",
              "      height: 32px;\n",
              "      padding: 0 0 0 0;\n",
              "      width: 32px;\n",
              "    }\n",
              "\n",
              "    .colab-df-convert:hover {\n",
              "      background-color: #E2EBFA;\n",
              "      box-shadow: 0px 1px 2px rgba(60, 64, 67, 0.3), 0px 1px 3px 1px rgba(60, 64, 67, 0.15);\n",
              "      fill: #174EA6;\n",
              "    }\n",
              "\n",
              "    [theme=dark] .colab-df-convert {\n",
              "      background-color: #3B4455;\n",
              "      fill: #D2E3FC;\n",
              "    }\n",
              "\n",
              "    [theme=dark] .colab-df-convert:hover {\n",
              "      background-color: #434B5C;\n",
              "      box-shadow: 0px 1px 3px 1px rgba(0, 0, 0, 0.15);\n",
              "      filter: drop-shadow(0px 1px 2px rgba(0, 0, 0, 0.3));\n",
              "      fill: #FFFFFF;\n",
              "    }\n",
              "  </style>\n",
              "\n",
              "      <script>\n",
              "        const buttonEl =\n",
              "          document.querySelector('#df-1360e17f-3ac4-4570-8b5c-074cb9004668 button.colab-df-convert');\n",
              "        buttonEl.style.display =\n",
              "          google.colab.kernel.accessAllowed ? 'block' : 'none';\n",
              "\n",
              "        async function convertToInteractive(key) {\n",
              "          const element = document.querySelector('#df-1360e17f-3ac4-4570-8b5c-074cb9004668');\n",
              "          const dataTable =\n",
              "            await google.colab.kernel.invokeFunction('convertToInteractive',\n",
              "                                                     [key], {});\n",
              "          if (!dataTable) return;\n",
              "\n",
              "          const docLinkHtml = 'Like what you see? Visit the ' +\n",
              "            '<a target=\"_blank\" href=https://colab.research.google.com/notebooks/data_table.ipynb>data table notebook</a>'\n",
              "            + ' to learn more about interactive tables.';\n",
              "          element.innerHTML = '';\n",
              "          dataTable['output_type'] = 'display_data';\n",
              "          await google.colab.output.renderOutput(dataTable, element);\n",
              "          const docLink = document.createElement('div');\n",
              "          docLink.innerHTML = docLinkHtml;\n",
              "          element.appendChild(docLink);\n",
              "        }\n",
              "      </script>\n",
              "    </div>\n",
              "  </div>\n",
              "  "
            ],
            "text/plain": [
              "    Quality  ntiD\n",
              "6      51.4     7\n",
              "10     62.4    11\n",
              "12     76.0    13\n",
              "4      78.9     5\n",
              "7      84.7     8"
            ]
          },
          "metadata": {},
          "execution_count": 47
        }
      ]
    },
    {
      "cell_type": "markdown",
      "source": [
        "##Identifying which KPI's should be work on first\n",
        "\n",
        "As seen in the correlation plot the only 4 teammates achieve the **QUALITY TARGET** - 95%. 4 of our teammates are in the 'mid range' quality level (between target and average). And all the rest (5 teammates) are below average of the whole team. \n",
        "> First KPI which our team needs to work on is **Quality**. \n",
        "\n",
        "On the second place our team needs to work on **AHT** levels. 5-6 teammates don't reach the average of the whole team. 6 of our teammates are working really fast, but in the cost of quality - which it shouldn't be in order. \n",
        "\n"
      ],
      "metadata": {
        "id": "oOBImFxFnTlr"
      }
    },
    {
      "cell_type": "markdown",
      "source": [
        "##Identying which behaviors can cause low AHT results\n",
        "\n",
        "Our analysis lead to the strong correlations between AHT results and quality scores. In 2-3 cases (ntid 4, 9, 12 US/ntid) 4,6, EU) low ATH results correlates with above average quality. And with 1-3 cases (ntid 2 US/ ntid 2, 10, 11 EU) low AHT results correlates with target hitting and above quality. \n",
        "\n",
        "It is also good to point out small relationship between above average amount of cases worked and low aht results (ntid's 4, 9, 2, 1 depending on the market), which could lead to conclusion of not estblished workflow already - new teammates, new market, rarely working market. \n",
        "\n",
        "Also we could think that the oder reason behind low AHT results would be high volume of cases worked (suggests overwork) - ntid 10. \n",
        "\n",
        "With above we can be lead to a conclusion, that the main 3 reason of the low AHT results are: \n",
        "1. Focussing work efforts on the quality, without taking into consideration AHT results. \n",
        "2. Working on new market/being new teammate. \n",
        "3. Working rarely on some markets. \n"
      ],
      "metadata": {
        "id": "rcW1NTYdpcTb"
      }
    },
    {
      "cell_type": "markdown",
      "source": [
        "##How to improve whole team results?\n",
        "\n",
        "Main problem of the team is reaching Quality Target. Our efforts should focus in the first place on the Quality. \n",
        "\n",
        "> How to improve Quality? \n",
        "\n",
        "Various actions could be taken in this kind of situation, but first it is a good practice, to talk with a team, to hear what all and individual teammates, have an issue with, which makes them hard to reaching the QUALITY target. It seems like the most efficient way to do this, is to organize a team meeting, when everyone will be asked '**What she/he thinks what is the main obstacle in reaching the quality target**'. \n",
        "\n",
        "Brainstorming with a team would also be beneficial for the rising team spirit, and showing the team, that their voice matters. \n",
        "\n",
        "Creating notes from the meeting about main team issues, can help us to determine the most effective and tailored for the team members solution. \n",
        "\n",
        " * What actions could we take to improve Quality? \n",
        "\n",
        "    * **Organize a survey**, in which teammates could share what procedures are the ones that are not perfectly clear for them. After receiving the survey results, TL is forwarding questions to the SME, and coming back to the team to team to talk about the procedures on team metting.\n",
        "    * **Create a file with FAQ and answers about procedures in the team** and save it for the easy and accesible team use - on the team channel on teams. \n",
        "    *   Organize **Side-By-Side sessions** with teammates with highest quality and highest AHT results (inside the team - to encourage the connections between teammates and one-team approach). One teammate is solving cases, the other is watching. And after some time, they are switching the roles. \n",
        "    \n",
        "After achieving better evaluations results, the team can focus on improving AHT.\n",
        "\n",
        "> How to improve AHT?\n",
        "\n",
        "Generally AHT should naturally be 'better', when the amount of cases worked by the individual teammates increase. But low aht results are not always the case, and sometimes some workflow tuning is required. \n",
        "\n",
        "Almost half of the team (results of quality are above average), are dealing with troubles in achieving better AHT results. Besides asking team members about what could've help them in achieving lower AHT results. What can we do to improve this?\n",
        "\n",
        "> What actions could we take to improve AHT results?\n",
        "  \n",
        "  *  **Tips from the fastest**, we can organize individual sessions with teammates, who have good aht and quality scores. \n",
        "  * **Work with a workflow**, create step-by-step workflow chart for teammates to follow easily and learn the most efficient work patterns. \n",
        "  * **Help from the tools**, there are couple of Windows integrated software which teammates can use for repetitive tasks - showing theam such a tools could be beneficial for the aht results. \n",
        "\n",
        "  "
      ],
      "metadata": {
        "id": "cgUJl4TNKsTy"
      }
    }
  ]
}