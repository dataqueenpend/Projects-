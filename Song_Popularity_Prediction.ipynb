{
  "nbformat": 4,
  "nbformat_minor": 0,
  "metadata": {
    "colab": {
      "name": "Song Popularity Prediction.ipynb",
      "provenance": [],
      "collapsed_sections": [],
      "authorship_tag": "ABX9TyNpYNb7S4zfps1TgY2Tkdb/",
      "include_colab_link": true
    },
    "kernelspec": {
      "name": "python3",
      "display_name": "Python 3"
    },
    "language_info": {
      "name": "python"
    }
  },
  "cells": [
    {
      "cell_type": "markdown",
      "metadata": {
        "id": "view-in-github",
        "colab_type": "text"
      },
      "source": [
        "<a href=\"https://colab.research.google.com/github/dataqueenpend/Projects-/blob/main/Song_Popularity_Prediction.ipynb\" target=\"_parent\"><img src=\"https://colab.research.google.com/assets/colab-badge.svg\" alt=\"Open In Colab\"/></a>"
      ]
    },
    {
      "cell_type": "markdown",
      "source": [
        "##Loading data and imports"
      ],
      "metadata": {
        "id": "vQb9CDhOpNmT"
      }
    },
    {
      "cell_type": "code",
      "execution_count": 26,
      "metadata": {
        "id": "jFUNjl9DDQ5W"
      },
      "outputs": [],
      "source": [
        "import os\n",
        "import csv\n",
        "import urllib.request\n",
        "import sklearn\n",
        "import numpy as np\n",
        "import pandas as pd\n",
        "import matplotlib as mpl\n",
        "import matplotlib.pyplot as plt\n",
        "import warnings\n",
        "import seaborn as sns\n",
        "\n",
        "#For the plots\n",
        "%matplotlib inline\n",
        "mpl.rc('axes', labelsize=14)\n",
        "mpl.rc('xtick', labelsize=12)\n",
        "mpl.rc('ytick', labelsize=12)\n",
        "warnings.filterwarnings('ignore')\n"
      ]
    },
    {
      "cell_type": "code",
      "source": [
        "DOWNLOAD_ROOT = 'https://raw.githubusercontent.com/dataqueenpend/Projects-/main/'\n",
        "SONG_PATH = os.path.join('Song-Popularity-Prediction-MAC')\n",
        "SONG_URL = DOWNLOAD_ROOT + 'Song-Popularity-Prediction-MAC/train.csv'"
      ],
      "metadata": {
        "id": "x6IRUXEKDhI6"
      },
      "execution_count": 2,
      "outputs": []
    },
    {
      "cell_type": "code",
      "source": [
        "def fetch_song_data(song_url=SONG_URL, song_path=SONG_PATH):\n",
        "  os.makedirs(song_path, exist_ok=True)\n",
        "  song_path_csv = os.path.join(song_path, 'train.csv')\n",
        "  urllib.request.urlretrieve(song_url, song_path_csv)\n",
        "  song_csv = pd.read_csv(song_path_csv)\n",
        "  return song_csv"
      ],
      "metadata": {
        "id": "5f3I1_g8F61f"
      },
      "execution_count": 3,
      "outputs": []
    },
    {
      "cell_type": "code",
      "source": [
        "song = fetch_song_data()"
      ],
      "metadata": {
        "id": "OeqxIfFuPDnq"
      },
      "execution_count": 4,
      "outputs": []
    },
    {
      "cell_type": "markdown",
      "source": [
        "##EDA"
      ],
      "metadata": {
        "id": "VNBIuS0SpUrT"
      }
    },
    {
      "cell_type": "markdown",
      "source": [
        "###Data descrption\n",
        "\n",
        "Source - Spotify: \"In Spotify's API is something called Valence, that describes the musical positiveness conveyed by a track. Tracks with high valence sound more positive (happy, cheerful, euphoric), while tracks with low valence sound more negative (sad, depressed, angry).\"\n",
        "\n",
        "**From very good article explaining Spotify API What Makes a Song Likeable**?- https://towardsdatascience.com/what-makes-a-song-likeable-dbfdb7abe404 we can read that:\n",
        "\n",
        "---\n",
        "\n",
        "Spotify Audio Features\n",
        "For every track on their platform, Spotify provides data for thirteen Audio Features.The Spotify Web API developer guide defines them as follows:\n",
        "\n",
        "* **Danceability:** Describes how suitable a track is for dancing based on a combination of musical elements including tempo, rhythm stability, beat strength, and overall regularity.\n",
        "\n",
        "* **Valence**: Describes the musical positiveness conveyed by a track. Tracks with high valence sound more positive (e.g. happy, cheerful, euphoric), while tracks with low valence sound more negative (e.g. sad, depressed, angry).\n",
        "\n",
        "* **Energy**: Represents a perceptual measure of intensity and activity. Typically, energetic tracks feel fast, loud, and noisy. For example, death metal has high energy, while a Bach prelude scores low on the scale.\n",
        "\n",
        "* **Tempo**: The overall estimated tempo of a track in beats per minute (BPM). In musical terminology, tempo is the speed or pace of a given piece, and derives directly from the average beat duration.\n",
        "\n",
        "* **Loudness**: The overall loudness of a track in decibels (dB). Loudness values are averaged across the entire track and are useful for comparing relative loudness of tracks.\n",
        "\n",
        "* **Speechiness**: This detects the presence of spoken words in a track. The more exclusively speech-like the recording (e.g. talk show, audio book, poetry), the closer to 1.0 the attribute value.\n",
        "Instrumentalness: Predicts whether a track contains no vocals. “Ooh” and “aah” sounds are treated as instrumental in this context. Rap or spoken word tracks are clearly “vocal”.\n",
        "\n",
        "* **Liveness**: Detects the presence of an audience in the recording. Higher liveness values represent an increased probability that the track was performed live.\n",
        "\n",
        "* **Acousticness**: A confidence measure from 0.0 to 1.0 of whether the track is acoustic.\n",
        "\n",
        "* **Key**: The estimated overall key of the track. Integers map to pitches using standard Pitch Class notation . E.g. 0 = C, 1 = C♯/D♭, 2 = D, and so on.\n",
        "\n",
        "* **Mode**: Indicates the modality (major or minor) of a track, the type of scale from which its melodic content is derived. Major is represented by 1 and minor is 0.\n",
        "\n",
        "* **Duration**: The duration of the track in milliseconds.\n",
        "\n",
        "* **Time Signature**: An estimated overall time signature of a track. The time signature (meter) is a notational convention to specify how many beats are in each bar (or measure).\n",
        "\n",
        "[SOURCE](https://www.kaggle.com/c/song-popularity-prediction/discussion/301616)"
      ],
      "metadata": {
        "id": "G0i1uU7dpZ-m"
      }
    },
    {
      "cell_type": "code",
      "source": [
        "song.head()"
      ],
      "metadata": {
        "colab": {
          "base_uri": "https://localhost:8080/",
          "height": 250
        },
        "id": "JVzrtP7bUEsW",
        "outputId": "10b9bf40-f196-4561-9cab-582d279274f3"
      },
      "execution_count": 5,
      "outputs": [
        {
          "output_type": "execute_result",
          "data": {
            "text/html": [
              "\n",
              "  <div id=\"df-32124265-5e8a-42b2-ae35-3bce4133a228\">\n",
              "    <div class=\"colab-df-container\">\n",
              "      <div>\n",
              "<style scoped>\n",
              "    .dataframe tbody tr th:only-of-type {\n",
              "        vertical-align: middle;\n",
              "    }\n",
              "\n",
              "    .dataframe tbody tr th {\n",
              "        vertical-align: top;\n",
              "    }\n",
              "\n",
              "    .dataframe thead th {\n",
              "        text-align: right;\n",
              "    }\n",
              "</style>\n",
              "<table border=\"1\" class=\"dataframe\">\n",
              "  <thead>\n",
              "    <tr style=\"text-align: right;\">\n",
              "      <th></th>\n",
              "      <th>id</th>\n",
              "      <th>song_duration_ms</th>\n",
              "      <th>acousticness</th>\n",
              "      <th>danceability</th>\n",
              "      <th>energy</th>\n",
              "      <th>instrumentalness</th>\n",
              "      <th>key</th>\n",
              "      <th>liveness</th>\n",
              "      <th>loudness</th>\n",
              "      <th>audio_mode</th>\n",
              "      <th>speechiness</th>\n",
              "      <th>tempo</th>\n",
              "      <th>time_signature</th>\n",
              "      <th>audio_valence</th>\n",
              "      <th>song_popularity</th>\n",
              "    </tr>\n",
              "  </thead>\n",
              "  <tbody>\n",
              "    <tr>\n",
              "      <th>0</th>\n",
              "      <td>0</td>\n",
              "      <td>212990.0</td>\n",
              "      <td>0.642286</td>\n",
              "      <td>0.856520</td>\n",
              "      <td>0.707073</td>\n",
              "      <td>0.002001</td>\n",
              "      <td>10.0</td>\n",
              "      <td>NaN</td>\n",
              "      <td>-5.619088</td>\n",
              "      <td>0</td>\n",
              "      <td>0.082570</td>\n",
              "      <td>158.386236</td>\n",
              "      <td>4</td>\n",
              "      <td>0.734642</td>\n",
              "      <td>0</td>\n",
              "    </tr>\n",
              "    <tr>\n",
              "      <th>1</th>\n",
              "      <td>1</td>\n",
              "      <td>NaN</td>\n",
              "      <td>0.054866</td>\n",
              "      <td>0.733289</td>\n",
              "      <td>0.835545</td>\n",
              "      <td>0.000996</td>\n",
              "      <td>8.0</td>\n",
              "      <td>0.436428</td>\n",
              "      <td>-5.236965</td>\n",
              "      <td>1</td>\n",
              "      <td>0.127358</td>\n",
              "      <td>102.752988</td>\n",
              "      <td>3</td>\n",
              "      <td>0.711531</td>\n",
              "      <td>1</td>\n",
              "    </tr>\n",
              "    <tr>\n",
              "      <th>2</th>\n",
              "      <td>2</td>\n",
              "      <td>193213.0</td>\n",
              "      <td>NaN</td>\n",
              "      <td>0.188387</td>\n",
              "      <td>0.783524</td>\n",
              "      <td>-0.002694</td>\n",
              "      <td>5.0</td>\n",
              "      <td>0.170499</td>\n",
              "      <td>-4.951759</td>\n",
              "      <td>0</td>\n",
              "      <td>0.052282</td>\n",
              "      <td>178.685791</td>\n",
              "      <td>3</td>\n",
              "      <td>0.425536</td>\n",
              "      <td>0</td>\n",
              "    </tr>\n",
              "    <tr>\n",
              "      <th>3</th>\n",
              "      <td>3</td>\n",
              "      <td>249893.0</td>\n",
              "      <td>0.488660</td>\n",
              "      <td>0.585234</td>\n",
              "      <td>0.552685</td>\n",
              "      <td>0.000608</td>\n",
              "      <td>0.0</td>\n",
              "      <td>0.094805</td>\n",
              "      <td>-7.893694</td>\n",
              "      <td>0</td>\n",
              "      <td>0.035618</td>\n",
              "      <td>128.715630</td>\n",
              "      <td>3</td>\n",
              "      <td>0.453597</td>\n",
              "      <td>0</td>\n",
              "    </tr>\n",
              "    <tr>\n",
              "      <th>4</th>\n",
              "      <td>4</td>\n",
              "      <td>165969.0</td>\n",
              "      <td>0.493017</td>\n",
              "      <td>NaN</td>\n",
              "      <td>0.740982</td>\n",
              "      <td>0.002033</td>\n",
              "      <td>10.0</td>\n",
              "      <td>0.094891</td>\n",
              "      <td>-2.684095</td>\n",
              "      <td>0</td>\n",
              "      <td>0.050746</td>\n",
              "      <td>121.928157</td>\n",
              "      <td>4</td>\n",
              "      <td>0.741311</td>\n",
              "      <td>0</td>\n",
              "    </tr>\n",
              "  </tbody>\n",
              "</table>\n",
              "</div>\n",
              "      <button class=\"colab-df-convert\" onclick=\"convertToInteractive('df-32124265-5e8a-42b2-ae35-3bce4133a228')\"\n",
              "              title=\"Convert this dataframe to an interactive table.\"\n",
              "              style=\"display:none;\">\n",
              "        \n",
              "  <svg xmlns=\"http://www.w3.org/2000/svg\" height=\"24px\"viewBox=\"0 0 24 24\"\n",
              "       width=\"24px\">\n",
              "    <path d=\"M0 0h24v24H0V0z\" fill=\"none\"/>\n",
              "    <path d=\"M18.56 5.44l.94 2.06.94-2.06 2.06-.94-2.06-.94-.94-2.06-.94 2.06-2.06.94zm-11 1L8.5 8.5l.94-2.06 2.06-.94-2.06-.94L8.5 2.5l-.94 2.06-2.06.94zm10 10l.94 2.06.94-2.06 2.06-.94-2.06-.94-.94-2.06-.94 2.06-2.06.94z\"/><path d=\"M17.41 7.96l-1.37-1.37c-.4-.4-.92-.59-1.43-.59-.52 0-1.04.2-1.43.59L10.3 9.45l-7.72 7.72c-.78.78-.78 2.05 0 2.83L4 21.41c.39.39.9.59 1.41.59.51 0 1.02-.2 1.41-.59l7.78-7.78 2.81-2.81c.8-.78.8-2.07 0-2.86zM5.41 20L4 18.59l7.72-7.72 1.47 1.35L5.41 20z\"/>\n",
              "  </svg>\n",
              "      </button>\n",
              "      \n",
              "  <style>\n",
              "    .colab-df-container {\n",
              "      display:flex;\n",
              "      flex-wrap:wrap;\n",
              "      gap: 12px;\n",
              "    }\n",
              "\n",
              "    .colab-df-convert {\n",
              "      background-color: #E8F0FE;\n",
              "      border: none;\n",
              "      border-radius: 50%;\n",
              "      cursor: pointer;\n",
              "      display: none;\n",
              "      fill: #1967D2;\n",
              "      height: 32px;\n",
              "      padding: 0 0 0 0;\n",
              "      width: 32px;\n",
              "    }\n",
              "\n",
              "    .colab-df-convert:hover {\n",
              "      background-color: #E2EBFA;\n",
              "      box-shadow: 0px 1px 2px rgba(60, 64, 67, 0.3), 0px 1px 3px 1px rgba(60, 64, 67, 0.15);\n",
              "      fill: #174EA6;\n",
              "    }\n",
              "\n",
              "    [theme=dark] .colab-df-convert {\n",
              "      background-color: #3B4455;\n",
              "      fill: #D2E3FC;\n",
              "    }\n",
              "\n",
              "    [theme=dark] .colab-df-convert:hover {\n",
              "      background-color: #434B5C;\n",
              "      box-shadow: 0px 1px 3px 1px rgba(0, 0, 0, 0.15);\n",
              "      filter: drop-shadow(0px 1px 2px rgba(0, 0, 0, 0.3));\n",
              "      fill: #FFFFFF;\n",
              "    }\n",
              "  </style>\n",
              "\n",
              "      <script>\n",
              "        const buttonEl =\n",
              "          document.querySelector('#df-32124265-5e8a-42b2-ae35-3bce4133a228 button.colab-df-convert');\n",
              "        buttonEl.style.display =\n",
              "          google.colab.kernel.accessAllowed ? 'block' : 'none';\n",
              "\n",
              "        async function convertToInteractive(key) {\n",
              "          const element = document.querySelector('#df-32124265-5e8a-42b2-ae35-3bce4133a228');\n",
              "          const dataTable =\n",
              "            await google.colab.kernel.invokeFunction('convertToInteractive',\n",
              "                                                     [key], {});\n",
              "          if (!dataTable) return;\n",
              "\n",
              "          const docLinkHtml = 'Like what you see? Visit the ' +\n",
              "            '<a target=\"_blank\" href=https://colab.research.google.com/notebooks/data_table.ipynb>data table notebook</a>'\n",
              "            + ' to learn more about interactive tables.';\n",
              "          element.innerHTML = '';\n",
              "          dataTable['output_type'] = 'display_data';\n",
              "          await google.colab.output.renderOutput(dataTable, element);\n",
              "          const docLink = document.createElement('div');\n",
              "          docLink.innerHTML = docLinkHtml;\n",
              "          element.appendChild(docLink);\n",
              "        }\n",
              "      </script>\n",
              "    </div>\n",
              "  </div>\n",
              "  "
            ],
            "text/plain": [
              "   id  song_duration_ms  ...  audio_valence  song_popularity\n",
              "0   0          212990.0  ...       0.734642                0\n",
              "1   1               NaN  ...       0.711531                1\n",
              "2   2          193213.0  ...       0.425536                0\n",
              "3   3          249893.0  ...       0.453597                0\n",
              "4   4          165969.0  ...       0.741311                0\n",
              "\n",
              "[5 rows x 15 columns]"
            ]
          },
          "metadata": {},
          "execution_count": 5
        }
      ]
    },
    {
      "cell_type": "code",
      "source": [
        "song.info()"
      ],
      "metadata": {
        "colab": {
          "base_uri": "https://localhost:8080/"
        },
        "id": "_A0ci-RmUubl",
        "outputId": "f024b293-0436-4171-b3cc-f37de6d71add"
      },
      "execution_count": 6,
      "outputs": [
        {
          "output_type": "stream",
          "name": "stdout",
          "text": [
            "<class 'pandas.core.frame.DataFrame'>\n",
            "RangeIndex: 40000 entries, 0 to 39999\n",
            "Data columns (total 15 columns):\n",
            " #   Column            Non-Null Count  Dtype  \n",
            "---  ------            --------------  -----  \n",
            " 0   id                40000 non-null  int64  \n",
            " 1   song_duration_ms  35899 non-null  float64\n",
            " 2   acousticness      36008 non-null  float64\n",
            " 3   danceability      35974 non-null  float64\n",
            " 4   energy            36025 non-null  float64\n",
            " 5   instrumentalness  36015 non-null  float64\n",
            " 6   key               35935 non-null  float64\n",
            " 7   liveness          35914 non-null  float64\n",
            " 8   loudness          36043 non-null  float64\n",
            " 9   audio_mode        40000 non-null  int64  \n",
            " 10  speechiness       40000 non-null  float64\n",
            " 11  tempo             40000 non-null  float64\n",
            " 12  time_signature    40000 non-null  int64  \n",
            " 13  audio_valence     40000 non-null  float64\n",
            " 14  song_popularity   40000 non-null  int64  \n",
            "dtypes: float64(11), int64(4)\n",
            "memory usage: 4.6 MB\n"
          ]
        }
      ]
    },
    {
      "cell_type": "code",
      "source": [
        "song.describe()"
      ],
      "metadata": {
        "colab": {
          "base_uri": "https://localhost:8080/",
          "height": 364
        },
        "id": "rDJxIhuFU3Xn",
        "outputId": "c42a3328-148a-4cd1-d207-66e7c57f1124"
      },
      "execution_count": 7,
      "outputs": [
        {
          "output_type": "execute_result",
          "data": {
            "text/html": [
              "\n",
              "  <div id=\"df-c59b625f-0d1b-4385-b116-e9880dda1842\">\n",
              "    <div class=\"colab-df-container\">\n",
              "      <div>\n",
              "<style scoped>\n",
              "    .dataframe tbody tr th:only-of-type {\n",
              "        vertical-align: middle;\n",
              "    }\n",
              "\n",
              "    .dataframe tbody tr th {\n",
              "        vertical-align: top;\n",
              "    }\n",
              "\n",
              "    .dataframe thead th {\n",
              "        text-align: right;\n",
              "    }\n",
              "</style>\n",
              "<table border=\"1\" class=\"dataframe\">\n",
              "  <thead>\n",
              "    <tr style=\"text-align: right;\">\n",
              "      <th></th>\n",
              "      <th>id</th>\n",
              "      <th>song_duration_ms</th>\n",
              "      <th>acousticness</th>\n",
              "      <th>danceability</th>\n",
              "      <th>energy</th>\n",
              "      <th>instrumentalness</th>\n",
              "      <th>key</th>\n",
              "      <th>liveness</th>\n",
              "      <th>loudness</th>\n",
              "      <th>audio_mode</th>\n",
              "      <th>speechiness</th>\n",
              "      <th>tempo</th>\n",
              "      <th>time_signature</th>\n",
              "      <th>audio_valence</th>\n",
              "      <th>song_popularity</th>\n",
              "    </tr>\n",
              "  </thead>\n",
              "  <tbody>\n",
              "    <tr>\n",
              "      <th>count</th>\n",
              "      <td>40000.00000</td>\n",
              "      <td>35899.000000</td>\n",
              "      <td>36008.000000</td>\n",
              "      <td>35974.000000</td>\n",
              "      <td>36025.000000</td>\n",
              "      <td>36015.000000</td>\n",
              "      <td>35935.000000</td>\n",
              "      <td>35914.000000</td>\n",
              "      <td>36043.000000</td>\n",
              "      <td>40000.000000</td>\n",
              "      <td>40000.000000</td>\n",
              "      <td>40000.000000</td>\n",
              "      <td>40000.000000</td>\n",
              "      <td>40000.000000</td>\n",
              "      <td>40000.000000</td>\n",
              "    </tr>\n",
              "    <tr>\n",
              "      <th>mean</th>\n",
              "      <td>19999.50000</td>\n",
              "      <td>193165.847572</td>\n",
              "      <td>0.276404</td>\n",
              "      <td>0.570951</td>\n",
              "      <td>0.683932</td>\n",
              "      <td>0.036527</td>\n",
              "      <td>5.042605</td>\n",
              "      <td>0.198514</td>\n",
              "      <td>-7.407596</td>\n",
              "      <td>0.321150</td>\n",
              "      <td>0.094107</td>\n",
              "      <td>116.562815</td>\n",
              "      <td>3.394375</td>\n",
              "      <td>0.580645</td>\n",
              "      <td>0.364400</td>\n",
              "    </tr>\n",
              "    <tr>\n",
              "      <th>std</th>\n",
              "      <td>11547.14972</td>\n",
              "      <td>45822.127679</td>\n",
              "      <td>0.297928</td>\n",
              "      <td>0.190010</td>\n",
              "      <td>0.212662</td>\n",
              "      <td>0.150024</td>\n",
              "      <td>3.372728</td>\n",
              "      <td>0.151670</td>\n",
              "      <td>3.877198</td>\n",
              "      <td>0.466924</td>\n",
              "      <td>0.083591</td>\n",
              "      <td>26.167911</td>\n",
              "      <td>0.524405</td>\n",
              "      <td>0.237351</td>\n",
              "      <td>0.481268</td>\n",
              "    </tr>\n",
              "    <tr>\n",
              "      <th>min</th>\n",
              "      <td>0.00000</td>\n",
              "      <td>25658.000000</td>\n",
              "      <td>-0.013551</td>\n",
              "      <td>0.043961</td>\n",
              "      <td>-0.001682</td>\n",
              "      <td>-0.004398</td>\n",
              "      <td>0.000000</td>\n",
              "      <td>0.027843</td>\n",
              "      <td>-32.117911</td>\n",
              "      <td>0.000000</td>\n",
              "      <td>0.015065</td>\n",
              "      <td>62.055779</td>\n",
              "      <td>2.000000</td>\n",
              "      <td>0.013398</td>\n",
              "      <td>0.000000</td>\n",
              "    </tr>\n",
              "    <tr>\n",
              "      <th>25%</th>\n",
              "      <td>9999.75000</td>\n",
              "      <td>166254.500000</td>\n",
              "      <td>0.039618</td>\n",
              "      <td>0.424760</td>\n",
              "      <td>0.539276</td>\n",
              "      <td>0.000941</td>\n",
              "      <td>2.000000</td>\n",
              "      <td>0.111796</td>\n",
              "      <td>-9.578139</td>\n",
              "      <td>0.000000</td>\n",
              "      <td>0.038500</td>\n",
              "      <td>96.995309</td>\n",
              "      <td>3.000000</td>\n",
              "      <td>0.398669</td>\n",
              "      <td>0.000000</td>\n",
              "    </tr>\n",
              "    <tr>\n",
              "      <th>50%</th>\n",
              "      <td>19999.50000</td>\n",
              "      <td>186660.000000</td>\n",
              "      <td>0.140532</td>\n",
              "      <td>0.608234</td>\n",
              "      <td>0.704453</td>\n",
              "      <td>0.001974</td>\n",
              "      <td>5.000000</td>\n",
              "      <td>0.135945</td>\n",
              "      <td>-6.345413</td>\n",
              "      <td>0.000000</td>\n",
              "      <td>0.055881</td>\n",
              "      <td>113.795959</td>\n",
              "      <td>3.000000</td>\n",
              "      <td>0.598827</td>\n",
              "      <td>0.000000</td>\n",
              "    </tr>\n",
              "    <tr>\n",
              "      <th>75%</th>\n",
              "      <td>29999.25000</td>\n",
              "      <td>215116.000000</td>\n",
              "      <td>0.482499</td>\n",
              "      <td>0.718464</td>\n",
              "      <td>0.870503</td>\n",
              "      <td>0.003225</td>\n",
              "      <td>8.000000</td>\n",
              "      <td>0.212842</td>\n",
              "      <td>-4.620711</td>\n",
              "      <td>1.000000</td>\n",
              "      <td>0.118842</td>\n",
              "      <td>128.517383</td>\n",
              "      <td>4.000000</td>\n",
              "      <td>0.759635</td>\n",
              "      <td>1.000000</td>\n",
              "    </tr>\n",
              "    <tr>\n",
              "      <th>max</th>\n",
              "      <td>39999.00000</td>\n",
              "      <td>491671.000000</td>\n",
              "      <td>1.065284</td>\n",
              "      <td>0.957131</td>\n",
              "      <td>1.039741</td>\n",
              "      <td>1.075415</td>\n",
              "      <td>11.000000</td>\n",
              "      <td>1.065298</td>\n",
              "      <td>-0.877346</td>\n",
              "      <td>1.000000</td>\n",
              "      <td>0.560748</td>\n",
              "      <td>219.163578</td>\n",
              "      <td>5.000000</td>\n",
              "      <td>1.022558</td>\n",
              "      <td>1.000000</td>\n",
              "    </tr>\n",
              "  </tbody>\n",
              "</table>\n",
              "</div>\n",
              "      <button class=\"colab-df-convert\" onclick=\"convertToInteractive('df-c59b625f-0d1b-4385-b116-e9880dda1842')\"\n",
              "              title=\"Convert this dataframe to an interactive table.\"\n",
              "              style=\"display:none;\">\n",
              "        \n",
              "  <svg xmlns=\"http://www.w3.org/2000/svg\" height=\"24px\"viewBox=\"0 0 24 24\"\n",
              "       width=\"24px\">\n",
              "    <path d=\"M0 0h24v24H0V0z\" fill=\"none\"/>\n",
              "    <path d=\"M18.56 5.44l.94 2.06.94-2.06 2.06-.94-2.06-.94-.94-2.06-.94 2.06-2.06.94zm-11 1L8.5 8.5l.94-2.06 2.06-.94-2.06-.94L8.5 2.5l-.94 2.06-2.06.94zm10 10l.94 2.06.94-2.06 2.06-.94-2.06-.94-.94-2.06-.94 2.06-2.06.94z\"/><path d=\"M17.41 7.96l-1.37-1.37c-.4-.4-.92-.59-1.43-.59-.52 0-1.04.2-1.43.59L10.3 9.45l-7.72 7.72c-.78.78-.78 2.05 0 2.83L4 21.41c.39.39.9.59 1.41.59.51 0 1.02-.2 1.41-.59l7.78-7.78 2.81-2.81c.8-.78.8-2.07 0-2.86zM5.41 20L4 18.59l7.72-7.72 1.47 1.35L5.41 20z\"/>\n",
              "  </svg>\n",
              "      </button>\n",
              "      \n",
              "  <style>\n",
              "    .colab-df-container {\n",
              "      display:flex;\n",
              "      flex-wrap:wrap;\n",
              "      gap: 12px;\n",
              "    }\n",
              "\n",
              "    .colab-df-convert {\n",
              "      background-color: #E8F0FE;\n",
              "      border: none;\n",
              "      border-radius: 50%;\n",
              "      cursor: pointer;\n",
              "      display: none;\n",
              "      fill: #1967D2;\n",
              "      height: 32px;\n",
              "      padding: 0 0 0 0;\n",
              "      width: 32px;\n",
              "    }\n",
              "\n",
              "    .colab-df-convert:hover {\n",
              "      background-color: #E2EBFA;\n",
              "      box-shadow: 0px 1px 2px rgba(60, 64, 67, 0.3), 0px 1px 3px 1px rgba(60, 64, 67, 0.15);\n",
              "      fill: #174EA6;\n",
              "    }\n",
              "\n",
              "    [theme=dark] .colab-df-convert {\n",
              "      background-color: #3B4455;\n",
              "      fill: #D2E3FC;\n",
              "    }\n",
              "\n",
              "    [theme=dark] .colab-df-convert:hover {\n",
              "      background-color: #434B5C;\n",
              "      box-shadow: 0px 1px 3px 1px rgba(0, 0, 0, 0.15);\n",
              "      filter: drop-shadow(0px 1px 2px rgba(0, 0, 0, 0.3));\n",
              "      fill: #FFFFFF;\n",
              "    }\n",
              "  </style>\n",
              "\n",
              "      <script>\n",
              "        const buttonEl =\n",
              "          document.querySelector('#df-c59b625f-0d1b-4385-b116-e9880dda1842 button.colab-df-convert');\n",
              "        buttonEl.style.display =\n",
              "          google.colab.kernel.accessAllowed ? 'block' : 'none';\n",
              "\n",
              "        async function convertToInteractive(key) {\n",
              "          const element = document.querySelector('#df-c59b625f-0d1b-4385-b116-e9880dda1842');\n",
              "          const dataTable =\n",
              "            await google.colab.kernel.invokeFunction('convertToInteractive',\n",
              "                                                     [key], {});\n",
              "          if (!dataTable) return;\n",
              "\n",
              "          const docLinkHtml = 'Like what you see? Visit the ' +\n",
              "            '<a target=\"_blank\" href=https://colab.research.google.com/notebooks/data_table.ipynb>data table notebook</a>'\n",
              "            + ' to learn more about interactive tables.';\n",
              "          element.innerHTML = '';\n",
              "          dataTable['output_type'] = 'display_data';\n",
              "          await google.colab.output.renderOutput(dataTable, element);\n",
              "          const docLink = document.createElement('div');\n",
              "          docLink.innerHTML = docLinkHtml;\n",
              "          element.appendChild(docLink);\n",
              "        }\n",
              "      </script>\n",
              "    </div>\n",
              "  </div>\n",
              "  "
            ],
            "text/plain": [
              "                id  song_duration_ms  ...  audio_valence  song_popularity\n",
              "count  40000.00000      35899.000000  ...   40000.000000     40000.000000\n",
              "mean   19999.50000     193165.847572  ...       0.580645         0.364400\n",
              "std    11547.14972      45822.127679  ...       0.237351         0.481268\n",
              "min        0.00000      25658.000000  ...       0.013398         0.000000\n",
              "25%     9999.75000     166254.500000  ...       0.398669         0.000000\n",
              "50%    19999.50000     186660.000000  ...       0.598827         0.000000\n",
              "75%    29999.25000     215116.000000  ...       0.759635         1.000000\n",
              "max    39999.00000     491671.000000  ...       1.022558         1.000000\n",
              "\n",
              "[8 rows x 15 columns]"
            ]
          },
          "metadata": {},
          "execution_count": 7
        }
      ]
    },
    {
      "cell_type": "markdown",
      "source": [
        "###Missing values\n",
        "\n",
        "Number of nans values in the data are pretty much the same. Percentage of the missing data is around 10% per feature with missing values. \n",
        "\n",
        "---\n",
        "**Replacing or dropping then?**\n",
        "\n",
        "Replace with median/mean\n",
        "* song_duration_ms - replace nan with \n",
        "\n",
        "Replace with median\n",
        "* acoustiness"
      ],
      "metadata": {
        "id": "vZMmxPdco5E2"
      }
    },
    {
      "cell_type": "code",
      "source": [
        "nans = song.isnull().sum().sort_values(ascending=False)"
      ],
      "metadata": {
        "id": "VycI6JSaJRfM"
      },
      "execution_count": 8,
      "outputs": []
    },
    {
      "cell_type": "code",
      "source": [
        "nans = nans[nans > 0]"
      ],
      "metadata": {
        "id": "1ArhgvkwLITt"
      },
      "execution_count": 9,
      "outputs": []
    },
    {
      "cell_type": "code",
      "source": [
        "print(nans)"
      ],
      "metadata": {
        "colab": {
          "base_uri": "https://localhost:8080/"
        },
        "id": "-8fb3knoMO_9",
        "outputId": "9e37dcc1-cf18-456a-fc90-9194e816be95"
      },
      "execution_count": 10,
      "outputs": [
        {
          "output_type": "stream",
          "name": "stdout",
          "text": [
            "song_duration_ms    4101\n",
            "liveness            4086\n",
            "key                 4065\n",
            "danceability        4026\n",
            "acousticness        3992\n",
            "instrumentalness    3985\n",
            "energy              3975\n",
            "loudness            3957\n",
            "dtype: int64\n"
          ]
        }
      ]
    },
    {
      "cell_type": "code",
      "source": [
        "nans.plot(kind='bar')"
      ],
      "metadata": {
        "colab": {
          "base_uri": "https://localhost:8080/",
          "height": 382
        },
        "id": "lxqFbzVGLShy",
        "outputId": "61daacfe-378d-434a-8ac4-539bd9dbec32"
      },
      "execution_count": 11,
      "outputs": [
        {
          "output_type": "execute_result",
          "data": {
            "text/plain": [
              "<matplotlib.axes._subplots.AxesSubplot at 0x7f6a674d0050>"
            ]
          },
          "metadata": {},
          "execution_count": 11
        },
        {
          "output_type": "display_data",
          "data": {
            "image/png": "[encoded data removed]",
            "text/plain": [
              "<Figure size 432x288 with 1 Axes>"
            ]
          },
          "metadata": {
            "needs_background": "light"
          }
        }
      ]
    },
    {
      "cell_type": "markdown",
      "source": [
        "###Data visualization"
      ],
      "metadata": {
        "id": "AkwEHWv_M-qb"
      }
    },
    {
      "cell_type": "code",
      "source": [
        "song_copy = song.copy() #Creating copy of the data"
      ],
      "metadata": {
        "id": "_aCE9_24N0U1"
      },
      "execution_count": 12,
      "outputs": []
    },
    {
      "cell_type": "code",
      "source": [
        "song_copy = song_copy.drop(['id', 'song_popularity'], axis=1) #Dropping id and target columns"
      ],
      "metadata": {
        "id": "DlbMooXEN4fx"
      },
      "execution_count": 13,
      "outputs": []
    },
    {
      "cell_type": "code",
      "source": [
        "song_copy.hist(figsize=(30,15)) #Plotting histograms to the check distribution"
      ],
      "metadata": {
        "colab": {
          "base_uri": "https://localhost:8080/",
          "height": 1000
        },
        "id": "NE0wyLzGNCx-",
        "outputId": "b380f599-33b9-4ec2-b8c6-118ccb0c4409"
      },
      "execution_count": 14,
      "outputs": [
        {
          "output_type": "execute_result",
          "data": {
            "text/plain": [
              "array([[<matplotlib.axes._subplots.AxesSubplot object at 0x7f6a50a580d0>,\n",
              "        <matplotlib.axes._subplots.AxesSubplot object at 0x7f6a50519a10>,\n",
              "        <matplotlib.axes._subplots.AxesSubplot object at 0x7f6a50550fd0>,\n",
              "        <matplotlib.axes._subplots.AxesSubplot object at 0x7f6a50493650>],\n",
              "       [<matplotlib.axes._subplots.AxesSubplot object at 0x7f6a504c6c50>,\n",
              "        <matplotlib.axes._subplots.AxesSubplot object at 0x7f6a5048a290>,\n",
              "        <matplotlib.axes._subplots.AxesSubplot object at 0x7f6a50440910>,\n",
              "        <matplotlib.axes._subplots.AxesSubplot object at 0x7f6a503f6e50>],\n",
              "       [<matplotlib.axes._subplots.AxesSubplot object at 0x7f6a503f6e90>,\n",
              "        <matplotlib.axes._subplots.AxesSubplot object at 0x7f6a503b95d0>,\n",
              "        <matplotlib.axes._subplots.AxesSubplot object at 0x7f6a50332110>,\n",
              "        <matplotlib.axes._subplots.AxesSubplot object at 0x7f6a502e7710>],\n",
              "       [<matplotlib.axes._subplots.AxesSubplot object at 0x7f6a5029ed10>,\n",
              "        <matplotlib.axes._subplots.AxesSubplot object at 0x7f6a50261350>,\n",
              "        <matplotlib.axes._subplots.AxesSubplot object at 0x7f6a50215950>,\n",
              "        <matplotlib.axes._subplots.AxesSubplot object at 0x7f6a5024df50>]],\n",
              "      dtype=object)"
            ]
          },
          "metadata": {},
          "execution_count": 14
        },
        {
          "output_type": "display_data",
          "data": {
            "image/png": "[encoded data removed]",
            "text/plain": [
              "<Figure size 2160x1080 with 16 Axes>"
            ]
          },
          "metadata": {
            "needs_background": "light"
          }
        }
      ]
    },
    {
      "cell_type": "markdown",
      "source": [
        "Candidates for transformations: \n",
        "\n",
        "Normal ditibuted: song_duration\n",
        "\n"
      ],
      "metadata": {
        "id": "NCmcU9gsOudH"
      }
    },
    {
      "cell_type": "markdown",
      "source": [
        "####Discrete variables plots"
      ],
      "metadata": {
        "id": "nvsazXRRaQ28"
      }
    },
    {
      "cell_type": "code",
      "source": [
        "#Checking out unique values in discrete variables\n",
        "num_categorical = ['audio_mode', 'time_signature']\n",
        "for i in num_categorical:\n",
        "  print(i, song[i].unique())"
      ],
      "metadata": {
        "colab": {
          "base_uri": "https://localhost:8080/"
        },
        "id": "I5a9BrZ-T6ZG",
        "outputId": "0663c451-c674-4792-84c6-f1c42a4ac42b"
      },
      "execution_count": 15,
      "outputs": [
        {
          "output_type": "stream",
          "name": "stdout",
          "text": [
            "audio_mode [0 1]\n",
            "time_signature [4 3 2 5]\n"
          ]
        }
      ]
    },
    {
      "cell_type": "code",
      "source": [
        "#Plotting discrete variables\n",
        "fig, ax = plt.subplots(1,2, figsize=(15, 10))\n",
        "sns.countplot(song['audio_mode'], ax=ax[0])\n",
        "sns.countplot(song['time_signature'], ax=ax[1])\n",
        "\n"
      ],
      "metadata": {
        "colab": {
          "base_uri": "https://localhost:8080/",
          "height": 630
        },
        "id": "bDu-wR95U5ap",
        "outputId": "eed09c09-a59c-4912-b709-410bef1751c9"
      },
      "execution_count": 27,
      "outputs": [
        {
          "output_type": "execute_result",
          "data": {
            "text/plain": [
              "<matplotlib.axes._subplots.AxesSubplot at 0x7f6a50a24610>"
            ]
          },
          "metadata": {},
          "execution_count": 27
        },
        {
          "output_type": "display_data",
          "data": {
            "image/png": "[encoded data removed]",
            "text/plain": [
              "<Figure size 1080x720 with 2 Axes>"
            ]
          },
          "metadata": {
            "needs_background": "light"
          }
        }
      ]
    },
    {
      "cell_type": "markdown",
      "source": [
        "####Target variable plot\n",
        "\n",
        "It seems that we'are dealing with imbalanced, maybe some balancing should be in order. "
      ],
      "metadata": {
        "id": "-l7zmpmlPtrT"
      }
    },
    {
      "cell_type": "code",
      "source": [
        "fig, ax = plt.subplots(figsize=(15,10))\n",
        "sns.countplot(data=song, x='song_popularity')"
      ],
      "metadata": {
        "colab": {
          "base_uri": "https://localhost:8080/",
          "height": 630
        },
        "id": "BDSA4opePPS9",
        "outputId": "cffc52a7-411f-4bbb-e6a9-f41224b78839"
      },
      "execution_count": 28,
      "outputs": [
        {
          "output_type": "execute_result",
          "data": {
            "text/plain": [
              "<matplotlib.axes._subplots.AxesSubplot at 0x7f6a4e541cd0>"
            ]
          },
          "metadata": {},
          "execution_count": 28
        },
        {
          "output_type": "display_data",
          "data": {
            "image/png": "[encoded data removed]",
            "text/plain": [
              "<Figure size 1080x720 with 1 Axes>"
            ]
          },
          "metadata": {
            "needs_background": "light"
          }
        }
      ]
    },
    {
      "cell_type": "markdown",
      "source": [
        "###Correlations"
      ],
      "metadata": {
        "id": "TabGA4t-Qagi"
      }
    },
    {
      "cell_type": "code",
      "source": [
        "corr_matrix = song.corr()"
      ],
      "metadata": {
        "id": "LyZMgQ2YQcUt"
      },
      "execution_count": 29,
      "outputs": []
    },
    {
      "cell_type": "code",
      "source": [
        "corr_matrix"
      ],
      "metadata": {
        "colab": {
          "base_uri": "https://localhost:8080/",
          "height": 584
        },
        "id": "eK7JZBtzSA_i",
        "outputId": "4e3fc7f4-8c2c-4053-bb77-5a6f30acd7ed"
      },
      "execution_count": 30,
      "outputs": [
        {
          "output_type": "execute_result",
          "data": {
            "text/html": [
              "\n",
              "  <div id=\"df-09864d3e-6111-4c30-8304-e5e485278f60\">\n",
              "    <div class=\"colab-df-container\">\n",
              "      <div>\n",
              "<style scoped>\n",
              "    .dataframe tbody tr th:only-of-type {\n",
              "        vertical-align: middle;\n",
              "    }\n",
              "\n",
              "    .dataframe tbody tr th {\n",
              "        vertical-align: top;\n",
              "    }\n",
              "\n",
              "    .dataframe thead th {\n",
              "        text-align: right;\n",
              "    }\n",
              "</style>\n",
              "<table border=\"1\" class=\"dataframe\">\n",
              "  <thead>\n",
              "    <tr style=\"text-align: right;\">\n",
              "      <th></th>\n",
              "      <th>id</th>\n",
              "      <th>song_duration_ms</th>\n",
              "      <th>acousticness</th>\n",
              "      <th>danceability</th>\n",
              "      <th>energy</th>\n",
              "      <th>instrumentalness</th>\n",
              "      <th>key</th>\n",
              "      <th>liveness</th>\n",
              "      <th>loudness</th>\n",
              "      <th>audio_mode</th>\n",
              "      <th>speechiness</th>\n",
              "      <th>tempo</th>\n",
              "      <th>time_signature</th>\n",
              "      <th>audio_valence</th>\n",
              "      <th>song_popularity</th>\n",
              "    </tr>\n",
              "  </thead>\n",
              "  <tbody>\n",
              "    <tr>\n",
              "      <th>id</th>\n",
              "      <td>1.000000</td>\n",
              "      <td>-0.004428</td>\n",
              "      <td>-0.002733</td>\n",
              "      <td>-0.003237</td>\n",
              "      <td>0.000051</td>\n",
              "      <td>0.001087</td>\n",
              "      <td>-0.001492</td>\n",
              "      <td>-0.004756</td>\n",
              "      <td>0.005135</td>\n",
              "      <td>0.002538</td>\n",
              "      <td>0.002792</td>\n",
              "      <td>-0.001297</td>\n",
              "      <td>-0.002199</td>\n",
              "      <td>-0.001016</td>\n",
              "      <td>-0.003074</td>\n",
              "    </tr>\n",
              "    <tr>\n",
              "      <th>song_duration_ms</th>\n",
              "      <td>-0.004428</td>\n",
              "      <td>1.000000</td>\n",
              "      <td>-0.166443</td>\n",
              "      <td>-0.061929</td>\n",
              "      <td>0.148531</td>\n",
              "      <td>-0.024337</td>\n",
              "      <td>0.019354</td>\n",
              "      <td>0.033009</td>\n",
              "      <td>0.152954</td>\n",
              "      <td>-0.017211</td>\n",
              "      <td>-0.001236</td>\n",
              "      <td>0.085490</td>\n",
              "      <td>0.021609</td>\n",
              "      <td>-0.006948</td>\n",
              "      <td>-0.003960</td>\n",
              "    </tr>\n",
              "    <tr>\n",
              "      <th>acousticness</th>\n",
              "      <td>-0.002733</td>\n",
              "      <td>-0.166443</td>\n",
              "      <td>1.000000</td>\n",
              "      <td>-0.093737</td>\n",
              "      <td>-0.570177</td>\n",
              "      <td>0.072516</td>\n",
              "      <td>-0.186663</td>\n",
              "      <td>-0.124704</td>\n",
              "      <td>-0.532724</td>\n",
              "      <td>0.066973</td>\n",
              "      <td>-0.130244</td>\n",
              "      <td>-0.190964</td>\n",
              "      <td>-0.205307</td>\n",
              "      <td>-0.250310</td>\n",
              "      <td>0.025298</td>\n",
              "    </tr>\n",
              "    <tr>\n",
              "      <th>danceability</th>\n",
              "      <td>-0.003237</td>\n",
              "      <td>-0.061929</td>\n",
              "      <td>-0.093737</td>\n",
              "      <td>1.000000</td>\n",
              "      <td>0.099933</td>\n",
              "      <td>-0.146447</td>\n",
              "      <td>0.120514</td>\n",
              "      <td>0.045400</td>\n",
              "      <td>0.200148</td>\n",
              "      <td>0.030289</td>\n",
              "      <td>0.177937</td>\n",
              "      <td>-0.089887</td>\n",
              "      <td>0.016455</td>\n",
              "      <td>0.384496</td>\n",
              "      <td>0.017572</td>\n",
              "    </tr>\n",
              "    <tr>\n",
              "      <th>energy</th>\n",
              "      <td>0.000051</td>\n",
              "      <td>0.148531</td>\n",
              "      <td>-0.570177</td>\n",
              "      <td>0.099933</td>\n",
              "      <td>1.000000</td>\n",
              "      <td>-0.120338</td>\n",
              "      <td>0.210176</td>\n",
              "      <td>0.154907</td>\n",
              "      <td>0.643931</td>\n",
              "      <td>-0.094916</td>\n",
              "      <td>0.120053</td>\n",
              "      <td>0.225465</td>\n",
              "      <td>0.238722</td>\n",
              "      <td>0.324626</td>\n",
              "      <td>-0.054640</td>\n",
              "    </tr>\n",
              "    <tr>\n",
              "      <th>instrumentalness</th>\n",
              "      <td>0.001087</td>\n",
              "      <td>-0.024337</td>\n",
              "      <td>0.072516</td>\n",
              "      <td>-0.146447</td>\n",
              "      <td>-0.120338</td>\n",
              "      <td>1.000000</td>\n",
              "      <td>-0.054726</td>\n",
              "      <td>-0.033445</td>\n",
              "      <td>-0.181889</td>\n",
              "      <td>-0.003617</td>\n",
              "      <td>-0.053209</td>\n",
              "      <td>-0.010350</td>\n",
              "      <td>-0.047397</td>\n",
              "      <td>-0.157760</td>\n",
              "      <td>-0.009511</td>\n",
              "    </tr>\n",
              "    <tr>\n",
              "      <th>key</th>\n",
              "      <td>-0.001492</td>\n",
              "      <td>0.019354</td>\n",
              "      <td>-0.186663</td>\n",
              "      <td>0.120514</td>\n",
              "      <td>0.210176</td>\n",
              "      <td>-0.054726</td>\n",
              "      <td>1.000000</td>\n",
              "      <td>0.077046</td>\n",
              "      <td>0.201509</td>\n",
              "      <td>-0.036252</td>\n",
              "      <td>0.102993</td>\n",
              "      <td>0.053206</td>\n",
              "      <td>0.094144</td>\n",
              "      <td>0.132194</td>\n",
              "      <td>0.017808</td>\n",
              "    </tr>\n",
              "    <tr>\n",
              "      <th>liveness</th>\n",
              "      <td>-0.004756</td>\n",
              "      <td>0.033009</td>\n",
              "      <td>-0.124704</td>\n",
              "      <td>0.045400</td>\n",
              "      <td>0.154907</td>\n",
              "      <td>-0.033445</td>\n",
              "      <td>0.077046</td>\n",
              "      <td>1.000000</td>\n",
              "      <td>0.146551</td>\n",
              "      <td>-0.013281</td>\n",
              "      <td>0.076612</td>\n",
              "      <td>0.064425</td>\n",
              "      <td>0.037766</td>\n",
              "      <td>0.084770</td>\n",
              "      <td>0.016571</td>\n",
              "    </tr>\n",
              "    <tr>\n",
              "      <th>loudness</th>\n",
              "      <td>0.005135</td>\n",
              "      <td>0.152954</td>\n",
              "      <td>-0.532724</td>\n",
              "      <td>0.200148</td>\n",
              "      <td>0.643931</td>\n",
              "      <td>-0.181889</td>\n",
              "      <td>0.201509</td>\n",
              "      <td>0.146551</td>\n",
              "      <td>1.000000</td>\n",
              "      <td>-0.076893</td>\n",
              "      <td>0.157550</td>\n",
              "      <td>0.173979</td>\n",
              "      <td>0.245403</td>\n",
              "      <td>0.356330</td>\n",
              "      <td>-0.040662</td>\n",
              "    </tr>\n",
              "    <tr>\n",
              "      <th>audio_mode</th>\n",
              "      <td>0.002538</td>\n",
              "      <td>-0.017211</td>\n",
              "      <td>0.066973</td>\n",
              "      <td>0.030289</td>\n",
              "      <td>-0.094916</td>\n",
              "      <td>-0.003617</td>\n",
              "      <td>-0.036252</td>\n",
              "      <td>-0.013281</td>\n",
              "      <td>-0.076893</td>\n",
              "      <td>1.000000</td>\n",
              "      <td>0.019790</td>\n",
              "      <td>-0.023202</td>\n",
              "      <td>-0.043714</td>\n",
              "      <td>-0.015683</td>\n",
              "      <td>-0.001455</td>\n",
              "    </tr>\n",
              "    <tr>\n",
              "      <th>speechiness</th>\n",
              "      <td>0.002792</td>\n",
              "      <td>-0.001236</td>\n",
              "      <td>-0.130244</td>\n",
              "      <td>0.177937</td>\n",
              "      <td>0.120053</td>\n",
              "      <td>-0.053209</td>\n",
              "      <td>0.102993</td>\n",
              "      <td>0.076612</td>\n",
              "      <td>0.157550</td>\n",
              "      <td>0.019790</td>\n",
              "      <td>1.000000</td>\n",
              "      <td>0.036192</td>\n",
              "      <td>0.035013</td>\n",
              "      <td>0.112558</td>\n",
              "      <td>0.024230</td>\n",
              "    </tr>\n",
              "    <tr>\n",
              "      <th>tempo</th>\n",
              "      <td>-0.001297</td>\n",
              "      <td>0.085490</td>\n",
              "      <td>-0.190964</td>\n",
              "      <td>-0.089887</td>\n",
              "      <td>0.225465</td>\n",
              "      <td>-0.010350</td>\n",
              "      <td>0.053206</td>\n",
              "      <td>0.064425</td>\n",
              "      <td>0.173979</td>\n",
              "      <td>-0.023202</td>\n",
              "      <td>0.036192</td>\n",
              "      <td>1.000000</td>\n",
              "      <td>0.084836</td>\n",
              "      <td>0.025843</td>\n",
              "      <td>-0.011800</td>\n",
              "    </tr>\n",
              "    <tr>\n",
              "      <th>time_signature</th>\n",
              "      <td>-0.002199</td>\n",
              "      <td>0.021609</td>\n",
              "      <td>-0.205307</td>\n",
              "      <td>0.016455</td>\n",
              "      <td>0.238722</td>\n",
              "      <td>-0.047397</td>\n",
              "      <td>0.094144</td>\n",
              "      <td>0.037766</td>\n",
              "      <td>0.245403</td>\n",
              "      <td>-0.043714</td>\n",
              "      <td>0.035013</td>\n",
              "      <td>0.084836</td>\n",
              "      <td>1.000000</td>\n",
              "      <td>0.164075</td>\n",
              "      <td>-0.014701</td>\n",
              "    </tr>\n",
              "    <tr>\n",
              "      <th>audio_valence</th>\n",
              "      <td>-0.001016</td>\n",
              "      <td>-0.006948</td>\n",
              "      <td>-0.250310</td>\n",
              "      <td>0.384496</td>\n",
              "      <td>0.324626</td>\n",
              "      <td>-0.157760</td>\n",
              "      <td>0.132194</td>\n",
              "      <td>0.084770</td>\n",
              "      <td>0.356330</td>\n",
              "      <td>-0.015683</td>\n",
              "      <td>0.112558</td>\n",
              "      <td>0.025843</td>\n",
              "      <td>0.164075</td>\n",
              "      <td>1.000000</td>\n",
              "      <td>-0.045530</td>\n",
              "    </tr>\n",
              "    <tr>\n",
              "      <th>song_popularity</th>\n",
              "      <td>-0.003074</td>\n",
              "      <td>-0.003960</td>\n",
              "      <td>0.025298</td>\n",
              "      <td>0.017572</td>\n",
              "      <td>-0.054640</td>\n",
              "      <td>-0.009511</td>\n",
              "      <td>0.017808</td>\n",
              "      <td>0.016571</td>\n",
              "      <td>-0.040662</td>\n",
              "      <td>-0.001455</td>\n",
              "      <td>0.024230</td>\n",
              "      <td>-0.011800</td>\n",
              "      <td>-0.014701</td>\n",
              "      <td>-0.045530</td>\n",
              "      <td>1.000000</td>\n",
              "    </tr>\n",
              "  </tbody>\n",
              "</table>\n",
              "</div>\n",
              "      <button class=\"colab-df-convert\" onclick=\"convertToInteractive('df-09864d3e-6111-4c30-8304-e5e485278f60')\"\n",
              "              title=\"Convert this dataframe to an interactive table.\"\n",
              "              style=\"display:none;\">\n",
              "        \n",
              "  <svg xmlns=\"http://www.w3.org/2000/svg\" height=\"24px\"viewBox=\"0 0 24 24\"\n",
              "       width=\"24px\">\n",
              "    <path d=\"M0 0h24v24H0V0z\" fill=\"none\"/>\n",
              "    <path d=\"M18.56 5.44l.94 2.06.94-2.06 2.06-.94-2.06-.94-.94-2.06-.94 2.06-2.06.94zm-11 1L8.5 8.5l.94-2.06 2.06-.94-2.06-.94L8.5 2.5l-.94 2.06-2.06.94zm10 10l.94 2.06.94-2.06 2.06-.94-2.06-.94-.94-2.06-.94 2.06-2.06.94z\"/><path d=\"M17.41 7.96l-1.37-1.37c-.4-.4-.92-.59-1.43-.59-.52 0-1.04.2-1.43.59L10.3 9.45l-7.72 7.72c-.78.78-.78 2.05 0 2.83L4 21.41c.39.39.9.59 1.41.59.51 0 1.02-.2 1.41-.59l7.78-7.78 2.81-2.81c.8-.78.8-2.07 0-2.86zM5.41 20L4 18.59l7.72-7.72 1.47 1.35L5.41 20z\"/>\n",
              "  </svg>\n",
              "      </button>\n",
              "      \n",
              "  <style>\n",
              "    .colab-df-container {\n",
              "      display:flex;\n",
              "      flex-wrap:wrap;\n",
              "      gap: 12px;\n",
              "    }\n",
              "\n",
              "    .colab-df-convert {\n",
              "      background-color: #E8F0FE;\n",
              "      border: none;\n",
              "      border-radius: 50%;\n",
              "      cursor: pointer;\n",
              "      display: none;\n",
              "      fill: #1967D2;\n",
              "      height: 32px;\n",
              "      padding: 0 0 0 0;\n",
              "      width: 32px;\n",
              "    }\n",
              "\n",
              "    .colab-df-convert:hover {\n",
              "      background-color: #E2EBFA;\n",
              "      box-shadow: 0px 1px 2px rgba(60, 64, 67, 0.3), 0px 1px 3px 1px rgba(60, 64, 67, 0.15);\n",
              "      fill: #174EA6;\n",
              "    }\n",
              "\n",
              "    [theme=dark] .colab-df-convert {\n",
              "      background-color: #3B4455;\n",
              "      fill: #D2E3FC;\n",
              "    }\n",
              "\n",
              "    [theme=dark] .colab-df-convert:hover {\n",
              "      background-color: #434B5C;\n",
              "      box-shadow: 0px 1px 3px 1px rgba(0, 0, 0, 0.15);\n",
              "      filter: drop-shadow(0px 1px 2px rgba(0, 0, 0, 0.3));\n",
              "      fill: #FFFFFF;\n",
              "    }\n",
              "  </style>\n",
              "\n",
              "      <script>\n",
              "        const buttonEl =\n",
              "          document.querySelector('#df-09864d3e-6111-4c30-8304-e5e485278f60 button.colab-df-convert');\n",
              "        buttonEl.style.display =\n",
              "          google.colab.kernel.accessAllowed ? 'block' : 'none';\n",
              "\n",
              "        async function convertToInteractive(key) {\n",
              "          const element = document.querySelector('#df-09864d3e-6111-4c30-8304-e5e485278f60');\n",
              "          const dataTable =\n",
              "            await google.colab.kernel.invokeFunction('convertToInteractive',\n",
              "                                                     [key], {});\n",
              "          if (!dataTable) return;\n",
              "\n",
              "          const docLinkHtml = 'Like what you see? Visit the ' +\n",
              "            '<a target=\"_blank\" href=https://colab.research.google.com/notebooks/data_table.ipynb>data table notebook</a>'\n",
              "            + ' to learn more about interactive tables.';\n",
              "          element.innerHTML = '';\n",
              "          dataTable['output_type'] = 'display_data';\n",
              "          await google.colab.output.renderOutput(dataTable, element);\n",
              "          const docLink = document.createElement('div');\n",
              "          docLink.innerHTML = docLinkHtml;\n",
              "          element.appendChild(docLink);\n",
              "        }\n",
              "      </script>\n",
              "    </div>\n",
              "  </div>\n",
              "  "
            ],
            "text/plain": [
              "                        id  song_duration_ms  ...  audio_valence  song_popularity\n",
              "id                1.000000         -0.004428  ...      -0.001016        -0.003074\n",
              "song_duration_ms -0.004428          1.000000  ...      -0.006948        -0.003960\n",
              "acousticness     -0.002733         -0.166443  ...      -0.250310         0.025298\n",
              "danceability     -0.003237         -0.061929  ...       0.384496         0.017572\n",
              "energy            0.000051          0.148531  ...       0.324626        -0.054640\n",
              "instrumentalness  0.001087         -0.024337  ...      -0.157760        -0.009511\n",
              "key              -0.001492          0.019354  ...       0.132194         0.017808\n",
              "liveness         -0.004756          0.033009  ...       0.084770         0.016571\n",
              "loudness          0.005135          0.152954  ...       0.356330        -0.040662\n",
              "audio_mode        0.002538         -0.017211  ...      -0.015683        -0.001455\n",
              "speechiness       0.002792         -0.001236  ...       0.112558         0.024230\n",
              "tempo            -0.001297          0.085490  ...       0.025843        -0.011800\n",
              "time_signature   -0.002199          0.021609  ...       0.164075        -0.014701\n",
              "audio_valence    -0.001016         -0.006948  ...       1.000000        -0.045530\n",
              "song_popularity  -0.003074         -0.003960  ...      -0.045530         1.000000\n",
              "\n",
              "[15 rows x 15 columns]"
            ]
          },
          "metadata": {},
          "execution_count": 30
        }
      ]
    }
  ]
}